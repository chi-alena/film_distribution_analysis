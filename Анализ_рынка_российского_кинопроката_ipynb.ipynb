{
  "cells": [
    {
      "cell_type": "markdown",
      "metadata": {
        "id": "sIfNaMOxgFyK"
      },
      "source": [
        "## Исследование данных о российском кинопрокате\n",
        "\n"
      ]
    },
    {
      "cell_type": "markdown",
      "metadata": {
        "id": "-x6qhnt4hrFA"
      },
      "source": [
        "Планируется работать с данными, опубликованными на портале открытых данных Министерства культуры.\n",
        "Набор данных содержит информацию о прокатных удостоверениях, сборах и государственной поддержке фильмов, а также информацию с сайта КиноПоиск."
      ]
    },
    {
      "cell_type": "markdown",
      "metadata": {
        "id": "17OSN3eEhrFA"
      },
      "source": [
        "**Задача:**\n",
        "Изучить рынок российского кинопроката и выявить текущие тренды. Уделите внимание фильмам, которые получили государственную поддержку."
      ]
    },
    {
      "cell_type": "markdown",
      "metadata": {
        "id": "srBee78jhrFA"
      },
      "source": [
        "title — название фильма;\n",
        "\n",
        "puNumber — номер прокатного удостоверения;\n",
        "\n",
        "show_start_date — дата премьеры фильма;\n",
        "\n",
        "type — тип фильма;\n",
        "\n",
        "film_studio — студия-производитель;\n",
        "\n",
        "production_country — страна-производитель;\n",
        "\n",
        "director — режиссёр;\n",
        "producer — продюсер;\n",
        "age_restriction — возрастная категория;\n",
        "refundable_support — объём возвратных средств государственной поддержки;\n",
        "nonrefundable_support — объём невозвратных средств государственной поддержки;\n",
        "financing_source — источник государственного финансирования;\n",
        "budget — общий бюджет фильма;\n",
        "ratings — рейтинг фильма на КиноПоиске;\n",
        "genres — жанр фильма.\n",
        "puNumber — номер прокатного удостоверения;\n",
        "box_office — сборы в рублях"
      ]
    },
    {
      "cell_type": "markdown",
      "metadata": {
        "id": "3bSlkCsbgFyL"
      },
      "source": [
        "### Шаг 1. Откройте файлы с данными и объедините их в один датафрейм.\n",
        "\n",
        "Объедините данные таким образом, чтобы все объекты из датасета `mkrf_movies` обязательно вошли в получившийся датафрейм.\n",
        "\n",
        "<div id=\"accordion\">\n",
        "    <div class=\"card\">\n",
        "        <div class=\"card-header\" id=\"headingThree\">\n",
        "            <button class=\"btn btn-link collapsed\" data-toggle=\"collapse\" data-target=\"#collapseHint_0\" aria-expanded=\"false\" aria-controls=\"collapseHint_0\">Подсказка</button>\n",
        "        </div>\n",
        "        <div id=\"collapseHint_0\" class=\"collapse\" aria-labelledby=\"headingThree\" data-parent=\"#accordion\">\n",
        "            <div class=\"card-body\">\n",
        "Обратите внимание на тип данных столбца, по которому будете соединять датафреймы. Тип данных этих столбцов должен быть одинаковым в обоих датафреймах.\n",
        "            </div>\n",
        "        </div>\n",
        "    </div>\n",
        "</div>"
      ]
    },
    {
      "cell_type": "code",
      "execution_count": null,
      "metadata": {
        "id": "dw87FlzMgFyM"
      },
      "outputs": [],
      "source": [
        "#импортируем библеотеки\n",
        "import pandas as pd\n",
        "import seaborn as sns"
      ]
    },
    {
      "cell_type": "code",
      "execution_count": null,
      "metadata": {
        "id": "GL6okfA9hrFC"
      },
      "outputs": [],
      "source": [
        "# настройки для удобства визуального восприятия\n",
        "pd.set_option('display.max_colwidth', None)\n",
        "pd.set_option('display.float_format', '{:.2f}'.format)"
      ]
    },
    {
      "cell_type": "code",
      "execution_count": null,
      "metadata": {
        "scrolled": true,
        "id": "J8gMn4XrhrFC",
        "outputId": "dbeb8ddb-9202-491a-be41-31feb5944b38"
      },
      "outputs": [
        {
          "name": "stdout",
          "output_type": "stream",
          "text": [
            "<class 'pandas.core.frame.DataFrame'>\n",
            "Int64Index: 7485 entries, 0 to 7485\n",
            "Data columns (total 15 columns):\n",
            " #   Column                 Non-Null Count  Dtype  \n",
            "---  ------                 --------------  -----  \n",
            " 0   title                  7485 non-null   object \n",
            " 1   puNumber               7485 non-null   int64  \n",
            " 2   show_start_date        7485 non-null   object \n",
            " 3   type                   7485 non-null   object \n",
            " 4   film_studio            7467 non-null   object \n",
            " 5   production_country     7483 non-null   object \n",
            " 6   director               7476 non-null   object \n",
            " 7   producer               6917 non-null   object \n",
            " 8   age_restriction        7485 non-null   object \n",
            " 9   refundable_support     332 non-null    float64\n",
            " 10  nonrefundable_support  332 non-null    float64\n",
            " 11  budget                 332 non-null    float64\n",
            " 12  financing_source       332 non-null    object \n",
            " 13  ratings                6519 non-null   object \n",
            " 14  genres                 6510 non-null   object \n",
            "dtypes: float64(3), int64(1), object(11)\n",
            "memory usage: 935.6+ KB\n"
          ]
        },
        {
          "data": {
            "text/html": [
              "<div>\n",
              "<style scoped>\n",
              "    .dataframe tbody tr th:only-of-type {\n",
              "        vertical-align: middle;\n",
              "    }\n",
              "\n",
              "    .dataframe tbody tr th {\n",
              "        vertical-align: top;\n",
              "    }\n",
              "\n",
              "    .dataframe thead th {\n",
              "        text-align: right;\n",
              "    }\n",
              "</style>\n",
              "<table border=\"1\" class=\"dataframe\">\n",
              "  <thead>\n",
              "    <tr style=\"text-align: right;\">\n",
              "      <th></th>\n",
              "      <th>title</th>\n",
              "      <th>puNumber</th>\n",
              "      <th>show_start_date</th>\n",
              "      <th>type</th>\n",
              "      <th>film_studio</th>\n",
              "      <th>production_country</th>\n",
              "      <th>director</th>\n",
              "      <th>producer</th>\n",
              "      <th>age_restriction</th>\n",
              "      <th>refundable_support</th>\n",
              "      <th>nonrefundable_support</th>\n",
              "      <th>budget</th>\n",
              "      <th>financing_source</th>\n",
              "      <th>ratings</th>\n",
              "      <th>genres</th>\n",
              "    </tr>\n",
              "  </thead>\n",
              "  <tbody>\n",
              "    <tr>\n",
              "      <th>0</th>\n",
              "      <td>Открытый простор</td>\n",
              "      <td>221048915</td>\n",
              "      <td>2015-11-27T12:00:00.000Z</td>\n",
              "      <td>Художественный</td>\n",
              "      <td>Тачстоун Пикчерз, Кобальт Пикчерз, Бикон Пикчерз, Тиг Продакшнз</td>\n",
              "      <td>США</td>\n",
              "      <td>Кевин Костнер</td>\n",
              "      <td>Дэвид Валдес, Кевин Костнер, Джейк Эбертс</td>\n",
              "      <td>«18+» - запрещено для детей</td>\n",
              "      <td>NaN</td>\n",
              "      <td>NaN</td>\n",
              "      <td>NaN</td>\n",
              "      <td>NaN</td>\n",
              "      <td>7.2</td>\n",
              "      <td>боевик,драма,мелодрама</td>\n",
              "    </tr>\n",
              "    <tr>\n",
              "      <th>1</th>\n",
              "      <td>Особо важное задание</td>\n",
              "      <td>111013716</td>\n",
              "      <td>2016-09-13T12:00:00.000Z</td>\n",
              "      <td>Художественный</td>\n",
              "      <td>Киностудия \"Мосфильм\"</td>\n",
              "      <td>СССР</td>\n",
              "      <td>Е.Матвеев</td>\n",
              "      <td>NaN</td>\n",
              "      <td>«6+» - для детей старше 6 лет</td>\n",
              "      <td>NaN</td>\n",
              "      <td>NaN</td>\n",
              "      <td>NaN</td>\n",
              "      <td>NaN</td>\n",
              "      <td>6.6</td>\n",
              "      <td>драма,военный</td>\n",
              "    </tr>\n",
              "    <tr>\n",
              "      <th>2</th>\n",
              "      <td>Особо опасен</td>\n",
              "      <td>221038416</td>\n",
              "      <td>2016-10-10T12:00:00.000Z</td>\n",
              "      <td>Художественный</td>\n",
              "      <td>Юниверсал Пикчерз, Кикстарт Продакшнз, Марк Платт Продакшнз, Рилейтивити Медиа, Спайгласс Интертейнмент, Стилкин Филмз, Топ Кау Продакшнз</td>\n",
              "      <td>США</td>\n",
              "      <td>Тимур Бекмамбетов</td>\n",
              "      <td>Джим Лемли, Джейсон Нетер, Марк Е.Платт, Яйн Смит</td>\n",
              "      <td>«18+» - запрещено для детей</td>\n",
              "      <td>NaN</td>\n",
              "      <td>NaN</td>\n",
              "      <td>NaN</td>\n",
              "      <td>NaN</td>\n",
              "      <td>6.8</td>\n",
              "      <td>фантастика,боевик,триллер</td>\n",
              "    </tr>\n",
              "    <tr>\n",
              "      <th>3</th>\n",
              "      <td>Особо опасен</td>\n",
              "      <td>221026916</td>\n",
              "      <td>2016-06-10T12:00:00.000Z</td>\n",
              "      <td>Художественный</td>\n",
              "      <td>Юниверсал Пикчерз, Кикстарт Продакшнз, Марк Платт Продакшнз, Рилейтивити Медиа, Спайгласс Интертейнмент, Стилкин Филмз, Топ Кау Продакшнз</td>\n",
              "      <td>США</td>\n",
              "      <td>Тимур Бекмамбетов</td>\n",
              "      <td>Джим Лемли, Джейсон Нетер, Марк Е.Платт, Яйн Смит</td>\n",
              "      <td>«18+» - запрещено для детей</td>\n",
              "      <td>NaN</td>\n",
              "      <td>NaN</td>\n",
              "      <td>NaN</td>\n",
              "      <td>NaN</td>\n",
              "      <td>6.8</td>\n",
              "      <td>фантастика,боевик,триллер</td>\n",
              "    </tr>\n",
              "    <tr>\n",
              "      <th>4</th>\n",
              "      <td>Особо опасен</td>\n",
              "      <td>221030815</td>\n",
              "      <td>2015-07-29T12:00:00.000Z</td>\n",
              "      <td>Художественный</td>\n",
              "      <td>Юниверсал Пикчерз, Кикстарт Продакшнз, Марк Платт Продакшнз, Рилейтивити Медиа, Спайгласс Интертейнмент, Стилкин Филмз, Топ Кау Продакшнз</td>\n",
              "      <td>США</td>\n",
              "      <td>Тимур Бекмамбетов</td>\n",
              "      <td>Джим Лемли, Джейсон Нетер, Марк Е.Платт, Яйн Смит</td>\n",
              "      <td>«18+» - запрещено для детей</td>\n",
              "      <td>NaN</td>\n",
              "      <td>NaN</td>\n",
              "      <td>NaN</td>\n",
              "      <td>NaN</td>\n",
              "      <td>6.8</td>\n",
              "      <td>фантастика,боевик,триллер</td>\n",
              "    </tr>\n",
              "    <tr>\n",
              "      <th>5</th>\n",
              "      <td>Остановился поезд</td>\n",
              "      <td>111013816</td>\n",
              "      <td>2016-09-13T12:00:00.000Z</td>\n",
              "      <td>Художественный</td>\n",
              "      <td>Киностудия \"Мосфильм\"</td>\n",
              "      <td>СССР</td>\n",
              "      <td>В.Абдрашитов</td>\n",
              "      <td>NaN</td>\n",
              "      <td>«6+» - для детей старше 6 лет</td>\n",
              "      <td>NaN</td>\n",
              "      <td>NaN</td>\n",
              "      <td>NaN</td>\n",
              "      <td>NaN</td>\n",
              "      <td>7.7</td>\n",
              "      <td>драма</td>\n",
              "    </tr>\n",
              "    <tr>\n",
              "      <th>6</th>\n",
              "      <td>Любовь и голуби</td>\n",
              "      <td>111007013</td>\n",
              "      <td>2013-10-18T12:00:00.000Z</td>\n",
              "      <td>Художественный</td>\n",
              "      <td>Киностудия \"Мосфильм\"</td>\n",
              "      <td>СССР</td>\n",
              "      <td>В.Меньшов</td>\n",
              "      <td>NaN</td>\n",
              "      <td>«12+» - для детей старше 12 лет</td>\n",
              "      <td>NaN</td>\n",
              "      <td>NaN</td>\n",
              "      <td>NaN</td>\n",
              "      <td>NaN</td>\n",
              "      <td>8.3</td>\n",
              "      <td>мелодрама,комедия</td>\n",
              "    </tr>\n",
              "    <tr>\n",
              "      <th>7</th>\n",
              "      <td>Любовь и сигареты</td>\n",
              "      <td>221074614</td>\n",
              "      <td>2014-12-29T12:00:00.000Z</td>\n",
              "      <td>Художественный</td>\n",
              "      <td>Юнайтед Артистс, Грин Стрит Филмз, Айкон Интертейнмент Интернэшнл</td>\n",
              "      <td>США</td>\n",
              "      <td>Джон Туртурро</td>\n",
              "      <td>Джон Пенотти, Джон Туртурро</td>\n",
              "      <td>«18+» - запрещено для детей</td>\n",
              "      <td>NaN</td>\n",
              "      <td>NaN</td>\n",
              "      <td>NaN</td>\n",
              "      <td>NaN</td>\n",
              "      <td>6.6</td>\n",
              "      <td>мюзикл,мелодрама,комедия</td>\n",
              "    </tr>\n",
              "    <tr>\n",
              "      <th>8</th>\n",
              "      <td>Отпетые мошенники.</td>\n",
              "      <td>121011416</td>\n",
              "      <td>2016-05-05T12:00:00.000Z</td>\n",
              "      <td>Художественный</td>\n",
              "      <td>Пульсар Продюксьон, ТФ1 Фильм</td>\n",
              "      <td>Франция</td>\n",
              "      <td>Эрик Беснард</td>\n",
              "      <td>Патрис Леду</td>\n",
              "      <td>«18+» - запрещено для детей</td>\n",
              "      <td>NaN</td>\n",
              "      <td>NaN</td>\n",
              "      <td>NaN</td>\n",
              "      <td>NaN</td>\n",
              "      <td>8.0</td>\n",
              "      <td>комедия,криминал</td>\n",
              "    </tr>\n",
              "    <tr>\n",
              "      <th>9</th>\n",
              "      <td>Отпуск за свой счет</td>\n",
              "      <td>111019114</td>\n",
              "      <td>2014-12-01T12:00:00.000Z</td>\n",
              "      <td>Художественный</td>\n",
              "      <td>Киностудия \"Мосфильм\", Телевидение ВНР</td>\n",
              "      <td>СССР, Венгрия</td>\n",
              "      <td>В.Титов</td>\n",
              "      <td>NaN</td>\n",
              "      <td>«12+» - для детей старше 12 лет</td>\n",
              "      <td>NaN</td>\n",
              "      <td>NaN</td>\n",
              "      <td>NaN</td>\n",
              "      <td>NaN</td>\n",
              "      <td>7.8</td>\n",
              "      <td>мелодрама,комедия</td>\n",
              "    </tr>\n",
              "  </tbody>\n",
              "</table>\n",
              "</div>"
            ],
            "text/plain": [
              "                  title   puNumber           show_start_date            type  \\\n",
              "0      Открытый простор  221048915  2015-11-27T12:00:00.000Z  Художественный   \n",
              "1  Особо важное задание  111013716  2016-09-13T12:00:00.000Z  Художественный   \n",
              "2          Особо опасен  221038416  2016-10-10T12:00:00.000Z  Художественный   \n",
              "3          Особо опасен  221026916  2016-06-10T12:00:00.000Z  Художественный   \n",
              "4          Особо опасен  221030815  2015-07-29T12:00:00.000Z  Художественный   \n",
              "5     Остановился поезд  111013816  2016-09-13T12:00:00.000Z  Художественный   \n",
              "6       Любовь и голуби  111007013  2013-10-18T12:00:00.000Z  Художественный   \n",
              "7     Любовь и сигареты  221074614  2014-12-29T12:00:00.000Z  Художественный   \n",
              "8    Отпетые мошенники.  121011416  2016-05-05T12:00:00.000Z  Художественный   \n",
              "9   Отпуск за свой счет  111019114  2014-12-01T12:00:00.000Z  Художественный   \n",
              "\n",
              "                                                                                                                                 film_studio  \\\n",
              "0                                                                            Тачстоун Пикчерз, Кобальт Пикчерз, Бикон Пикчерз, Тиг Продакшнз   \n",
              "1                                                                                                                      Киностудия \"Мосфильм\"   \n",
              "2  Юниверсал Пикчерз, Кикстарт Продакшнз, Марк Платт Продакшнз, Рилейтивити Медиа, Спайгласс Интертейнмент, Стилкин Филмз, Топ Кау Продакшнз   \n",
              "3  Юниверсал Пикчерз, Кикстарт Продакшнз, Марк Платт Продакшнз, Рилейтивити Медиа, Спайгласс Интертейнмент, Стилкин Филмз, Топ Кау Продакшнз   \n",
              "4  Юниверсал Пикчерз, Кикстарт Продакшнз, Марк Платт Продакшнз, Рилейтивити Медиа, Спайгласс Интертейнмент, Стилкин Филмз, Топ Кау Продакшнз   \n",
              "5                                                                                                                      Киностудия \"Мосфильм\"   \n",
              "6                                                                                                                      Киностудия \"Мосфильм\"   \n",
              "7                                                                          Юнайтед Артистс, Грин Стрит Филмз, Айкон Интертейнмент Интернэшнл   \n",
              "8                                                                                                             Пульсар Продюксьон, ТФ1 Фильм    \n",
              "9                                                                                                     Киностудия \"Мосфильм\", Телевидение ВНР   \n",
              "\n",
              "  production_country           director  \\\n",
              "0                США      Кевин Костнер   \n",
              "1               СССР          Е.Матвеев   \n",
              "2                США  Тимур Бекмамбетов   \n",
              "3                США  Тимур Бекмамбетов   \n",
              "4                США  Тимур Бекмамбетов   \n",
              "5               СССР       В.Абдрашитов   \n",
              "6               СССР          В.Меньшов   \n",
              "7                США      Джон Туртурро   \n",
              "8            Франция       Эрик Беснард   \n",
              "9      СССР, Венгрия            В.Титов   \n",
              "\n",
              "                                            producer  \\\n",
              "0          Дэвид Валдес, Кевин Костнер, Джейк Эбертс   \n",
              "1                                                NaN   \n",
              "2  Джим Лемли, Джейсон Нетер, Марк Е.Платт, Яйн Смит   \n",
              "3  Джим Лемли, Джейсон Нетер, Марк Е.Платт, Яйн Смит   \n",
              "4  Джим Лемли, Джейсон Нетер, Марк Е.Платт, Яйн Смит   \n",
              "5                                                NaN   \n",
              "6                                                NaN   \n",
              "7                        Джон Пенотти, Джон Туртурро   \n",
              "8                                        Патрис Леду   \n",
              "9                                                NaN   \n",
              "\n",
              "                   age_restriction  refundable_support  nonrefundable_support  \\\n",
              "0      «18+» - запрещено для детей                 NaN                    NaN   \n",
              "1    «6+» - для детей старше 6 лет                 NaN                    NaN   \n",
              "2      «18+» - запрещено для детей                 NaN                    NaN   \n",
              "3      «18+» - запрещено для детей                 NaN                    NaN   \n",
              "4      «18+» - запрещено для детей                 NaN                    NaN   \n",
              "5    «6+» - для детей старше 6 лет                 NaN                    NaN   \n",
              "6  «12+» - для детей старше 12 лет                 NaN                    NaN   \n",
              "7      «18+» - запрещено для детей                 NaN                    NaN   \n",
              "8      «18+» - запрещено для детей                 NaN                    NaN   \n",
              "9  «12+» - для детей старше 12 лет                 NaN                    NaN   \n",
              "\n",
              "   budget financing_source ratings                     genres  \n",
              "0     NaN              NaN     7.2     боевик,драма,мелодрама  \n",
              "1     NaN              NaN     6.6              драма,военный  \n",
              "2     NaN              NaN     6.8  фантастика,боевик,триллер  \n",
              "3     NaN              NaN     6.8  фантастика,боевик,триллер  \n",
              "4     NaN              NaN     6.8  фантастика,боевик,триллер  \n",
              "5     NaN              NaN     7.7                      драма  \n",
              "6     NaN              NaN     8.3          мелодрама,комедия  \n",
              "7     NaN              NaN     6.6   мюзикл,мелодрама,комедия  \n",
              "8     NaN              NaN     8.0           комедия,криминал  \n",
              "9     NaN              NaN     7.8          мелодрама,комедия  "
            ]
          },
          "execution_count": 3,
          "metadata": {},
          "output_type": "execute_result"
        }
      ],
      "source": [
        "# при чтения файла обнаружен object вместо int в puNumber, производжим замену\n",
        "data_one = pd.read_csv('/datasets/mkrf_movies.csv')\n",
        "\n",
        "data_one = data_one.drop(data_one[data_one['puNumber'] == 'нет'].index)\n",
        "data_one['puNumber'] = data_one['puNumber'].astype('int')\n",
        "data_one.info()\n",
        "data_one.head(10)\n",
        "\n",
        "\n",
        "\n"
      ]
    },
    {
      "cell_type": "code",
      "execution_count": null,
      "metadata": {
        "scrolled": true,
        "id": "K9Dv8sG8hrFC",
        "outputId": "c0e4075b-e58d-4dfc-af41-7dbacc176e05"
      },
      "outputs": [
        {
          "name": "stdout",
          "output_type": "stream",
          "text": [
            "<class 'pandas.core.frame.DataFrame'>\n",
            "RangeIndex: 3158 entries, 0 to 3157\n",
            "Data columns (total 2 columns):\n",
            " #   Column      Non-Null Count  Dtype  \n",
            "---  ------      --------------  -----  \n",
            " 0   puNumber    3158 non-null   int64  \n",
            " 1   box_office  3158 non-null   float64\n",
            "dtypes: float64(1), int64(1)\n",
            "memory usage: 49.5 KB\n"
          ]
        },
        {
          "data": {
            "text/html": [
              "<div>\n",
              "<style scoped>\n",
              "    .dataframe tbody tr th:only-of-type {\n",
              "        vertical-align: middle;\n",
              "    }\n",
              "\n",
              "    .dataframe tbody tr th {\n",
              "        vertical-align: top;\n",
              "    }\n",
              "\n",
              "    .dataframe thead th {\n",
              "        text-align: right;\n",
              "    }\n",
              "</style>\n",
              "<table border=\"1\" class=\"dataframe\">\n",
              "  <thead>\n",
              "    <tr style=\"text-align: right;\">\n",
              "      <th></th>\n",
              "      <th>puNumber</th>\n",
              "      <th>box_office</th>\n",
              "    </tr>\n",
              "  </thead>\n",
              "  <tbody>\n",
              "    <tr>\n",
              "      <th>0</th>\n",
              "      <td>111000113</td>\n",
              "      <td>2450.00</td>\n",
              "    </tr>\n",
              "    <tr>\n",
              "      <th>1</th>\n",
              "      <td>111000115</td>\n",
              "      <td>61040.00</td>\n",
              "    </tr>\n",
              "    <tr>\n",
              "      <th>2</th>\n",
              "      <td>111000116</td>\n",
              "      <td>153030013.40</td>\n",
              "    </tr>\n",
              "    <tr>\n",
              "      <th>3</th>\n",
              "      <td>111000117</td>\n",
              "      <td>12260956.00</td>\n",
              "    </tr>\n",
              "    <tr>\n",
              "      <th>4</th>\n",
              "      <td>111000118</td>\n",
              "      <td>163684057.79</td>\n",
              "    </tr>\n",
              "    <tr>\n",
              "      <th>5</th>\n",
              "      <td>111000119</td>\n",
              "      <td>4293649.51</td>\n",
              "    </tr>\n",
              "    <tr>\n",
              "      <th>6</th>\n",
              "      <td>111000212</td>\n",
              "      <td>200.00</td>\n",
              "    </tr>\n",
              "    <tr>\n",
              "      <th>7</th>\n",
              "      <td>111000216</td>\n",
              "      <td>355567.00</td>\n",
              "    </tr>\n",
              "    <tr>\n",
              "      <th>8</th>\n",
              "      <td>111000313</td>\n",
              "      <td>710.00</td>\n",
              "    </tr>\n",
              "    <tr>\n",
              "      <th>9</th>\n",
              "      <td>111000314</td>\n",
              "      <td>1607970.00</td>\n",
              "    </tr>\n",
              "  </tbody>\n",
              "</table>\n",
              "</div>"
            ],
            "text/plain": [
              "    puNumber   box_office\n",
              "0  111000113      2450.00\n",
              "1  111000115     61040.00\n",
              "2  111000116 153030013.40\n",
              "3  111000117  12260956.00\n",
              "4  111000118 163684057.79\n",
              "5  111000119   4293649.51\n",
              "6  111000212       200.00\n",
              "7  111000216    355567.00\n",
              "8  111000313       710.00\n",
              "9  111000314   1607970.00"
            ]
          },
          "execution_count": 4,
          "metadata": {},
          "output_type": "execute_result"
        }
      ],
      "source": [
        "#читаем второй дата-фрейм\n",
        "data_two = pd.read_csv('/datasets/mkrf_shows.csv')\n",
        "\n",
        "data_two.info()\n",
        "data_two.head(10)"
      ]
    },
    {
      "cell_type": "code",
      "execution_count": null,
      "metadata": {
        "scrolled": true,
        "id": "8CfiClOQhrFC",
        "outputId": "dca51f8b-31b9-4e21-8a40-28323f7f02d0"
      },
      "outputs": [
        {
          "name": "stdout",
          "output_type": "stream",
          "text": [
            "<class 'pandas.core.frame.DataFrame'>\n",
            "Int64Index: 7485 entries, 0 to 7484\n",
            "Data columns (total 16 columns):\n",
            " #   Column                 Non-Null Count  Dtype  \n",
            "---  ------                 --------------  -----  \n",
            " 0   title                  7485 non-null   object \n",
            " 1   puNumber               7485 non-null   int64  \n",
            " 2   show_start_date        7485 non-null   object \n",
            " 3   type                   7485 non-null   object \n",
            " 4   film_studio            7467 non-null   object \n",
            " 5   production_country     7483 non-null   object \n",
            " 6   director               7476 non-null   object \n",
            " 7   producer               6917 non-null   object \n",
            " 8   age_restriction        7485 non-null   object \n",
            " 9   refundable_support     332 non-null    float64\n",
            " 10  nonrefundable_support  332 non-null    float64\n",
            " 11  budget                 332 non-null    float64\n",
            " 12  financing_source       332 non-null    object \n",
            " 13  ratings                6519 non-null   object \n",
            " 14  genres                 6510 non-null   object \n",
            " 15  box_office             3158 non-null   float64\n",
            "dtypes: float64(4), int64(1), object(11)\n",
            "memory usage: 994.1+ KB\n"
          ]
        },
        {
          "data": {
            "text/html": [
              "<div>\n",
              "<style scoped>\n",
              "    .dataframe tbody tr th:only-of-type {\n",
              "        vertical-align: middle;\n",
              "    }\n",
              "\n",
              "    .dataframe tbody tr th {\n",
              "        vertical-align: top;\n",
              "    }\n",
              "\n",
              "    .dataframe thead th {\n",
              "        text-align: right;\n",
              "    }\n",
              "</style>\n",
              "<table border=\"1\" class=\"dataframe\">\n",
              "  <thead>\n",
              "    <tr style=\"text-align: right;\">\n",
              "      <th></th>\n",
              "      <th>title</th>\n",
              "      <th>puNumber</th>\n",
              "      <th>show_start_date</th>\n",
              "      <th>type</th>\n",
              "      <th>film_studio</th>\n",
              "      <th>production_country</th>\n",
              "      <th>director</th>\n",
              "      <th>producer</th>\n",
              "      <th>age_restriction</th>\n",
              "      <th>refundable_support</th>\n",
              "      <th>nonrefundable_support</th>\n",
              "      <th>budget</th>\n",
              "      <th>financing_source</th>\n",
              "      <th>ratings</th>\n",
              "      <th>genres</th>\n",
              "      <th>box_office</th>\n",
              "    </tr>\n",
              "  </thead>\n",
              "  <tbody>\n",
              "    <tr>\n",
              "      <th>0</th>\n",
              "      <td>Открытый простор</td>\n",
              "      <td>221048915</td>\n",
              "      <td>2015-11-27T12:00:00.000Z</td>\n",
              "      <td>Художественный</td>\n",
              "      <td>Тачстоун Пикчерз, Кобальт Пикчерз, Бикон Пикчерз, Тиг Продакшнз</td>\n",
              "      <td>США</td>\n",
              "      <td>Кевин Костнер</td>\n",
              "      <td>Дэвид Валдес, Кевин Костнер, Джейк Эбертс</td>\n",
              "      <td>«18+» - запрещено для детей</td>\n",
              "      <td>NaN</td>\n",
              "      <td>NaN</td>\n",
              "      <td>NaN</td>\n",
              "      <td>NaN</td>\n",
              "      <td>7.2</td>\n",
              "      <td>боевик,драма,мелодрама</td>\n",
              "      <td>NaN</td>\n",
              "    </tr>\n",
              "    <tr>\n",
              "      <th>1</th>\n",
              "      <td>Особо важное задание</td>\n",
              "      <td>111013716</td>\n",
              "      <td>2016-09-13T12:00:00.000Z</td>\n",
              "      <td>Художественный</td>\n",
              "      <td>Киностудия \"Мосфильм\"</td>\n",
              "      <td>СССР</td>\n",
              "      <td>Е.Матвеев</td>\n",
              "      <td>NaN</td>\n",
              "      <td>«6+» - для детей старше 6 лет</td>\n",
              "      <td>NaN</td>\n",
              "      <td>NaN</td>\n",
              "      <td>NaN</td>\n",
              "      <td>NaN</td>\n",
              "      <td>6.6</td>\n",
              "      <td>драма,военный</td>\n",
              "      <td>NaN</td>\n",
              "    </tr>\n",
              "    <tr>\n",
              "      <th>2</th>\n",
              "      <td>Особо опасен</td>\n",
              "      <td>221038416</td>\n",
              "      <td>2016-10-10T12:00:00.000Z</td>\n",
              "      <td>Художественный</td>\n",
              "      <td>Юниверсал Пикчерз, Кикстарт Продакшнз, Марк Платт Продакшнз, Рилейтивити Медиа, Спайгласс Интертейнмент, Стилкин Филмз, Топ Кау Продакшнз</td>\n",
              "      <td>США</td>\n",
              "      <td>Тимур Бекмамбетов</td>\n",
              "      <td>Джим Лемли, Джейсон Нетер, Марк Е.Платт, Яйн Смит</td>\n",
              "      <td>«18+» - запрещено для детей</td>\n",
              "      <td>NaN</td>\n",
              "      <td>NaN</td>\n",
              "      <td>NaN</td>\n",
              "      <td>NaN</td>\n",
              "      <td>6.8</td>\n",
              "      <td>фантастика,боевик,триллер</td>\n",
              "      <td>NaN</td>\n",
              "    </tr>\n",
              "    <tr>\n",
              "      <th>3</th>\n",
              "      <td>Особо опасен</td>\n",
              "      <td>221026916</td>\n",
              "      <td>2016-06-10T12:00:00.000Z</td>\n",
              "      <td>Художественный</td>\n",
              "      <td>Юниверсал Пикчерз, Кикстарт Продакшнз, Марк Платт Продакшнз, Рилейтивити Медиа, Спайгласс Интертейнмент, Стилкин Филмз, Топ Кау Продакшнз</td>\n",
              "      <td>США</td>\n",
              "      <td>Тимур Бекмамбетов</td>\n",
              "      <td>Джим Лемли, Джейсон Нетер, Марк Е.Платт, Яйн Смит</td>\n",
              "      <td>«18+» - запрещено для детей</td>\n",
              "      <td>NaN</td>\n",
              "      <td>NaN</td>\n",
              "      <td>NaN</td>\n",
              "      <td>NaN</td>\n",
              "      <td>6.8</td>\n",
              "      <td>фантастика,боевик,триллер</td>\n",
              "      <td>NaN</td>\n",
              "    </tr>\n",
              "    <tr>\n",
              "      <th>4</th>\n",
              "      <td>Особо опасен</td>\n",
              "      <td>221030815</td>\n",
              "      <td>2015-07-29T12:00:00.000Z</td>\n",
              "      <td>Художественный</td>\n",
              "      <td>Юниверсал Пикчерз, Кикстарт Продакшнз, Марк Платт Продакшнз, Рилейтивити Медиа, Спайгласс Интертейнмент, Стилкин Филмз, Топ Кау Продакшнз</td>\n",
              "      <td>США</td>\n",
              "      <td>Тимур Бекмамбетов</td>\n",
              "      <td>Джим Лемли, Джейсон Нетер, Марк Е.Платт, Яйн Смит</td>\n",
              "      <td>«18+» - запрещено для детей</td>\n",
              "      <td>NaN</td>\n",
              "      <td>NaN</td>\n",
              "      <td>NaN</td>\n",
              "      <td>NaN</td>\n",
              "      <td>6.8</td>\n",
              "      <td>фантастика,боевик,триллер</td>\n",
              "      <td>NaN</td>\n",
              "    </tr>\n",
              "    <tr>\n",
              "      <th>5</th>\n",
              "      <td>Остановился поезд</td>\n",
              "      <td>111013816</td>\n",
              "      <td>2016-09-13T12:00:00.000Z</td>\n",
              "      <td>Художественный</td>\n",
              "      <td>Киностудия \"Мосфильм\"</td>\n",
              "      <td>СССР</td>\n",
              "      <td>В.Абдрашитов</td>\n",
              "      <td>NaN</td>\n",
              "      <td>«6+» - для детей старше 6 лет</td>\n",
              "      <td>NaN</td>\n",
              "      <td>NaN</td>\n",
              "      <td>NaN</td>\n",
              "      <td>NaN</td>\n",
              "      <td>7.7</td>\n",
              "      <td>драма</td>\n",
              "      <td>NaN</td>\n",
              "    </tr>\n",
              "    <tr>\n",
              "      <th>6</th>\n",
              "      <td>Любовь и голуби</td>\n",
              "      <td>111007013</td>\n",
              "      <td>2013-10-18T12:00:00.000Z</td>\n",
              "      <td>Художественный</td>\n",
              "      <td>Киностудия \"Мосфильм\"</td>\n",
              "      <td>СССР</td>\n",
              "      <td>В.Меньшов</td>\n",
              "      <td>NaN</td>\n",
              "      <td>«12+» - для детей старше 12 лет</td>\n",
              "      <td>NaN</td>\n",
              "      <td>NaN</td>\n",
              "      <td>NaN</td>\n",
              "      <td>NaN</td>\n",
              "      <td>8.3</td>\n",
              "      <td>мелодрама,комедия</td>\n",
              "      <td>2700.00</td>\n",
              "    </tr>\n",
              "    <tr>\n",
              "      <th>7</th>\n",
              "      <td>Любовь и сигареты</td>\n",
              "      <td>221074614</td>\n",
              "      <td>2014-12-29T12:00:00.000Z</td>\n",
              "      <td>Художественный</td>\n",
              "      <td>Юнайтед Артистс, Грин Стрит Филмз, Айкон Интертейнмент Интернэшнл</td>\n",
              "      <td>США</td>\n",
              "      <td>Джон Туртурро</td>\n",
              "      <td>Джон Пенотти, Джон Туртурро</td>\n",
              "      <td>«18+» - запрещено для детей</td>\n",
              "      <td>NaN</td>\n",
              "      <td>NaN</td>\n",
              "      <td>NaN</td>\n",
              "      <td>NaN</td>\n",
              "      <td>6.6</td>\n",
              "      <td>мюзикл,мелодрама,комедия</td>\n",
              "      <td>NaN</td>\n",
              "    </tr>\n",
              "    <tr>\n",
              "      <th>8</th>\n",
              "      <td>Отпетые мошенники.</td>\n",
              "      <td>121011416</td>\n",
              "      <td>2016-05-05T12:00:00.000Z</td>\n",
              "      <td>Художественный</td>\n",
              "      <td>Пульсар Продюксьон, ТФ1 Фильм</td>\n",
              "      <td>Франция</td>\n",
              "      <td>Эрик Беснард</td>\n",
              "      <td>Патрис Леду</td>\n",
              "      <td>«18+» - запрещено для детей</td>\n",
              "      <td>NaN</td>\n",
              "      <td>NaN</td>\n",
              "      <td>NaN</td>\n",
              "      <td>NaN</td>\n",
              "      <td>8.0</td>\n",
              "      <td>комедия,криминал</td>\n",
              "      <td>NaN</td>\n",
              "    </tr>\n",
              "    <tr>\n",
              "      <th>9</th>\n",
              "      <td>Отпуск за свой счет</td>\n",
              "      <td>111019114</td>\n",
              "      <td>2014-12-01T12:00:00.000Z</td>\n",
              "      <td>Художественный</td>\n",
              "      <td>Киностудия \"Мосфильм\", Телевидение ВНР</td>\n",
              "      <td>СССР, Венгрия</td>\n",
              "      <td>В.Титов</td>\n",
              "      <td>NaN</td>\n",
              "      <td>«12+» - для детей старше 12 лет</td>\n",
              "      <td>NaN</td>\n",
              "      <td>NaN</td>\n",
              "      <td>NaN</td>\n",
              "      <td>NaN</td>\n",
              "      <td>7.8</td>\n",
              "      <td>мелодрама,комедия</td>\n",
              "      <td>NaN</td>\n",
              "    </tr>\n",
              "  </tbody>\n",
              "</table>\n",
              "</div>"
            ],
            "text/plain": [
              "                  title   puNumber           show_start_date            type  \\\n",
              "0      Открытый простор  221048915  2015-11-27T12:00:00.000Z  Художественный   \n",
              "1  Особо важное задание  111013716  2016-09-13T12:00:00.000Z  Художественный   \n",
              "2          Особо опасен  221038416  2016-10-10T12:00:00.000Z  Художественный   \n",
              "3          Особо опасен  221026916  2016-06-10T12:00:00.000Z  Художественный   \n",
              "4          Особо опасен  221030815  2015-07-29T12:00:00.000Z  Художественный   \n",
              "5     Остановился поезд  111013816  2016-09-13T12:00:00.000Z  Художественный   \n",
              "6       Любовь и голуби  111007013  2013-10-18T12:00:00.000Z  Художественный   \n",
              "7     Любовь и сигареты  221074614  2014-12-29T12:00:00.000Z  Художественный   \n",
              "8    Отпетые мошенники.  121011416  2016-05-05T12:00:00.000Z  Художественный   \n",
              "9   Отпуск за свой счет  111019114  2014-12-01T12:00:00.000Z  Художественный   \n",
              "\n",
              "                                                                                                                                 film_studio  \\\n",
              "0                                                                            Тачстоун Пикчерз, Кобальт Пикчерз, Бикон Пикчерз, Тиг Продакшнз   \n",
              "1                                                                                                                      Киностудия \"Мосфильм\"   \n",
              "2  Юниверсал Пикчерз, Кикстарт Продакшнз, Марк Платт Продакшнз, Рилейтивити Медиа, Спайгласс Интертейнмент, Стилкин Филмз, Топ Кау Продакшнз   \n",
              "3  Юниверсал Пикчерз, Кикстарт Продакшнз, Марк Платт Продакшнз, Рилейтивити Медиа, Спайгласс Интертейнмент, Стилкин Филмз, Топ Кау Продакшнз   \n",
              "4  Юниверсал Пикчерз, Кикстарт Продакшнз, Марк Платт Продакшнз, Рилейтивити Медиа, Спайгласс Интертейнмент, Стилкин Филмз, Топ Кау Продакшнз   \n",
              "5                                                                                                                      Киностудия \"Мосфильм\"   \n",
              "6                                                                                                                      Киностудия \"Мосфильм\"   \n",
              "7                                                                          Юнайтед Артистс, Грин Стрит Филмз, Айкон Интертейнмент Интернэшнл   \n",
              "8                                                                                                             Пульсар Продюксьон, ТФ1 Фильм    \n",
              "9                                                                                                     Киностудия \"Мосфильм\", Телевидение ВНР   \n",
              "\n",
              "  production_country           director  \\\n",
              "0                США      Кевин Костнер   \n",
              "1               СССР          Е.Матвеев   \n",
              "2                США  Тимур Бекмамбетов   \n",
              "3                США  Тимур Бекмамбетов   \n",
              "4                США  Тимур Бекмамбетов   \n",
              "5               СССР       В.Абдрашитов   \n",
              "6               СССР          В.Меньшов   \n",
              "7                США      Джон Туртурро   \n",
              "8            Франция       Эрик Беснард   \n",
              "9      СССР, Венгрия            В.Титов   \n",
              "\n",
              "                                            producer  \\\n",
              "0          Дэвид Валдес, Кевин Костнер, Джейк Эбертс   \n",
              "1                                                NaN   \n",
              "2  Джим Лемли, Джейсон Нетер, Марк Е.Платт, Яйн Смит   \n",
              "3  Джим Лемли, Джейсон Нетер, Марк Е.Платт, Яйн Смит   \n",
              "4  Джим Лемли, Джейсон Нетер, Марк Е.Платт, Яйн Смит   \n",
              "5                                                NaN   \n",
              "6                                                NaN   \n",
              "7                        Джон Пенотти, Джон Туртурро   \n",
              "8                                        Патрис Леду   \n",
              "9                                                NaN   \n",
              "\n",
              "                   age_restriction  refundable_support  nonrefundable_support  \\\n",
              "0      «18+» - запрещено для детей                 NaN                    NaN   \n",
              "1    «6+» - для детей старше 6 лет                 NaN                    NaN   \n",
              "2      «18+» - запрещено для детей                 NaN                    NaN   \n",
              "3      «18+» - запрещено для детей                 NaN                    NaN   \n",
              "4      «18+» - запрещено для детей                 NaN                    NaN   \n",
              "5    «6+» - для детей старше 6 лет                 NaN                    NaN   \n",
              "6  «12+» - для детей старше 12 лет                 NaN                    NaN   \n",
              "7      «18+» - запрещено для детей                 NaN                    NaN   \n",
              "8      «18+» - запрещено для детей                 NaN                    NaN   \n",
              "9  «12+» - для детей старше 12 лет                 NaN                    NaN   \n",
              "\n",
              "   budget financing_source ratings                     genres  box_office  \n",
              "0     NaN              NaN     7.2     боевик,драма,мелодрама         NaN  \n",
              "1     NaN              NaN     6.6              драма,военный         NaN  \n",
              "2     NaN              NaN     6.8  фантастика,боевик,триллер         NaN  \n",
              "3     NaN              NaN     6.8  фантастика,боевик,триллер         NaN  \n",
              "4     NaN              NaN     6.8  фантастика,боевик,триллер         NaN  \n",
              "5     NaN              NaN     7.7                      драма         NaN  \n",
              "6     NaN              NaN     8.3          мелодрама,комедия     2700.00  \n",
              "7     NaN              NaN     6.6   мюзикл,мелодрама,комедия         NaN  \n",
              "8     NaN              NaN     8.0           комедия,криминал         NaN  \n",
              "9     NaN              NaN     7.8          мелодрама,комедия         NaN  "
            ]
          },
          "execution_count": 5,
          "metadata": {},
          "output_type": "execute_result"
        }
      ],
      "source": [
        "#обьединяем две таблицы и получаем базовую информацию\n",
        "data = data_one.merge(data_two,on='puNumber',how='left')\n",
        "data.info()\n",
        "data.head(10)"
      ]
    },
    {
      "cell_type": "markdown",
      "metadata": {
        "id": "KLDGpPG0gFyM"
      },
      "source": [
        "### Шаг 2. Предобработка данных"
      ]
    },
    {
      "cell_type": "markdown",
      "metadata": {
        "id": "ssWwKXsxgFyO"
      },
      "source": [
        "#### Шаг 2.1. Проверьте типы данных\n",
        "\n",
        "- Проверьте типы данных в датафрейме и преобразуйте их там, где это необходимо."
      ]
    },
    {
      "cell_type": "code",
      "execution_count": null,
      "metadata": {
        "id": "VUU8p5mrhrFD",
        "outputId": "b9ccd92a-80b7-4838-8f3d-da0332d9cbb3"
      },
      "outputs": [
        {
          "name": "stdout",
          "output_type": "stream",
          "text": [
            "<class 'pandas.core.frame.DataFrame'>\n",
            "Int64Index: 7485 entries, 0 to 7484\n",
            "Data columns (total 16 columns):\n",
            " #   Column                 Non-Null Count  Dtype  \n",
            "---  ------                 --------------  -----  \n",
            " 0   title                  7485 non-null   object \n",
            " 1   puNumber               7485 non-null   int64  \n",
            " 2   show_start_date        7485 non-null   object \n",
            " 3   type                   7485 non-null   object \n",
            " 4   film_studio            7467 non-null   object \n",
            " 5   production_country     7483 non-null   object \n",
            " 6   director               7476 non-null   object \n",
            " 7   producer               6917 non-null   object \n",
            " 8   age_restriction        7485 non-null   object \n",
            " 9   refundable_support     332 non-null    float64\n",
            " 10  nonrefundable_support  332 non-null    float64\n",
            " 11  budget                 332 non-null    float64\n",
            " 12  financing_source       332 non-null    object \n",
            " 13  ratings                6519 non-null   object \n",
            " 14  genres                 6510 non-null   object \n",
            " 15  box_office             3158 non-null   float64\n",
            "dtypes: float64(4), int64(1), object(11)\n",
            "memory usage: 994.1+ KB\n"
          ]
        }
      ],
      "source": [
        "data.info() #изучаем тип данных"
      ]
    },
    {
      "cell_type": "code",
      "execution_count": null,
      "metadata": {
        "id": "kVGSplJOgFyO"
      },
      "outputs": [],
      "source": [
        "#переводим в нужный формат\n",
        "\n",
        "data['show_start_date'] = pd.to_datetime(data['show_start_date'], format='%Y-%m-%dT%H:%M:%S')\n",
        "\n",
        "data.drop(data[data['ratings'] == '99%'].index,inplace=True)\n",
        "data.drop(data[data['ratings'] == '83%'].index,inplace=True)\n",
        "data.drop(data[data['ratings'] == '64%'].index,inplace=True)\n",
        "data.drop(data[data['ratings'] == '91%'].index,inplace=True)\n",
        "data.drop(data[data['ratings'] == '94%'].index,inplace=True)\n",
        "data.drop(data[data['ratings'] == '90%'].index,inplace=True)\n",
        "data.drop(data[data['ratings'] == '19%'].index,inplace=True)\n",
        "data.drop(data[data['ratings'] == '88%'].index,inplace=True)\n",
        "data.drop(data[data['ratings'] == '89%'].index,inplace=True)\n",
        "data.drop(data[data['ratings'] == '98%'].index,inplace=True)\n",
        "data.drop(data[data['ratings'] == '79%'].index,inplace=True)\n",
        "data.drop(data[data['ratings'] == '28%'].index,inplace=True)\n",
        "data.drop(data[data['ratings'] == '97%'].index,inplace=True)\n",
        "data.drop(data[data['ratings'] == '62%'].index,inplace=True)\n",
        "data['ratings'] = pd.to_numeric(data['ratings'])\n",
        "\n",
        "\n",
        "\n",
        "\n",
        "\n",
        "\n",
        "\n",
        "\n",
        "\n"
      ]
    },
    {
      "cell_type": "code",
      "execution_count": null,
      "metadata": {
        "id": "zwcA_MSthrFD",
        "outputId": "63b82c45-ba38-4d94-a131-b9ab885b31b0"
      },
      "outputs": [
        {
          "name": "stdout",
          "output_type": "stream",
          "text": [
            "<class 'pandas.core.frame.DataFrame'>\n",
            "Int64Index: 7456 entries, 0 to 7484\n",
            "Data columns (total 16 columns):\n",
            " #   Column                 Non-Null Count  Dtype              \n",
            "---  ------                 --------------  -----              \n",
            " 0   title                  7456 non-null   object             \n",
            " 1   puNumber               7456 non-null   int64              \n",
            " 2   show_start_date        7456 non-null   datetime64[ns, UTC]\n",
            " 3   type                   7456 non-null   object             \n",
            " 4   film_studio            7438 non-null   object             \n",
            " 5   production_country     7454 non-null   object             \n",
            " 6   director               7447 non-null   object             \n",
            " 7   producer               6888 non-null   object             \n",
            " 8   age_restriction        7456 non-null   object             \n",
            " 9   refundable_support     330 non-null    float64            \n",
            " 10  nonrefundable_support  330 non-null    float64            \n",
            " 11  budget                 330 non-null    float64            \n",
            " 12  financing_source       330 non-null    object             \n",
            " 13  ratings                6490 non-null   float64            \n",
            " 14  genres                 6484 non-null   object             \n",
            " 15  box_office             3143 non-null   float64            \n",
            "dtypes: datetime64[ns, UTC](1), float64(5), int64(1), object(9)\n",
            "memory usage: 990.2+ KB\n"
          ]
        }
      ],
      "source": [
        "data.info() #проверка"
      ]
    },
    {
      "cell_type": "markdown",
      "metadata": {
        "id": "i0MOLbF-gFyP"
      },
      "source": [
        "#### Шаг 2.2. Изучите пропуски в датафрейме\n",
        "\n",
        "- Объясните, почему заполнили пропуски определённым образом или почему не стали этого делать."
      ]
    },
    {
      "cell_type": "code",
      "execution_count": null,
      "metadata": {
        "id": "iSEv1BrPhrFD",
        "outputId": "c91e8e34-7ab1-4521-83ba-48767e278b84"
      },
      "outputs": [
        {
          "name": "stdout",
          "output_type": "stream",
          "text": [
            "title                       0\n",
            "puNumber                    0\n",
            "show_start_date             0\n",
            "type                        0\n",
            "film_studio                18\n",
            "production_country          2\n",
            "director                    9\n",
            "producer                  568\n",
            "age_restriction             0\n",
            "refundable_support       7126\n",
            "nonrefundable_support    7126\n",
            "budget                   7126\n",
            "financing_source         7126\n",
            "ratings                   966\n",
            "genres                    972\n",
            "box_office               4313\n",
            "dtype: int64\n"
          ]
        }
      ],
      "source": [
        "print(data.isna().sum()) # выяыляем количество пропущенных значений для каждого столбца"
      ]
    },
    {
      "cell_type": "code",
      "execution_count": null,
      "metadata": {
        "id": "S49oe1kJhrFD"
      },
      "outputs": [],
      "source": [
        "# check\n",
        "# пропущенные значения бары\n",
        "\n",
        "def pass_value_barh(df):\n",
        "    try:\n",
        "        (\n",
        "            (df.isna().mean()*100)\n",
        "            .to_frame()\n",
        "            .rename(columns = {0:'space'})\n",
        "            .query('space > 0')\n",
        "            .sort_values(by = 'space', ascending = True)\n",
        "            .plot(kind = 'barh', figsize = (19,6), rot = -5, legend = False, fontsize = 16)\n",
        "            .set_title('Пример' + \"\\n\", fontsize = 22, color = 'SteelBlue')\n",
        "        );\n",
        "    except:\n",
        "        print('пропусков не осталось :) ')"
      ]
    },
    {
      "cell_type": "code",
      "execution_count": null,
      "metadata": {
        "id": "qsJucUdihrFE",
        "outputId": "3a11a6f1-66e6-4c21-ef1b-082a224630d7"
      },
      "outputs": [
        {
          "data": {
            "image/png": "[encoded data removed]",
            "text/plain": [
              "<Figure size 1368x432 with 1 Axes>"
            ]
          },
          "metadata": {
            "needs_background": "light"
          },
          "output_type": "display_data"
        }
      ],
      "source": [
        "pass_value_barh(data)"
      ]
    },
    {
      "cell_type": "code",
      "execution_count": null,
      "metadata": {
        "id": "2_VcmzqVhrFE"
      },
      "outputs": [],
      "source": [
        "data['director'] = data['director'].fillna('')\n",
        "data['director'] = data['director'].astype(str)\n",
        "\n",
        "data['genres'] = data['genres'].fillna('')\n",
        "data['genres'] = data['genres'].astype(str)"
      ]
    },
    {
      "cell_type": "markdown",
      "metadata": {
        "id": "8MJD_lkngFyP"
      },
      "source": [
        "**Вывод:**\n",
        "Учитывая идентичесное количество пропусков(7126) в столбцах(refundable_support — объём возвратных средств государственной поддержки;nonrefundable_support — объём невозвратных средств государственной поддержки;financing_source — источник государственного финансирования;budget — общий бюджет фильма) можно сделать вывод, что 2827 фильмов не имели государственной поддержки. Считаю, что заполнять эти данные для нашего исследование не нужно, так как наша задача проанализировать фильмы с государственной поддержкой."
      ]
    },
    {
      "cell_type": "markdown",
      "metadata": {
        "id": "4c6k1t9ygFyQ"
      },
      "source": [
        "#### Шаг 2.3. Изучите дубликаты в датафрейме\n",
        "- Проверьте, есть ли в данных дубликаты. Опишите причины, которые могли повлиять на появление дублей."
      ]
    },
    {
      "cell_type": "code",
      "execution_count": null,
      "metadata": {
        "id": "aKck8RIdgFyQ",
        "outputId": "0b5c2b8b-14d8-46a3-d609-85bea7d06b94"
      },
      "outputs": [
        {
          "name": "stdout",
          "output_type": "stream",
          "text": [
            "0\n"
          ]
        }
      ],
      "source": [
        "print(data.duplicated().sum()) # определяем наличие дупликатов"
      ]
    },
    {
      "cell_type": "code",
      "execution_count": null,
      "metadata": {
        "id": "7C65-UUDhrFE",
        "outputId": "e45d3c75-5a55-4ff5-e1b1-c6fb5a8f0311"
      },
      "outputs": [
        {
          "data": {
            "text/plain": [
              "title                    6742\n",
              "puNumber                 7454\n",
              "show_start_date          1960\n",
              "type                        8\n",
              "film_studio              5469\n",
              "production_country        946\n",
              "director                 4794\n",
              "producer                 5328\n",
              "age_restriction             5\n",
              "refundable_support         34\n",
              "nonrefundable_support      74\n",
              "budget                    289\n",
              "financing_source            3\n",
              "ratings                    80\n",
              "genres                    740\n",
              "box_office               2924\n",
              "dtype: int64"
            ]
          },
          "execution_count": 14,
          "metadata": {},
          "output_type": "execute_result"
        }
      ],
      "source": [
        "data.nunique() # определение неявных дубликатов\n"
      ]
    },
    {
      "cell_type": "code",
      "execution_count": null,
      "metadata": {
        "scrolled": false,
        "id": "K3ougKGlhrFE",
        "outputId": "3792f516-b8fa-4334-bdb7-cb78f45319e1"
      },
      "outputs": [
        {
          "data": {
            "text/html": [
              "<div>\n",
              "<style scoped>\n",
              "    .dataframe tbody tr th:only-of-type {\n",
              "        vertical-align: middle;\n",
              "    }\n",
              "\n",
              "    .dataframe tbody tr th {\n",
              "        vertical-align: top;\n",
              "    }\n",
              "\n",
              "    .dataframe thead th {\n",
              "        text-align: right;\n",
              "    }\n",
              "</style>\n",
              "<table border=\"1\" class=\"dataframe\">\n",
              "  <thead>\n",
              "    <tr style=\"text-align: right;\">\n",
              "      <th></th>\n",
              "      <th>title</th>\n",
              "      <th>puNumber</th>\n",
              "      <th>show_start_date</th>\n",
              "      <th>type</th>\n",
              "      <th>film_studio</th>\n",
              "      <th>production_country</th>\n",
              "      <th>director</th>\n",
              "      <th>producer</th>\n",
              "      <th>age_restriction</th>\n",
              "      <th>refundable_support</th>\n",
              "      <th>nonrefundable_support</th>\n",
              "      <th>budget</th>\n",
              "      <th>financing_source</th>\n",
              "      <th>ratings</th>\n",
              "      <th>genres</th>\n",
              "      <th>box_office</th>\n",
              "    </tr>\n",
              "  </thead>\n",
              "  <tbody>\n",
              "    <tr>\n",
              "      <th>4637</th>\n",
              "      <td>Как жениться и остаться холостым</td>\n",
              "      <td>221154310</td>\n",
              "      <td>2010-12-17 12:00:00+00:00</td>\n",
              "      <td>Художественный</td>\n",
              "      <td>Ше Вам, Скрипт Ассосье, Тэ Фэ 1 Фильм Продюксьон, Марс Дистрибусьон, Канал +</td>\n",
              "      <td>Франция</td>\n",
              "      <td>Эрик Лартиго</td>\n",
              "      <td>Амандин Било, Алан Шаба</td>\n",
              "      <td>«16+» - для детей старше 16 лет</td>\n",
              "      <td>NaN</td>\n",
              "      <td>NaN</td>\n",
              "      <td>NaN</td>\n",
              "      <td>NaN</td>\n",
              "      <td>7.00</td>\n",
              "      <td>мелодрама,комедия</td>\n",
              "      <td>NaN</td>\n",
              "    </tr>\n",
              "    <tr>\n",
              "      <th>4638</th>\n",
              "      <td>Иоанна - женщина на папском престоле /По роману Донны Вулфольк Кросс/</td>\n",
              "      <td>221154310</td>\n",
              "      <td>2010-12-17 12:00:00+00:00</td>\n",
              "      <td>Художественный</td>\n",
              "      <td>Константин Фильм, А Эр Ди Дегето Фильм, Дюне Филис, Икури Филмз, Медуза Фильм, У Эф А Интернэшнл Филм энд Ти Ви Продуцион, Юниверсум Филм</td>\n",
              "      <td>Германия - Великобритания - Италия - Испания</td>\n",
              "      <td>Зенке Вортманн</td>\n",
              "      <td>Оливер Бербен, Дорис Д.Хайнце, Фарук Элтан</td>\n",
              "      <td>«16+» - для детей старше 16 лет</td>\n",
              "      <td>NaN</td>\n",
              "      <td>NaN</td>\n",
              "      <td>NaN</td>\n",
              "      <td>NaN</td>\n",
              "      <td>7.60</td>\n",
              "      <td>драма,мелодрама,история</td>\n",
              "      <td>NaN</td>\n",
              "    </tr>\n",
              "    <tr>\n",
              "      <th>5066</th>\n",
              "      <td>Анализируй это!</td>\n",
              "      <td>221054410</td>\n",
              "      <td>2010-05-25 12:00:00+00:00</td>\n",
              "      <td>Художественный</td>\n",
              "      <td>Уорнер Бразерс, Вилладж Роудшоу Филмз ЛТД</td>\n",
              "      <td>США-Австралия</td>\n",
              "      <td>ХЭрольд Рэмис</td>\n",
              "      <td>Джейн Розенталь, Пола Уейнстейн</td>\n",
              "      <td>«16+» - для детей старше 16 лет</td>\n",
              "      <td>NaN</td>\n",
              "      <td>NaN</td>\n",
              "      <td>NaN</td>\n",
              "      <td>NaN</td>\n",
              "      <td>7.40</td>\n",
              "      <td>комедия,криминал</td>\n",
              "      <td>NaN</td>\n",
              "    </tr>\n",
              "    <tr>\n",
              "      <th>5067</th>\n",
              "      <td>Анализируй то!</td>\n",
              "      <td>221054410</td>\n",
              "      <td>2010-05-25 12:00:00+00:00</td>\n",
              "      <td>Художественный</td>\n",
              "      <td>Уорнер Бразерс, Виллидж Роадшоу Пикчерз, Эн-Пи-Пи Интертейнмент, Баалтимор Спринг Крик Пикчерз Фейс, Трайбека</td>\n",
              "      <td>США</td>\n",
              "      <td>Гарольд Реймис</td>\n",
              "      <td>Джейн Розенталь, Паул Уэйнстейн</td>\n",
              "      <td>«12+» - для детей старше 12 лет</td>\n",
              "      <td>NaN</td>\n",
              "      <td>NaN</td>\n",
              "      <td>NaN</td>\n",
              "      <td>NaN</td>\n",
              "      <td>6.80</td>\n",
              "      <td>комедия,криминал</td>\n",
              "      <td>NaN</td>\n",
              "    </tr>\n",
              "  </tbody>\n",
              "</table>\n",
              "</div>"
            ],
            "text/plain": [
              "                                                                      title  \\\n",
              "4637                                       Как жениться и остаться холостым   \n",
              "4638  Иоанна - женщина на папском престоле /По роману Донны Вулфольк Кросс/   \n",
              "5066                                                        Анализируй это!   \n",
              "5067                                                         Анализируй то!   \n",
              "\n",
              "       puNumber           show_start_date            type  \\\n",
              "4637  221154310 2010-12-17 12:00:00+00:00  Художественный   \n",
              "4638  221154310 2010-12-17 12:00:00+00:00  Художественный   \n",
              "5066  221054410 2010-05-25 12:00:00+00:00  Художественный   \n",
              "5067  221054410 2010-05-25 12:00:00+00:00  Художественный   \n",
              "\n",
              "                                                                                                                                      film_studio  \\\n",
              "4637                                                                 Ше Вам, Скрипт Ассосье, Тэ Фэ 1 Фильм Продюксьон, Марс Дистрибусьон, Канал +   \n",
              "4638   Константин Фильм, А Эр Ди Дегето Фильм, Дюне Филис, Икури Филмз, Медуза Фильм, У Эф А Интернэшнл Филм энд Ти Ви Продуцион, Юниверсум Филм    \n",
              "5066                                                                                                    Уорнер Бразерс, Вилладж Роудшоу Филмз ЛТД   \n",
              "5067                                Уорнер Бразерс, Виллидж Роадшоу Пикчерз, Эн-Пи-Пи Интертейнмент, Баалтимор Спринг Крик Пикчерз Фейс, Трайбека   \n",
              "\n",
              "                                production_country        director  \\\n",
              "4637                                       Франция    Эрик Лартиго   \n",
              "4638  Германия - Великобритания - Италия - Испания  Зенке Вортманн   \n",
              "5066                                 США-Австралия   ХЭрольд Рэмис   \n",
              "5067                                           США  Гарольд Реймис   \n",
              "\n",
              "                                        producer  \\\n",
              "4637                     Амандин Било, Алан Шаба   \n",
              "4638  Оливер Бербен, Дорис Д.Хайнце, Фарук Элтан   \n",
              "5066             Джейн Розенталь, Пола Уейнстейн   \n",
              "5067             Джейн Розенталь, Паул Уэйнстейн   \n",
              "\n",
              "                      age_restriction  refundable_support  \\\n",
              "4637  «16+» - для детей старше 16 лет                 NaN   \n",
              "4638  «16+» - для детей старше 16 лет                 NaN   \n",
              "5066  «16+» - для детей старше 16 лет                 NaN   \n",
              "5067  «12+» - для детей старше 12 лет                 NaN   \n",
              "\n",
              "      nonrefundable_support  budget financing_source  ratings  \\\n",
              "4637                    NaN     NaN              NaN     7.00   \n",
              "4638                    NaN     NaN              NaN     7.60   \n",
              "5066                    NaN     NaN              NaN     7.40   \n",
              "5067                    NaN     NaN              NaN     6.80   \n",
              "\n",
              "                       genres  box_office  \n",
              "4637        мелодрама,комедия         NaN  \n",
              "4638  драма,мелодрама,история         NaN  \n",
              "5066         комедия,криминал         NaN  \n",
              "5067         комедия,криминал         NaN  "
            ]
          },
          "execution_count": 15,
          "metadata": {},
          "output_type": "execute_result"
        }
      ],
      "source": [
        "data.loc[data['puNumber'].duplicated(keep=False)]"
      ]
    },
    {
      "cell_type": "code",
      "execution_count": null,
      "metadata": {
        "scrolled": false,
        "id": "uTHfEAkNhrFE",
        "outputId": "310feec9-37ec-4ae2-9ed7-cef3ec7794f3"
      },
      "outputs": [
        {
          "data": {
            "text/html": [
              "<div>\n",
              "<style scoped>\n",
              "    .dataframe tbody tr th:only-of-type {\n",
              "        vertical-align: middle;\n",
              "    }\n",
              "\n",
              "    .dataframe tbody tr th {\n",
              "        vertical-align: top;\n",
              "    }\n",
              "\n",
              "    .dataframe thead th {\n",
              "        text-align: right;\n",
              "    }\n",
              "</style>\n",
              "<table border=\"1\" class=\"dataframe\">\n",
              "  <thead>\n",
              "    <tr style=\"text-align: right;\">\n",
              "      <th></th>\n",
              "      <th>title</th>\n",
              "      <th>puNumber</th>\n",
              "      <th>show_start_date</th>\n",
              "      <th>type</th>\n",
              "      <th>film_studio</th>\n",
              "      <th>production_country</th>\n",
              "      <th>director</th>\n",
              "      <th>producer</th>\n",
              "      <th>age_restriction</th>\n",
              "      <th>refundable_support</th>\n",
              "      <th>nonrefundable_support</th>\n",
              "      <th>budget</th>\n",
              "      <th>financing_source</th>\n",
              "      <th>ratings</th>\n",
              "      <th>genres</th>\n",
              "      <th>box_office</th>\n",
              "    </tr>\n",
              "  </thead>\n",
              "  <tbody>\n",
              "    <tr>\n",
              "      <th>4504</th>\n",
              "      <td>Я ненавижу день святого Валентина</td>\n",
              "      <td>221139210</td>\n",
              "      <td>2010-12-03 12:00:00+00:00</td>\n",
              "      <td>Художественный</td>\n",
              "      <td>Блю Стар Пикчерз, Ай Хэйт Вдэй Продакшнз, Ай Си Би ИНтертейнмент Финанс, Мэй Бэнч Продакшнз</td>\n",
              "      <td>США</td>\n",
              "      <td>Ниа Вардалос</td>\n",
              "      <td>Доминик Йанно, Мэдлейн Шерак, Уильям Шерак</td>\n",
              "      <td>«16+» - для детей старше 16 лет</td>\n",
              "      <td>NaN</td>\n",
              "      <td>NaN</td>\n",
              "      <td>NaN</td>\n",
              "      <td>NaN</td>\n",
              "      <td>5.00</td>\n",
              "      <td>мелодрама,комедия</td>\n",
              "      <td>NaN</td>\n",
              "    </tr>\n",
              "    <tr>\n",
              "      <th>1704</th>\n",
              "      <td>Я, снова я и мама</td>\n",
              "      <td>121030213</td>\n",
              "      <td>2013-11-21 12:00:00+00:00</td>\n",
              "      <td>Художественный</td>\n",
              "      <td>Гомон, Эль Джи Эм Продакшнз, Ректанль Продюксьон, Донт Би Ши Продакшнз, Франс 3 Синема, Нексус Фэктори, ЮФилм/Фанд, Ла Банк Посталь Имаж 6, Синемаж 7, Канал +, Сине +, Франс Телевизьон, Лё Текс Шелтер Гувернеман Федераль де Бельжик</td>\n",
              "      <td>Франция - Бельгия</td>\n",
              "      <td>Гийом Гальенн</td>\n",
              "      <td>Жан-Батист Дюпон, Алис Жирар, Сирил Кольбо-Жюстен</td>\n",
              "      <td>«16+» - для детей старше 16 лет</td>\n",
              "      <td>NaN</td>\n",
              "      <td>NaN</td>\n",
              "      <td>NaN</td>\n",
              "      <td>NaN</td>\n",
              "      <td>6.30</td>\n",
              "      <td>комедия,мелодрама,драма</td>\n",
              "      <td>NaN</td>\n",
              "    </tr>\n",
              "    <tr>\n",
              "      <th>1703</th>\n",
              "      <td>Я, снова я и мама</td>\n",
              "      <td>121013116</td>\n",
              "      <td>2016-05-23 12:00:00+00:00</td>\n",
              "      <td>Художественный</td>\n",
              "      <td>Гомон, Эль Джи Эм Продакшнз, Ректанль Продюксьон, Донт Би Ши Продакшнз, Франс 3 Синема, Нексус Фэктори, ЮФилм/Фанд, Ла Банк Посталь Имаж 6, Синемаж 7, Канал +, Сине +, Франс Телевизьон, Лё Текс Шелтер Гувернеман Федераль де Бельжик</td>\n",
              "      <td>Франция - Бельгия</td>\n",
              "      <td>Гийом Гальенн</td>\n",
              "      <td>Жан-Батист Дюпон, Алис Жирар, Сирил Кольбо-Жюстен</td>\n",
              "      <td>«16+» - для детей старше 16 лет</td>\n",
              "      <td>NaN</td>\n",
              "      <td>NaN</td>\n",
              "      <td>NaN</td>\n",
              "      <td>NaN</td>\n",
              "      <td>6.30</td>\n",
              "      <td>комедия,мелодрама,драма</td>\n",
              "      <td>NaN</td>\n",
              "    </tr>\n",
              "    <tr>\n",
              "      <th>6378</th>\n",
              "      <td>Ян Антонышев</td>\n",
              "      <td>112011818</td>\n",
              "      <td>2018-11-15 12:00:00+00:00</td>\n",
              "      <td>Документальный</td>\n",
              "      <td>NaN</td>\n",
              "      <td>Россия</td>\n",
              "      <td>Е.Окопная</td>\n",
              "      <td>Е.Герасимов</td>\n",
              "      <td>«12+» - для детей старше 12 лет</td>\n",
              "      <td>NaN</td>\n",
              "      <td>NaN</td>\n",
              "      <td>NaN</td>\n",
              "      <td>NaN</td>\n",
              "      <td>NaN</td>\n",
              "      <td></td>\n",
              "      <td>NaN</td>\n",
              "    </tr>\n",
              "    <tr>\n",
              "      <th>6379</th>\n",
              "      <td>Ян Антонышев</td>\n",
              "      <td>112011918</td>\n",
              "      <td>2018-11-15 12:00:00+00:00</td>\n",
              "      <td>Документальный</td>\n",
              "      <td>NaN</td>\n",
              "      <td>Россия</td>\n",
              "      <td>Е.Окопная</td>\n",
              "      <td>Е.Герасимов</td>\n",
              "      <td>«12+» - для детей старше 12 лет</td>\n",
              "      <td>NaN</td>\n",
              "      <td>NaN</td>\n",
              "      <td>NaN</td>\n",
              "      <td>NaN</td>\n",
              "      <td>NaN</td>\n",
              "      <td></td>\n",
              "      <td>NaN</td>\n",
              "    </tr>\n",
              "  </tbody>\n",
              "</table>\n",
              "</div>"
            ],
            "text/plain": [
              "                                  title   puNumber           show_start_date  \\\n",
              "4504  Я ненавижу день святого Валентина  221139210 2010-12-03 12:00:00+00:00   \n",
              "1704                  Я, снова я и мама  121030213 2013-11-21 12:00:00+00:00   \n",
              "1703                  Я, снова я и мама  121013116 2016-05-23 12:00:00+00:00   \n",
              "6378                       Ян Антонышев  112011818 2018-11-15 12:00:00+00:00   \n",
              "6379                       Ян Антонышев  112011918 2018-11-15 12:00:00+00:00   \n",
              "\n",
              "                type  \\\n",
              "4504  Художественный   \n",
              "1704  Художественный   \n",
              "1703  Художественный   \n",
              "6378  Документальный   \n",
              "6379  Документальный   \n",
              "\n",
              "                                                                                                                                                                                                                                    film_studio  \\\n",
              "4504                                                                                                                                                Блю Стар Пикчерз, Ай Хэйт Вдэй Продакшнз, Ай Си Би ИНтертейнмент Финанс, Мэй Бэнч Продакшнз   \n",
              "1704  Гомон, Эль Джи Эм Продакшнз, Ректанль Продюксьон, Донт Би Ши Продакшнз, Франс 3 Синема, Нексус Фэктори, ЮФилм/Фанд, Ла Банк Посталь Имаж 6, Синемаж 7, Канал +, Сине +, Франс Телевизьон, Лё Текс Шелтер Гувернеман Федераль де Бельжик     \n",
              "1703  Гомон, Эль Джи Эм Продакшнз, Ректанль Продюксьон, Донт Би Ши Продакшнз, Франс 3 Синема, Нексус Фэктори, ЮФилм/Фанд, Ла Банк Посталь Имаж 6, Синемаж 7, Канал +, Сине +, Франс Телевизьон, Лё Текс Шелтер Гувернеман Федераль де Бельжик     \n",
              "6378                                                                                                                                                                                                                                        NaN   \n",
              "6379                                                                                                                                                                                                                                        NaN   \n",
              "\n",
              "     production_country       director  \\\n",
              "4504                США   Ниа Вардалос   \n",
              "1704  Франция - Бельгия  Гийом Гальенн   \n",
              "1703  Франция - Бельгия  Гийом Гальенн   \n",
              "6378             Россия      Е.Окопная   \n",
              "6379             Россия      Е.Окопная   \n",
              "\n",
              "                                               producer  \\\n",
              "4504         Доминик Йанно, Мэдлейн Шерак, Уильям Шерак   \n",
              "1704  Жан-Батист Дюпон, Алис Жирар, Сирил Кольбо-Жюстен   \n",
              "1703  Жан-Батист Дюпон, Алис Жирар, Сирил Кольбо-Жюстен   \n",
              "6378                                        Е.Герасимов   \n",
              "6379                                        Е.Герасимов   \n",
              "\n",
              "                      age_restriction  refundable_support  \\\n",
              "4504  «16+» - для детей старше 16 лет                 NaN   \n",
              "1704  «16+» - для детей старше 16 лет                 NaN   \n",
              "1703  «16+» - для детей старше 16 лет                 NaN   \n",
              "6378  «12+» - для детей старше 12 лет                 NaN   \n",
              "6379  «12+» - для детей старше 12 лет                 NaN   \n",
              "\n",
              "      nonrefundable_support  budget financing_source  ratings  \\\n",
              "4504                    NaN     NaN              NaN     5.00   \n",
              "1704                    NaN     NaN              NaN     6.30   \n",
              "1703                    NaN     NaN              NaN     6.30   \n",
              "6378                    NaN     NaN              NaN      NaN   \n",
              "6379                    NaN     NaN              NaN      NaN   \n",
              "\n",
              "                       genres  box_office  \n",
              "4504        мелодрама,комедия         NaN  \n",
              "1704  комедия,мелодрама,драма         NaN  \n",
              "1703  комедия,мелодрама,драма         NaN  \n",
              "6378                                  NaN  \n",
              "6379                                  NaN  "
            ]
          },
          "execution_count": 16,
          "metadata": {},
          "output_type": "execute_result"
        }
      ],
      "source": [
        "data.loc[data['title'].duplicated(keep=False)].sort_values(by='title').tail()"
      ]
    },
    {
      "cell_type": "markdown",
      "metadata": {
        "id": "G_RrEuinhrFE"
      },
      "source": [
        "**Вывод:**\n",
        "puNumber наверное должен быть уникальным. Под одним номером прокатного удостоверения числятся два разных фильма с одной датой премьеры. Возможно сыграл человеческий фактор при заполнении какой-нибудь формы. Этот номер не имеет принципиального значения, оставлю как есть.\n",
        "Повторы в title объясняются тем, что один и тот же фильм могут начать показывать в разное время под разной лицензией и/или разными прокатчиками.\n",
        "show_start_date. Вполне реально начать показ нескольких фильмов в одну и ту же дату.\n",
        "То же самое касается и всех остальных дубликатов, так что оставляем все как есть.\n"
      ]
    },
    {
      "cell_type": "markdown",
      "metadata": {
        "id": "52fOPrEBgFyQ"
      },
      "source": [
        "#### Шаг 2.4. Изучите категориальные значения\n",
        "\n",
        "- Посмотрите, какая общая проблема встречается почти во всех категориальных столбцах;\n",
        "- Исправьте проблемные значения в поле `type`.\n",
        "\n",
        "<div id=\"accordion\">\n",
        "    <div class=\"card\">\n",
        "        <div class=\"card-header\" id=\"headingThree\">\n",
        "            <button class=\"btn btn-link collapsed\" data-toggle=\"collapse\" data-target=\"#collapseHint_1\" aria-expanded=\"false\" aria-controls=\"collapseHint_1\">Подсказка</button>\n",
        "        </div>\n",
        "        <div id=\"collapseHint_1\" class=\"collapse\" aria-labelledby=\"headingThree\" data-parent=\"#accordion\">\n",
        "            <div class=\"card-body\">\n",
        "В поле <code>type</code> есть несколько значений, у которых появился пробел в начале строки. Самый простой способ их «починить» -- использовать метод <a href=\"https://pandas.pydata.org/docs/reference/api/pandas.Series.str.strip.html#pandas.Series.str.strip\">.str.strip</a>. Этот метод удаляет все пробелы, которые встречаются в начале и в конце строки. Применяют его таким образом:<br>\n",
        "<code>df['type'].str.strip()</code>\n",
        "            </div>\n",
        "        </div>\n",
        "    </div>\n",
        "</div>"
      ]
    },
    {
      "cell_type": "code",
      "execution_count": null,
      "metadata": {
        "id": "PnXKIVdFgFyR",
        "outputId": "df0da984-a63f-4f10-8c80-3c23e5a32007"
      },
      "outputs": [
        {
          "data": {
            "text/plain": [
              "0          боевик,драма,мелодрама\n",
              "1                   драма,военный\n",
              "2       фантастика,боевик,триллер\n",
              "3       фантастика,боевик,триллер\n",
              "4       фантастика,боевик,триллер\n",
              "                  ...            \n",
              "7480                             \n",
              "7481               боевик,триллер\n",
              "7482                             \n",
              "7483                             \n",
              "7484              комедия,вестерн\n",
              "Name: genres, Length: 7456, dtype: object"
            ]
          },
          "execution_count": 17,
          "metadata": {},
          "output_type": "execute_result"
        }
      ],
      "source": [
        "data['type'].str.strip()\n",
        "data['production_country'].str.strip()\n",
        "data['film_studio'].str.strip()\n",
        "data['director'].str.strip()\n",
        "data['producer'].str.strip()\n",
        "data['genres'].str.strip()\n"
      ]
    },
    {
      "cell_type": "markdown",
      "metadata": {
        "id": "4qiPo0Y6hrFF"
      },
      "source": [
        "**Вывод** Общая проблема при исследовании категориальных переменных - это нарушение форматирования(пробелы в начале и конце строки, отсуствие одинакового выравнивания )"
      ]
    },
    {
      "cell_type": "markdown",
      "metadata": {
        "id": "XFSN5lrEgFyR"
      },
      "source": [
        "#### Шаг 2.5. Проверьте количественные значения\n",
        "\n",
        "- Проверьте, обнаружились ли в таких столбцах подозрительные данные. Как с такими данными лучше поступить?\n",
        "\n",
        "<div id=\"accordion\">\n",
        "    <div class=\"card\">\n",
        "        <div class=\"card-header\" id=\"headingThree\">\n",
        "            <button class=\"btn btn-link collapsed\" data-toggle=\"collapse\" data-target=\"#collapseHint_budget\" aria-expanded=\"false\" aria-controls=\"collapseHint_budget\">Подсказка</button>\n",
        "        </div>\n",
        "        <div id=\"collapseHint_budget\" class=\"collapse\" aria-labelledby=\"headingThree\" data-parent=\"#accordion\">\n",
        "            <div class=\"card-body\">\n",
        "Обратите внимание на описание столбца <code>budget</code>. Как этот столбец соотносится с двумя другими: <code>refundable_support</code> и <code>nonrefundable_support</code>?\n",
        "            </div>\n",
        "        </div>\n",
        "    </div>\n",
        "</div>"
      ]
    },
    {
      "cell_type": "code",
      "execution_count": null,
      "metadata": {
        "id": "YbzClBxagFyS",
        "scrolled": true,
        "outputId": "8ca730da-dc69-4e67-8d6b-404432902546"
      },
      "outputs": [
        {
          "data": {
            "text/html": [
              "<div>\n",
              "<style scoped>\n",
              "    .dataframe tbody tr th:only-of-type {\n",
              "        vertical-align: middle;\n",
              "    }\n",
              "\n",
              "    .dataframe tbody tr th {\n",
              "        vertical-align: top;\n",
              "    }\n",
              "\n",
              "    .dataframe thead th {\n",
              "        text-align: right;\n",
              "    }\n",
              "</style>\n",
              "<table border=\"1\" class=\"dataframe\">\n",
              "  <thead>\n",
              "    <tr style=\"text-align: right;\">\n",
              "      <th></th>\n",
              "      <th>title</th>\n",
              "      <th>puNumber</th>\n",
              "      <th>show_start_date</th>\n",
              "      <th>type</th>\n",
              "      <th>film_studio</th>\n",
              "      <th>production_country</th>\n",
              "      <th>director</th>\n",
              "      <th>producer</th>\n",
              "      <th>age_restriction</th>\n",
              "      <th>refundable_support</th>\n",
              "      <th>nonrefundable_support</th>\n",
              "      <th>budget</th>\n",
              "      <th>financing_source</th>\n",
              "      <th>ratings</th>\n",
              "      <th>genres</th>\n",
              "      <th>box_office</th>\n",
              "    </tr>\n",
              "  </thead>\n",
              "  <tbody>\n",
              "    <tr>\n",
              "      <th>2052</th>\n",
              "      <td>14+</td>\n",
              "      <td>111023614</td>\n",
              "      <td>2014-12-19 12:00:00+00:00</td>\n",
              "      <td>Художественный</td>\n",
              "      <td>ООО Киностудия  \"Сентябрь\"</td>\n",
              "      <td>Россия</td>\n",
              "      <td>А.Зайцев</td>\n",
              "      <td>О.Гранина, А.Зайцев</td>\n",
              "      <td>«16+» - для детей старше 16 лет</td>\n",
              "      <td>0.00</td>\n",
              "      <td>23000000.00</td>\n",
              "      <td>0.00</td>\n",
              "      <td>Министерство культуры, Фонд кино</td>\n",
              "      <td>6.60</td>\n",
              "      <td>мелодрама</td>\n",
              "      <td>10234016.10</td>\n",
              "    </tr>\n",
              "    <tr>\n",
              "      <th>2057</th>\n",
              "      <td>Дуxless 2</td>\n",
              "      <td>111000415</td>\n",
              "      <td>2015-01-26 12:00:00+00:00</td>\n",
              "      <td>Художественный</td>\n",
              "      <td>ООО \"Киностудия \"Слово\", ООО \"Арт Пикчерс Студия\"</td>\n",
              "      <td>Россия</td>\n",
              "      <td>Р.Прыгунов</td>\n",
              "      <td>П.Ануров, Ф.Бондарчук, Д.Рудовский</td>\n",
              "      <td>«16+» - для детей старше 16 лет</td>\n",
              "      <td>0.00</td>\n",
              "      <td>75000000.00</td>\n",
              "      <td>0.00</td>\n",
              "      <td>Фонд кино</td>\n",
              "      <td>6.60</td>\n",
              "      <td>драма</td>\n",
              "      <td>446163511.00</td>\n",
              "    </tr>\n",
              "    <tr>\n",
              "      <th>2471</th>\n",
              "      <td>Воин (2015)</td>\n",
              "      <td>111017315</td>\n",
              "      <td>2015-09-28 12:00:00+00:00</td>\n",
              "      <td>Художественный</td>\n",
              "      <td>ООО \"Форпост Продакшн\", ООО \"Арт Пикчерс Студия\"</td>\n",
              "      <td>Россия</td>\n",
              "      <td>А.Андрианов</td>\n",
              "      <td>ООО \"Арт Пикчерс Студия\"</td>\n",
              "      <td>«12+» - для детей старше 12 лет</td>\n",
              "      <td>10000000.00</td>\n",
              "      <td>70000000.00</td>\n",
              "      <td>0.00</td>\n",
              "      <td>Фонд кино</td>\n",
              "      <td>7.80</td>\n",
              "      <td>боевик,драма,криминал</td>\n",
              "      <td>196572438.40</td>\n",
              "    </tr>\n",
              "    <tr>\n",
              "      <th>2531</th>\n",
              "      <td>Бармен.</td>\n",
              "      <td>111009615</td>\n",
              "      <td>2015-05-26 12:00:00+00:00</td>\n",
              "      <td>Художественный</td>\n",
              "      <td>АО \"ВайТ Медиа\", ООО \"Арт Пикчерс Студия\"</td>\n",
              "      <td>Россия</td>\n",
              "      <td>Д.Штурманова</td>\n",
              "      <td>Т.Вайнштейн</td>\n",
              "      <td>«16+» - для детей старше 16 лет</td>\n",
              "      <td>20000000.00</td>\n",
              "      <td>0.00</td>\n",
              "      <td>0.00</td>\n",
              "      <td>Фонд кино</td>\n",
              "      <td>6.20</td>\n",
              "      <td>комедия,фэнтези</td>\n",
              "      <td>67418974.80</td>\n",
              "    </tr>\n",
              "    <tr>\n",
              "      <th>2614</th>\n",
              "      <td>Савва. Сердце воина</td>\n",
              "      <td>114001715</td>\n",
              "      <td>2015-07-21 12:00:00+00:00</td>\n",
              "      <td>Анимационный</td>\n",
              "      <td>ООО \"Глюкоза Продакшн\", ООО \"Арт Пикчерс Студия\"</td>\n",
              "      <td>Россия</td>\n",
              "      <td>М.Фадеев</td>\n",
              "      <td>А.Чистяков</td>\n",
              "      <td>«6+» - для детей старше 6 лет</td>\n",
              "      <td>60000000.00</td>\n",
              "      <td>100000000.00</td>\n",
              "      <td>0.00</td>\n",
              "      <td>Фонд кино</td>\n",
              "      <td>4.60</td>\n",
              "      <td>мультфильм,приключения,фэнтези</td>\n",
              "      <td>184487551.40</td>\n",
              "    </tr>\n",
              "    <tr>\n",
              "      <th>2683</th>\n",
              "      <td>Тряпичный союз</td>\n",
              "      <td>111010215</td>\n",
              "      <td>2015-06-08 12:00:00+00:00</td>\n",
              "      <td>Художественный</td>\n",
              "      <td>ООО \"Кинокомпания \"КОКТЕБЕЛЬ\"</td>\n",
              "      <td>Россия</td>\n",
              "      <td>М.Местецкий</td>\n",
              "      <td>Р.Борисевич, А.Кушаев</td>\n",
              "      <td>«18+» - запрещено для детей</td>\n",
              "      <td>0.00</td>\n",
              "      <td>59000000.00</td>\n",
              "      <td>0.00</td>\n",
              "      <td>Фонд кино</td>\n",
              "      <td>6.30</td>\n",
              "      <td>комедия,драма</td>\n",
              "      <td>1957738.51</td>\n",
              "    </tr>\n",
              "    <tr>\n",
              "      <th>2787</th>\n",
              "      <td>Срочно выйду замуж</td>\n",
              "      <td>111017115</td>\n",
              "      <td>2015-09-30 12:00:00+00:00</td>\n",
              "      <td>Художественный</td>\n",
              "      <td>АО \"ВайТ Медиа\", ООО \"Арт Пикчерс Студия\"</td>\n",
              "      <td>Россия</td>\n",
              "      <td>С Чекалов</td>\n",
              "      <td>Ф.Бондарчук, Т.Вайнштейн, Д.Рудовский</td>\n",
              "      <td>«16+» - для детей старше 16 лет</td>\n",
              "      <td>0.00</td>\n",
              "      <td>35000000.00</td>\n",
              "      <td>0.00</td>\n",
              "      <td>Фонд кино</td>\n",
              "      <td>5.10</td>\n",
              "      <td>комедия,мелодрама</td>\n",
              "      <td>72937783.20</td>\n",
              "    </tr>\n",
              "    <tr>\n",
              "      <th>2873</th>\n",
              "      <td>Помню - не помню!</td>\n",
              "      <td>111004916</td>\n",
              "      <td>2016-03-01 12:00:00+00:00</td>\n",
              "      <td>Художественный</td>\n",
              "      <td>ООО \"КиноФирма\"</td>\n",
              "      <td>Россия</td>\n",
              "      <td>В.Ровенский</td>\n",
              "      <td>ООО \"КиноФирма\"</td>\n",
              "      <td>«12+» - для детей старше 12 лет</td>\n",
              "      <td>0.00</td>\n",
              "      <td>6000000.00</td>\n",
              "      <td>0.00</td>\n",
              "      <td>Министерство культуры</td>\n",
              "      <td>4.30</td>\n",
              "      <td>комедия</td>\n",
              "      <td>15362931.43</td>\n",
              "    </tr>\n",
              "    <tr>\n",
              "      <th>3046</th>\n",
              "      <td>Любовь с ограничениями</td>\n",
              "      <td>111008216</td>\n",
              "      <td>2016-04-29 12:00:00+00:00</td>\n",
              "      <td>Художественный</td>\n",
              "      <td>АО \"ВайТ Медиа\", ООО \"Арт Пикчерс Студия\"</td>\n",
              "      <td>Россия</td>\n",
              "      <td>Д.Тюрин</td>\n",
              "      <td>Ф.Бондарчук, Т.Вайнштейн, Д.Рудовский</td>\n",
              "      <td>«16+» - для детей старше 16 лет</td>\n",
              "      <td>19000000.00</td>\n",
              "      <td>51000000.00</td>\n",
              "      <td>0.00</td>\n",
              "      <td>Фонд кино</td>\n",
              "      <td>6.30</td>\n",
              "      <td>комедия,мелодрама</td>\n",
              "      <td>70299052.00</td>\n",
              "    </tr>\n",
              "    <tr>\n",
              "      <th>3564</th>\n",
              "      <td>Притяжение (2016)</td>\n",
              "      <td>111018116</td>\n",
              "      <td>2016-12-16 12:00:00+00:00</td>\n",
              "      <td>Художественный</td>\n",
              "      <td>ООО \"Водород 2011\",  ООО \"Арт Пикчерс Студия\"</td>\n",
              "      <td>Россия</td>\n",
              "      <td>Ф.Бондарчук</td>\n",
              "      <td>ООО \"Арт Пикчерс Студия\"</td>\n",
              "      <td>«12+» - для детей старше 12 лет</td>\n",
              "      <td>0.00</td>\n",
              "      <td>250000000.00</td>\n",
              "      <td>0.00</td>\n",
              "      <td>Фонд кино</td>\n",
              "      <td>5.60</td>\n",
              "      <td>фантастика</td>\n",
              "      <td>1038321489.00</td>\n",
              "    </tr>\n",
              "    <tr>\n",
              "      <th>3674</th>\n",
              "      <td>Чудо-юдо</td>\n",
              "      <td>114001817</td>\n",
              "      <td>2017-06-27 12:00:00+00:00</td>\n",
              "      <td>Анимационный</td>\n",
              "      <td>ООО \"КиноФирма\"</td>\n",
              "      <td>Россия</td>\n",
              "      <td>А.Лукичев</td>\n",
              "      <td>ООО \"КиноФирма\"</td>\n",
              "      <td>«6+» - для детей старше 6 лет</td>\n",
              "      <td>20000000.00</td>\n",
              "      <td>20000000.00</td>\n",
              "      <td>0.00</td>\n",
              "      <td>Фонд кино</td>\n",
              "      <td>5.20</td>\n",
              "      <td>мультфильм,фэнтези,семейный</td>\n",
              "      <td>55108014.76</td>\n",
              "    </tr>\n",
              "    <tr>\n",
              "      <th>3738</th>\n",
              "      <td>Мифы</td>\n",
              "      <td>111004317</td>\n",
              "      <td>2017-06-07 12:00:00+00:00</td>\n",
              "      <td>Художественный</td>\n",
              "      <td>ООО \"ХАЙПФИЛМ\", ООО \"Арт Пикчерс Студия\"</td>\n",
              "      <td>Россия</td>\n",
              "      <td>А.Молочников</td>\n",
              "      <td>Ф.Бондарчук, Д.Рудовский, И.Стюарт, М.Османн, Ю.Козырев</td>\n",
              "      <td>«16+» - для детей старше 16 лет</td>\n",
              "      <td>25000000.00</td>\n",
              "      <td>20000000.00</td>\n",
              "      <td>0.00</td>\n",
              "      <td>Фонд кино</td>\n",
              "      <td>4.80</td>\n",
              "      <td>комедия</td>\n",
              "      <td>50451949.00</td>\n",
              "    </tr>\n",
              "    <tr>\n",
              "      <th>5672</th>\n",
              "      <td>Селфи</td>\n",
              "      <td>111012117</td>\n",
              "      <td>2018-02-01 12:00:00+00:00</td>\n",
              "      <td>Художественный</td>\n",
              "      <td>ООО \"Киностудия \"Слово\", ООО \"Арт Пикчерс Студия\"</td>\n",
              "      <td>Россия</td>\n",
              "      <td>Н.Хомерики</td>\n",
              "      <td>П.Ануров, Ф.Бондарчук, Д.Рудовский</td>\n",
              "      <td>«16+» - для детей старше 16 лет</td>\n",
              "      <td>20000000.00</td>\n",
              "      <td>40000000.00</td>\n",
              "      <td>0.00</td>\n",
              "      <td>Фонд кино</td>\n",
              "      <td>5.80</td>\n",
              "      <td>триллер,драма</td>\n",
              "      <td>225196400.03</td>\n",
              "    </tr>\n",
              "    <tr>\n",
              "      <th>5805</th>\n",
              "      <td>Два хвоста</td>\n",
              "      <td>114001018</td>\n",
              "      <td>2018-05-31 12:00:00+00:00</td>\n",
              "      <td>Анимационный</td>\n",
              "      <td>ООО \"ЛИЦЕНЗИОННЫЕ БРЕНДЫ\"</td>\n",
              "      <td>Россия</td>\n",
              "      <td>В.Ровенский, Н.Лопато, В.Азеев</td>\n",
              "      <td>ООО \"ЛИЦЕНЗИОННЫЕ БРЕНДЫ\"</td>\n",
              "      <td>«6+» - для детей старше 6 лет</td>\n",
              "      <td>10000000.00</td>\n",
              "      <td>60000000.00</td>\n",
              "      <td>0.00</td>\n",
              "      <td>Фонд кино</td>\n",
              "      <td>5.00</td>\n",
              "      <td>мультфильм,детский</td>\n",
              "      <td>106514301.03</td>\n",
              "    </tr>\n",
              "    <tr>\n",
              "      <th>6007</th>\n",
              "      <td>Принцесса и дракон</td>\n",
              "      <td>114003018</td>\n",
              "      <td>2018-08-23 12:00:00+00:00</td>\n",
              "      <td>Анимационный</td>\n",
              "      <td>ООО \"ЛИЦЕНЗИОННЫЕ БРЕНДЫ\"</td>\n",
              "      <td>Россия</td>\n",
              "      <td>М.Нефедова</td>\n",
              "      <td>ООО \"ЛИЦЕНЗИОННЫЕ БРЕНДЫ\"</td>\n",
              "      <td>«6+» - для детей старше 6 лет</td>\n",
              "      <td>40000000.00</td>\n",
              "      <td>40000000.00</td>\n",
              "      <td>0.00</td>\n",
              "      <td>Фонд кино</td>\n",
              "      <td>5.20</td>\n",
              "      <td>мультфильм,фэнтези,детский</td>\n",
              "      <td>83366328.66</td>\n",
              "    </tr>\n",
              "    <tr>\n",
              "      <th>6322</th>\n",
              "      <td>Баба Яга</td>\n",
              "      <td>114006518</td>\n",
              "      <td>2018-11-08 12:00:00+00:00</td>\n",
              "      <td>Анимационный</td>\n",
              "      <td>ООО \"Арт Пикчерс Студия\"</td>\n",
              "      <td>Россия</td>\n",
              "      <td>В.Саков</td>\n",
              "      <td>ООО \"Арт Пикчерс Студия\", ООО \"КРИЭЙТИВ АНИМЭЙШН\", ООО \"Система-А\"</td>\n",
              "      <td>«6+» - для детей старше 6 лет</td>\n",
              "      <td>0.00</td>\n",
              "      <td>138969465.00</td>\n",
              "      <td>0.00</td>\n",
              "      <td>Фонд кино</td>\n",
              "      <td>NaN</td>\n",
              "      <td></td>\n",
              "      <td>1334699.40</td>\n",
              "    </tr>\n",
              "    <tr>\n",
              "      <th>6822</th>\n",
              "      <td>Большое путешествие</td>\n",
              "      <td>114002419</td>\n",
              "      <td>2019-04-20 12:00:00+00:00</td>\n",
              "      <td>Анимационный</td>\n",
              "      <td>ООО \"ЛИЦЕНЗИОННЫЕ БРЕНДЫ\"</td>\n",
              "      <td>Россия</td>\n",
              "      <td>Н.Лопато, В.Ровенский</td>\n",
              "      <td>ООО \"ЛИЦЕНЗИОННЫЕ БРЕНДЫ\"</td>\n",
              "      <td>«6+» - для детей старше 6 лет</td>\n",
              "      <td>60000000.00</td>\n",
              "      <td>120000000.00</td>\n",
              "      <td>0.00</td>\n",
              "      <td>Фонд кино</td>\n",
              "      <td>6.20</td>\n",
              "      <td>мультфильм,комедия,приключения</td>\n",
              "      <td>147606826.51</td>\n",
              "    </tr>\n",
              "  </tbody>\n",
              "</table>\n",
              "</div>"
            ],
            "text/plain": [
              "                       title   puNumber           show_start_date  \\\n",
              "2052                     14+  111023614 2014-12-19 12:00:00+00:00   \n",
              "2057               Дуxless 2  111000415 2015-01-26 12:00:00+00:00   \n",
              "2471             Воин (2015)  111017315 2015-09-28 12:00:00+00:00   \n",
              "2531                 Бармен.  111009615 2015-05-26 12:00:00+00:00   \n",
              "2614     Савва. Сердце воина  114001715 2015-07-21 12:00:00+00:00   \n",
              "2683          Тряпичный союз  111010215 2015-06-08 12:00:00+00:00   \n",
              "2787      Срочно выйду замуж  111017115 2015-09-30 12:00:00+00:00   \n",
              "2873       Помню - не помню!  111004916 2016-03-01 12:00:00+00:00   \n",
              "3046  Любовь с ограничениями  111008216 2016-04-29 12:00:00+00:00   \n",
              "3564       Притяжение (2016)  111018116 2016-12-16 12:00:00+00:00   \n",
              "3674                Чудо-юдо  114001817 2017-06-27 12:00:00+00:00   \n",
              "3738                    Мифы  111004317 2017-06-07 12:00:00+00:00   \n",
              "5672                   Селфи  111012117 2018-02-01 12:00:00+00:00   \n",
              "5805              Два хвоста  114001018 2018-05-31 12:00:00+00:00   \n",
              "6007      Принцесса и дракон  114003018 2018-08-23 12:00:00+00:00   \n",
              "6322                Баба Яга  114006518 2018-11-08 12:00:00+00:00   \n",
              "6822     Большое путешествие  114002419 2019-04-20 12:00:00+00:00   \n",
              "\n",
              "                 type                                        film_studio  \\\n",
              "2052   Художественный                         ООО Киностудия  \"Сентябрь\"   \n",
              "2057   Художественный  ООО \"Киностудия \"Слово\", ООО \"Арт Пикчерс Студия\"   \n",
              "2471   Художественный   ООО \"Форпост Продакшн\", ООО \"Арт Пикчерс Студия\"   \n",
              "2531   Художественный          АО \"ВайТ Медиа\", ООО \"Арт Пикчерс Студия\"   \n",
              "2614     Анимационный   ООО \"Глюкоза Продакшн\", ООО \"Арт Пикчерс Студия\"   \n",
              "2683   Художественный                      ООО \"Кинокомпания \"КОКТЕБЕЛЬ\"   \n",
              "2787   Художественный          АО \"ВайТ Медиа\", ООО \"Арт Пикчерс Студия\"   \n",
              "2873   Художественный                                    ООО \"КиноФирма\"   \n",
              "3046   Художественный          АО \"ВайТ Медиа\", ООО \"Арт Пикчерс Студия\"   \n",
              "3564   Художественный      ООО \"Водород 2011\",  ООО \"Арт Пикчерс Студия\"   \n",
              "3674     Анимационный                                    ООО \"КиноФирма\"   \n",
              "3738   Художественный           ООО \"ХАЙПФИЛМ\", ООО \"Арт Пикчерс Студия\"   \n",
              "5672   Художественный  ООО \"Киностудия \"Слово\", ООО \"Арт Пикчерс Студия\"   \n",
              "5805     Анимационный                          ООО \"ЛИЦЕНЗИОННЫЕ БРЕНДЫ\"   \n",
              "6007     Анимационный                          ООО \"ЛИЦЕНЗИОННЫЕ БРЕНДЫ\"   \n",
              "6322     Анимационный                           ООО \"Арт Пикчерс Студия\"   \n",
              "6822     Анимационный                          ООО \"ЛИЦЕНЗИОННЫЕ БРЕНДЫ\"   \n",
              "\n",
              "     production_country                        director  \\\n",
              "2052             Россия                        А.Зайцев   \n",
              "2057             Россия                      Р.Прыгунов   \n",
              "2471             Россия                     А.Андрианов   \n",
              "2531             Россия                    Д.Штурманова   \n",
              "2614             Россия                        М.Фадеев   \n",
              "2683             Россия                     М.Местецкий   \n",
              "2787             Россия                       С Чекалов   \n",
              "2873             Россия                     В.Ровенский   \n",
              "3046             Россия                         Д.Тюрин   \n",
              "3564             Россия                     Ф.Бондарчук   \n",
              "3674             Россия                       А.Лукичев   \n",
              "3738             Россия                    А.Молочников   \n",
              "5672             Россия                      Н.Хомерики   \n",
              "5805             Россия  В.Ровенский, Н.Лопато, В.Азеев   \n",
              "6007             Россия                      М.Нефедова   \n",
              "6322             Россия                         В.Саков   \n",
              "6822             Россия           Н.Лопато, В.Ровенский   \n",
              "\n",
              "                                                                producer  \\\n",
              "2052                                                 О.Гранина, А.Зайцев   \n",
              "2057                                  П.Ануров, Ф.Бондарчук, Д.Рудовский   \n",
              "2471                                            ООО \"Арт Пикчерс Студия\"   \n",
              "2531                                                         Т.Вайнштейн   \n",
              "2614                                                          А.Чистяков   \n",
              "2683                                               Р.Борисевич, А.Кушаев   \n",
              "2787                               Ф.Бондарчук, Т.Вайнштейн, Д.Рудовский   \n",
              "2873                                                     ООО \"КиноФирма\"   \n",
              "3046                               Ф.Бондарчук, Т.Вайнштейн, Д.Рудовский   \n",
              "3564                                            ООО \"Арт Пикчерс Студия\"   \n",
              "3674                                                     ООО \"КиноФирма\"   \n",
              "3738             Ф.Бондарчук, Д.Рудовский, И.Стюарт, М.Османн, Ю.Козырев   \n",
              "5672                                  П.Ануров, Ф.Бондарчук, Д.Рудовский   \n",
              "5805                                           ООО \"ЛИЦЕНЗИОННЫЕ БРЕНДЫ\"   \n",
              "6007                                           ООО \"ЛИЦЕНЗИОННЫЕ БРЕНДЫ\"   \n",
              "6322  ООО \"Арт Пикчерс Студия\", ООО \"КРИЭЙТИВ АНИМЭЙШН\", ООО \"Система-А\"   \n",
              "6822                                           ООО \"ЛИЦЕНЗИОННЫЕ БРЕНДЫ\"   \n",
              "\n",
              "                      age_restriction  refundable_support  \\\n",
              "2052  «16+» - для детей старше 16 лет                0.00   \n",
              "2057  «16+» - для детей старше 16 лет                0.00   \n",
              "2471  «12+» - для детей старше 12 лет         10000000.00   \n",
              "2531  «16+» - для детей старше 16 лет         20000000.00   \n",
              "2614    «6+» - для детей старше 6 лет         60000000.00   \n",
              "2683      «18+» - запрещено для детей                0.00   \n",
              "2787  «16+» - для детей старше 16 лет                0.00   \n",
              "2873  «12+» - для детей старше 12 лет                0.00   \n",
              "3046  «16+» - для детей старше 16 лет         19000000.00   \n",
              "3564  «12+» - для детей старше 12 лет                0.00   \n",
              "3674    «6+» - для детей старше 6 лет         20000000.00   \n",
              "3738  «16+» - для детей старше 16 лет         25000000.00   \n",
              "5672  «16+» - для детей старше 16 лет         20000000.00   \n",
              "5805    «6+» - для детей старше 6 лет         10000000.00   \n",
              "6007    «6+» - для детей старше 6 лет         40000000.00   \n",
              "6322    «6+» - для детей старше 6 лет                0.00   \n",
              "6822    «6+» - для детей старше 6 лет         60000000.00   \n",
              "\n",
              "      nonrefundable_support  budget                  financing_source  \\\n",
              "2052            23000000.00    0.00  Министерство культуры, Фонд кино   \n",
              "2057            75000000.00    0.00                         Фонд кино   \n",
              "2471            70000000.00    0.00                         Фонд кино   \n",
              "2531                   0.00    0.00                         Фонд кино   \n",
              "2614           100000000.00    0.00                         Фонд кино   \n",
              "2683            59000000.00    0.00                         Фонд кино   \n",
              "2787            35000000.00    0.00                         Фонд кино   \n",
              "2873             6000000.00    0.00             Министерство культуры   \n",
              "3046            51000000.00    0.00                         Фонд кино   \n",
              "3564           250000000.00    0.00                         Фонд кино   \n",
              "3674            20000000.00    0.00                         Фонд кино   \n",
              "3738            20000000.00    0.00                         Фонд кино   \n",
              "5672            40000000.00    0.00                         Фонд кино   \n",
              "5805            60000000.00    0.00                         Фонд кино   \n",
              "6007            40000000.00    0.00                         Фонд кино   \n",
              "6322           138969465.00    0.00                         Фонд кино   \n",
              "6822           120000000.00    0.00                         Фонд кино   \n",
              "\n",
              "      ratings                          genres    box_office  \n",
              "2052     6.60                       мелодрама   10234016.10  \n",
              "2057     6.60                           драма  446163511.00  \n",
              "2471     7.80           боевик,драма,криминал  196572438.40  \n",
              "2531     6.20                 комедия,фэнтези   67418974.80  \n",
              "2614     4.60  мультфильм,приключения,фэнтези  184487551.40  \n",
              "2683     6.30                   комедия,драма    1957738.51  \n",
              "2787     5.10               комедия,мелодрама   72937783.20  \n",
              "2873     4.30                         комедия   15362931.43  \n",
              "3046     6.30               комедия,мелодрама   70299052.00  \n",
              "3564     5.60                      фантастика 1038321489.00  \n",
              "3674     5.20     мультфильм,фэнтези,семейный   55108014.76  \n",
              "3738     4.80                         комедия   50451949.00  \n",
              "5672     5.80                   триллер,драма  225196400.03  \n",
              "5805     5.00              мультфильм,детский  106514301.03  \n",
              "6007     5.20      мультфильм,фэнтези,детский   83366328.66  \n",
              "6322      NaN                                    1334699.40  \n",
              "6822     6.20  мультфильм,комедия,приключения  147606826.51  "
            ]
          },
          "metadata": {},
          "output_type": "display_data"
        }
      ],
      "source": [
        "#выявляем неявные фильмы с господдержкой\n",
        "analysis_budget = data[data['budget'] < (data['refundable_support'] + data['nonrefundable_support'])]\n",
        "display(analysis_budget )"
      ]
    },
    {
      "cell_type": "code",
      "execution_count": null,
      "metadata": {
        "scrolled": true,
        "id": "ZrB4iylFhrFG",
        "outputId": "acd8d122-eadf-4497-8b3f-b903d61984da"
      },
      "outputs": [
        {
          "data": {
            "text/html": [
              "<div>\n",
              "<style scoped>\n",
              "    .dataframe tbody tr th:only-of-type {\n",
              "        vertical-align: middle;\n",
              "    }\n",
              "\n",
              "    .dataframe tbody tr th {\n",
              "        vertical-align: top;\n",
              "    }\n",
              "\n",
              "    .dataframe thead th {\n",
              "        text-align: right;\n",
              "    }\n",
              "</style>\n",
              "<table border=\"1\" class=\"dataframe\">\n",
              "  <thead>\n",
              "    <tr style=\"text-align: right;\">\n",
              "      <th></th>\n",
              "      <th>title</th>\n",
              "      <th>puNumber</th>\n",
              "      <th>show_start_date</th>\n",
              "      <th>type</th>\n",
              "      <th>film_studio</th>\n",
              "      <th>production_country</th>\n",
              "      <th>director</th>\n",
              "      <th>producer</th>\n",
              "      <th>age_restriction</th>\n",
              "      <th>refundable_support</th>\n",
              "      <th>nonrefundable_support</th>\n",
              "      <th>budget</th>\n",
              "      <th>financing_source</th>\n",
              "      <th>ratings</th>\n",
              "      <th>genres</th>\n",
              "      <th>box_office</th>\n",
              "      <th>state_support</th>\n",
              "    </tr>\n",
              "  </thead>\n",
              "  <tbody>\n",
              "    <tr>\n",
              "      <th>2052</th>\n",
              "      <td>14+</td>\n",
              "      <td>111023614</td>\n",
              "      <td>2014-12-19 12:00:00+00:00</td>\n",
              "      <td>Художественный</td>\n",
              "      <td>ООО Киностудия  \"Сентябрь\"</td>\n",
              "      <td>Россия</td>\n",
              "      <td>А.Зайцев</td>\n",
              "      <td>О.Гранина, А.Зайцев</td>\n",
              "      <td>«16+» - для детей старше 16 лет</td>\n",
              "      <td>0.00</td>\n",
              "      <td>23000000.00</td>\n",
              "      <td>37363864.68</td>\n",
              "      <td>Министерство культуры, Фонд кино</td>\n",
              "      <td>6.60</td>\n",
              "      <td>мелодрама</td>\n",
              "      <td>10234016.10</td>\n",
              "      <td>inf</td>\n",
              "    </tr>\n",
              "    <tr>\n",
              "      <th>2057</th>\n",
              "      <td>Дуxless 2</td>\n",
              "      <td>111000415</td>\n",
              "      <td>2015-01-26 12:00:00+00:00</td>\n",
              "      <td>Художественный</td>\n",
              "      <td>ООО \"Киностудия \"Слово\", ООО \"Арт Пикчерс Студия\"</td>\n",
              "      <td>Россия</td>\n",
              "      <td>Р.Прыгунов</td>\n",
              "      <td>П.Ануров, Ф.Бондарчук, Д.Рудовский</td>\n",
              "      <td>«16+» - для детей старше 16 лет</td>\n",
              "      <td>0.00</td>\n",
              "      <td>75000000.00</td>\n",
              "      <td>121838689.18</td>\n",
              "      <td>Фонд кино</td>\n",
              "      <td>6.60</td>\n",
              "      <td>драма</td>\n",
              "      <td>446163511.00</td>\n",
              "      <td>inf</td>\n",
              "    </tr>\n",
              "    <tr>\n",
              "      <th>2471</th>\n",
              "      <td>Воин (2015)</td>\n",
              "      <td>111017315</td>\n",
              "      <td>2015-09-28 12:00:00+00:00</td>\n",
              "      <td>Художественный</td>\n",
              "      <td>ООО \"Форпост Продакшн\", ООО \"Арт Пикчерс Студия\"</td>\n",
              "      <td>Россия</td>\n",
              "      <td>А.Андрианов</td>\n",
              "      <td>ООО \"Арт Пикчерс Студия\"</td>\n",
              "      <td>«12+» - для детей старше 12 лет</td>\n",
              "      <td>10000000.00</td>\n",
              "      <td>70000000.00</td>\n",
              "      <td>129961268.46</td>\n",
              "      <td>Фонд кино</td>\n",
              "      <td>7.80</td>\n",
              "      <td>боевик,драма,криминал</td>\n",
              "      <td>196572438.40</td>\n",
              "      <td>inf</td>\n",
              "    </tr>\n",
              "    <tr>\n",
              "      <th>2531</th>\n",
              "      <td>Бармен.</td>\n",
              "      <td>111009615</td>\n",
              "      <td>2015-05-26 12:00:00+00:00</td>\n",
              "      <td>Художественный</td>\n",
              "      <td>АО \"ВайТ Медиа\", ООО \"Арт Пикчерс Студия\"</td>\n",
              "      <td>Россия</td>\n",
              "      <td>Д.Штурманова</td>\n",
              "      <td>Т.Вайнштейн</td>\n",
              "      <td>«16+» - для детей старше 16 лет</td>\n",
              "      <td>20000000.00</td>\n",
              "      <td>0.00</td>\n",
              "      <td>32490317.12</td>\n",
              "      <td>Фонд кино</td>\n",
              "      <td>6.20</td>\n",
              "      <td>комедия,фэнтези</td>\n",
              "      <td>67418974.80</td>\n",
              "      <td>inf</td>\n",
              "    </tr>\n",
              "    <tr>\n",
              "      <th>2614</th>\n",
              "      <td>Савва. Сердце воина</td>\n",
              "      <td>114001715</td>\n",
              "      <td>2015-07-21 12:00:00+00:00</td>\n",
              "      <td>Анимационный</td>\n",
              "      <td>ООО \"Глюкоза Продакшн\", ООО \"Арт Пикчерс Студия\"</td>\n",
              "      <td>Россия</td>\n",
              "      <td>М.Фадеев</td>\n",
              "      <td>А.Чистяков</td>\n",
              "      <td>«6+» - для детей старше 6 лет</td>\n",
              "      <td>60000000.00</td>\n",
              "      <td>100000000.00</td>\n",
              "      <td>259922536.93</td>\n",
              "      <td>Фонд кино</td>\n",
              "      <td>4.60</td>\n",
              "      <td>мультфильм,приключения,фэнтези</td>\n",
              "      <td>184487551.40</td>\n",
              "      <td>inf</td>\n",
              "    </tr>\n",
              "    <tr>\n",
              "      <th>2683</th>\n",
              "      <td>Тряпичный союз</td>\n",
              "      <td>111010215</td>\n",
              "      <td>2015-06-08 12:00:00+00:00</td>\n",
              "      <td>Художественный</td>\n",
              "      <td>ООО \"Кинокомпания \"КОКТЕБЕЛЬ\"</td>\n",
              "      <td>Россия</td>\n",
              "      <td>М.Местецкий</td>\n",
              "      <td>Р.Борисевич, А.Кушаев</td>\n",
              "      <td>«18+» - запрещено для детей</td>\n",
              "      <td>0.00</td>\n",
              "      <td>59000000.00</td>\n",
              "      <td>95846435.49</td>\n",
              "      <td>Фонд кино</td>\n",
              "      <td>6.30</td>\n",
              "      <td>комедия,драма</td>\n",
              "      <td>1957738.51</td>\n",
              "      <td>inf</td>\n",
              "    </tr>\n",
              "    <tr>\n",
              "      <th>2787</th>\n",
              "      <td>Срочно выйду замуж</td>\n",
              "      <td>111017115</td>\n",
              "      <td>2015-09-30 12:00:00+00:00</td>\n",
              "      <td>Художественный</td>\n",
              "      <td>АО \"ВайТ Медиа\", ООО \"Арт Пикчерс Студия\"</td>\n",
              "      <td>Россия</td>\n",
              "      <td>С Чекалов</td>\n",
              "      <td>Ф.Бондарчук, Т.Вайнштейн, Д.Рудовский</td>\n",
              "      <td>«16+» - для детей старше 16 лет</td>\n",
              "      <td>0.00</td>\n",
              "      <td>35000000.00</td>\n",
              "      <td>56858054.95</td>\n",
              "      <td>Фонд кино</td>\n",
              "      <td>5.10</td>\n",
              "      <td>комедия,мелодрама</td>\n",
              "      <td>72937783.20</td>\n",
              "      <td>inf</td>\n",
              "    </tr>\n",
              "    <tr>\n",
              "      <th>2873</th>\n",
              "      <td>Помню - не помню!</td>\n",
              "      <td>111004916</td>\n",
              "      <td>2016-03-01 12:00:00+00:00</td>\n",
              "      <td>Художественный</td>\n",
              "      <td>ООО \"КиноФирма\"</td>\n",
              "      <td>Россия</td>\n",
              "      <td>В.Ровенский</td>\n",
              "      <td>ООО \"КиноФирма\"</td>\n",
              "      <td>«12+» - для детей старше 12 лет</td>\n",
              "      <td>0.00</td>\n",
              "      <td>6000000.00</td>\n",
              "      <td>9747095.13</td>\n",
              "      <td>Министерство культуры</td>\n",
              "      <td>4.30</td>\n",
              "      <td>комедия</td>\n",
              "      <td>15362931.43</td>\n",
              "      <td>inf</td>\n",
              "    </tr>\n",
              "    <tr>\n",
              "      <th>3046</th>\n",
              "      <td>Любовь с ограничениями</td>\n",
              "      <td>111008216</td>\n",
              "      <td>2016-04-29 12:00:00+00:00</td>\n",
              "      <td>Художественный</td>\n",
              "      <td>АО \"ВайТ Медиа\", ООО \"Арт Пикчерс Студия\"</td>\n",
              "      <td>Россия</td>\n",
              "      <td>Д.Тюрин</td>\n",
              "      <td>Ф.Бондарчук, Т.Вайнштейн, Д.Рудовский</td>\n",
              "      <td>«16+» - для детей старше 16 лет</td>\n",
              "      <td>19000000.00</td>\n",
              "      <td>51000000.00</td>\n",
              "      <td>113716109.91</td>\n",
              "      <td>Фонд кино</td>\n",
              "      <td>6.30</td>\n",
              "      <td>комедия,мелодрама</td>\n",
              "      <td>70299052.00</td>\n",
              "      <td>inf</td>\n",
              "    </tr>\n",
              "    <tr>\n",
              "      <th>3564</th>\n",
              "      <td>Притяжение (2016)</td>\n",
              "      <td>111018116</td>\n",
              "      <td>2016-12-16 12:00:00+00:00</td>\n",
              "      <td>Художественный</td>\n",
              "      <td>ООО \"Водород 2011\",  ООО \"Арт Пикчерс Студия\"</td>\n",
              "      <td>Россия</td>\n",
              "      <td>Ф.Бондарчук</td>\n",
              "      <td>ООО \"Арт Пикчерс Студия\"</td>\n",
              "      <td>«12+» - для детей старше 12 лет</td>\n",
              "      <td>0.00</td>\n",
              "      <td>250000000.00</td>\n",
              "      <td>406128963.95</td>\n",
              "      <td>Фонд кино</td>\n",
              "      <td>5.60</td>\n",
              "      <td>фантастика</td>\n",
              "      <td>1038321489.00</td>\n",
              "      <td>inf</td>\n",
              "    </tr>\n",
              "    <tr>\n",
              "      <th>3674</th>\n",
              "      <td>Чудо-юдо</td>\n",
              "      <td>114001817</td>\n",
              "      <td>2017-06-27 12:00:00+00:00</td>\n",
              "      <td>Анимационный</td>\n",
              "      <td>ООО \"КиноФирма\"</td>\n",
              "      <td>Россия</td>\n",
              "      <td>А.Лукичев</td>\n",
              "      <td>ООО \"КиноФирма\"</td>\n",
              "      <td>«6+» - для детей старше 6 лет</td>\n",
              "      <td>20000000.00</td>\n",
              "      <td>20000000.00</td>\n",
              "      <td>64980634.23</td>\n",
              "      <td>Фонд кино</td>\n",
              "      <td>5.20</td>\n",
              "      <td>мультфильм,фэнтези,семейный</td>\n",
              "      <td>55108014.76</td>\n",
              "      <td>inf</td>\n",
              "    </tr>\n",
              "    <tr>\n",
              "      <th>3738</th>\n",
              "      <td>Мифы</td>\n",
              "      <td>111004317</td>\n",
              "      <td>2017-06-07 12:00:00+00:00</td>\n",
              "      <td>Художественный</td>\n",
              "      <td>ООО \"ХАЙПФИЛМ\", ООО \"Арт Пикчерс Студия\"</td>\n",
              "      <td>Россия</td>\n",
              "      <td>А.Молочников</td>\n",
              "      <td>Ф.Бондарчук, Д.Рудовский, И.Стюарт, М.Османн, Ю.Козырев</td>\n",
              "      <td>«16+» - для детей старше 16 лет</td>\n",
              "      <td>25000000.00</td>\n",
              "      <td>20000000.00</td>\n",
              "      <td>73103213.51</td>\n",
              "      <td>Фонд кино</td>\n",
              "      <td>4.80</td>\n",
              "      <td>комедия</td>\n",
              "      <td>50451949.00</td>\n",
              "      <td>inf</td>\n",
              "    </tr>\n",
              "    <tr>\n",
              "      <th>5672</th>\n",
              "      <td>Селфи</td>\n",
              "      <td>111012117</td>\n",
              "      <td>2018-02-01 12:00:00+00:00</td>\n",
              "      <td>Художественный</td>\n",
              "      <td>ООО \"Киностудия \"Слово\", ООО \"Арт Пикчерс Студия\"</td>\n",
              "      <td>Россия</td>\n",
              "      <td>Н.Хомерики</td>\n",
              "      <td>П.Ануров, Ф.Бондарчук, Д.Рудовский</td>\n",
              "      <td>«16+» - для детей старше 16 лет</td>\n",
              "      <td>20000000.00</td>\n",
              "      <td>40000000.00</td>\n",
              "      <td>97470951.35</td>\n",
              "      <td>Фонд кино</td>\n",
              "      <td>5.80</td>\n",
              "      <td>триллер,драма</td>\n",
              "      <td>225196400.03</td>\n",
              "      <td>inf</td>\n",
              "    </tr>\n",
              "    <tr>\n",
              "      <th>5805</th>\n",
              "      <td>Два хвоста</td>\n",
              "      <td>114001018</td>\n",
              "      <td>2018-05-31 12:00:00+00:00</td>\n",
              "      <td>Анимационный</td>\n",
              "      <td>ООО \"ЛИЦЕНЗИОННЫЕ БРЕНДЫ\"</td>\n",
              "      <td>Россия</td>\n",
              "      <td>В.Ровенский, Н.Лопато, В.Азеев</td>\n",
              "      <td>ООО \"ЛИЦЕНЗИОННЫЕ БРЕНДЫ\"</td>\n",
              "      <td>«6+» - для детей старше 6 лет</td>\n",
              "      <td>10000000.00</td>\n",
              "      <td>60000000.00</td>\n",
              "      <td>113716109.91</td>\n",
              "      <td>Фонд кино</td>\n",
              "      <td>5.00</td>\n",
              "      <td>мультфильм,детский</td>\n",
              "      <td>106514301.03</td>\n",
              "      <td>inf</td>\n",
              "    </tr>\n",
              "    <tr>\n",
              "      <th>6007</th>\n",
              "      <td>Принцесса и дракон</td>\n",
              "      <td>114003018</td>\n",
              "      <td>2018-08-23 12:00:00+00:00</td>\n",
              "      <td>Анимационный</td>\n",
              "      <td>ООО \"ЛИЦЕНЗИОННЫЕ БРЕНДЫ\"</td>\n",
              "      <td>Россия</td>\n",
              "      <td>М.Нефедова</td>\n",
              "      <td>ООО \"ЛИЦЕНЗИОННЫЕ БРЕНДЫ\"</td>\n",
              "      <td>«6+» - для детей старше 6 лет</td>\n",
              "      <td>40000000.00</td>\n",
              "      <td>40000000.00</td>\n",
              "      <td>129961268.46</td>\n",
              "      <td>Фонд кино</td>\n",
              "      <td>5.20</td>\n",
              "      <td>мультфильм,фэнтези,детский</td>\n",
              "      <td>83366328.66</td>\n",
              "      <td>inf</td>\n",
              "    </tr>\n",
              "    <tr>\n",
              "      <th>6322</th>\n",
              "      <td>Баба Яга</td>\n",
              "      <td>114006518</td>\n",
              "      <td>2018-11-08 12:00:00+00:00</td>\n",
              "      <td>Анимационный</td>\n",
              "      <td>ООО \"Арт Пикчерс Студия\"</td>\n",
              "      <td>Россия</td>\n",
              "      <td>В.Саков</td>\n",
              "      <td>ООО \"Арт Пикчерс Студия\", ООО \"КРИЭЙТИВ АНИМЭЙШН\", ООО \"Система-А\"</td>\n",
              "      <td>«6+» - для детей старше 6 лет</td>\n",
              "      <td>0.00</td>\n",
              "      <td>138969465.00</td>\n",
              "      <td>225758099.36</td>\n",
              "      <td>Фонд кино</td>\n",
              "      <td>NaN</td>\n",
              "      <td></td>\n",
              "      <td>1334699.40</td>\n",
              "      <td>inf</td>\n",
              "    </tr>\n",
              "    <tr>\n",
              "      <th>6822</th>\n",
              "      <td>Большое путешествие</td>\n",
              "      <td>114002419</td>\n",
              "      <td>2019-04-20 12:00:00+00:00</td>\n",
              "      <td>Анимационный</td>\n",
              "      <td>ООО \"ЛИЦЕНЗИОННЫЕ БРЕНДЫ\"</td>\n",
              "      <td>Россия</td>\n",
              "      <td>Н.Лопато, В.Ровенский</td>\n",
              "      <td>ООО \"ЛИЦЕНЗИОННЫЕ БРЕНДЫ\"</td>\n",
              "      <td>«6+» - для детей старше 6 лет</td>\n",
              "      <td>60000000.00</td>\n",
              "      <td>120000000.00</td>\n",
              "      <td>292412854.04</td>\n",
              "      <td>Фонд кино</td>\n",
              "      <td>6.20</td>\n",
              "      <td>мультфильм,комедия,приключения</td>\n",
              "      <td>147606826.51</td>\n",
              "      <td>inf</td>\n",
              "    </tr>\n",
              "  </tbody>\n",
              "</table>\n",
              "</div>"
            ],
            "text/plain": [
              "                       title   puNumber           show_start_date  \\\n",
              "2052                     14+  111023614 2014-12-19 12:00:00+00:00   \n",
              "2057               Дуxless 2  111000415 2015-01-26 12:00:00+00:00   \n",
              "2471             Воин (2015)  111017315 2015-09-28 12:00:00+00:00   \n",
              "2531                 Бармен.  111009615 2015-05-26 12:00:00+00:00   \n",
              "2614     Савва. Сердце воина  114001715 2015-07-21 12:00:00+00:00   \n",
              "2683          Тряпичный союз  111010215 2015-06-08 12:00:00+00:00   \n",
              "2787      Срочно выйду замуж  111017115 2015-09-30 12:00:00+00:00   \n",
              "2873       Помню - не помню!  111004916 2016-03-01 12:00:00+00:00   \n",
              "3046  Любовь с ограничениями  111008216 2016-04-29 12:00:00+00:00   \n",
              "3564       Притяжение (2016)  111018116 2016-12-16 12:00:00+00:00   \n",
              "3674                Чудо-юдо  114001817 2017-06-27 12:00:00+00:00   \n",
              "3738                    Мифы  111004317 2017-06-07 12:00:00+00:00   \n",
              "5672                   Селфи  111012117 2018-02-01 12:00:00+00:00   \n",
              "5805              Два хвоста  114001018 2018-05-31 12:00:00+00:00   \n",
              "6007      Принцесса и дракон  114003018 2018-08-23 12:00:00+00:00   \n",
              "6322                Баба Яга  114006518 2018-11-08 12:00:00+00:00   \n",
              "6822     Большое путешествие  114002419 2019-04-20 12:00:00+00:00   \n",
              "\n",
              "                 type                                        film_studio  \\\n",
              "2052   Художественный                         ООО Киностудия  \"Сентябрь\"   \n",
              "2057   Художественный  ООО \"Киностудия \"Слово\", ООО \"Арт Пикчерс Студия\"   \n",
              "2471   Художественный   ООО \"Форпост Продакшн\", ООО \"Арт Пикчерс Студия\"   \n",
              "2531   Художественный          АО \"ВайТ Медиа\", ООО \"Арт Пикчерс Студия\"   \n",
              "2614     Анимационный   ООО \"Глюкоза Продакшн\", ООО \"Арт Пикчерс Студия\"   \n",
              "2683   Художественный                      ООО \"Кинокомпания \"КОКТЕБЕЛЬ\"   \n",
              "2787   Художественный          АО \"ВайТ Медиа\", ООО \"Арт Пикчерс Студия\"   \n",
              "2873   Художественный                                    ООО \"КиноФирма\"   \n",
              "3046   Художественный          АО \"ВайТ Медиа\", ООО \"Арт Пикчерс Студия\"   \n",
              "3564   Художественный      ООО \"Водород 2011\",  ООО \"Арт Пикчерс Студия\"   \n",
              "3674     Анимационный                                    ООО \"КиноФирма\"   \n",
              "3738   Художественный           ООО \"ХАЙПФИЛМ\", ООО \"Арт Пикчерс Студия\"   \n",
              "5672   Художественный  ООО \"Киностудия \"Слово\", ООО \"Арт Пикчерс Студия\"   \n",
              "5805     Анимационный                          ООО \"ЛИЦЕНЗИОННЫЕ БРЕНДЫ\"   \n",
              "6007     Анимационный                          ООО \"ЛИЦЕНЗИОННЫЕ БРЕНДЫ\"   \n",
              "6322     Анимационный                           ООО \"Арт Пикчерс Студия\"   \n",
              "6822     Анимационный                          ООО \"ЛИЦЕНЗИОННЫЕ БРЕНДЫ\"   \n",
              "\n",
              "     production_country                        director  \\\n",
              "2052             Россия                        А.Зайцев   \n",
              "2057             Россия                      Р.Прыгунов   \n",
              "2471             Россия                     А.Андрианов   \n",
              "2531             Россия                    Д.Штурманова   \n",
              "2614             Россия                        М.Фадеев   \n",
              "2683             Россия                     М.Местецкий   \n",
              "2787             Россия                       С Чекалов   \n",
              "2873             Россия                     В.Ровенский   \n",
              "3046             Россия                         Д.Тюрин   \n",
              "3564             Россия                     Ф.Бондарчук   \n",
              "3674             Россия                       А.Лукичев   \n",
              "3738             Россия                    А.Молочников   \n",
              "5672             Россия                      Н.Хомерики   \n",
              "5805             Россия  В.Ровенский, Н.Лопато, В.Азеев   \n",
              "6007             Россия                      М.Нефедова   \n",
              "6322             Россия                         В.Саков   \n",
              "6822             Россия           Н.Лопато, В.Ровенский   \n",
              "\n",
              "                                                                producer  \\\n",
              "2052                                                 О.Гранина, А.Зайцев   \n",
              "2057                                  П.Ануров, Ф.Бондарчук, Д.Рудовский   \n",
              "2471                                            ООО \"Арт Пикчерс Студия\"   \n",
              "2531                                                         Т.Вайнштейн   \n",
              "2614                                                          А.Чистяков   \n",
              "2683                                               Р.Борисевич, А.Кушаев   \n",
              "2787                               Ф.Бондарчук, Т.Вайнштейн, Д.Рудовский   \n",
              "2873                                                     ООО \"КиноФирма\"   \n",
              "3046                               Ф.Бондарчук, Т.Вайнштейн, Д.Рудовский   \n",
              "3564                                            ООО \"Арт Пикчерс Студия\"   \n",
              "3674                                                     ООО \"КиноФирма\"   \n",
              "3738             Ф.Бондарчук, Д.Рудовский, И.Стюарт, М.Османн, Ю.Козырев   \n",
              "5672                                  П.Ануров, Ф.Бондарчук, Д.Рудовский   \n",
              "5805                                           ООО \"ЛИЦЕНЗИОННЫЕ БРЕНДЫ\"   \n",
              "6007                                           ООО \"ЛИЦЕНЗИОННЫЕ БРЕНДЫ\"   \n",
              "6322  ООО \"Арт Пикчерс Студия\", ООО \"КРИЭЙТИВ АНИМЭЙШН\", ООО \"Система-А\"   \n",
              "6822                                           ООО \"ЛИЦЕНЗИОННЫЕ БРЕНДЫ\"   \n",
              "\n",
              "                      age_restriction  refundable_support  \\\n",
              "2052  «16+» - для детей старше 16 лет                0.00   \n",
              "2057  «16+» - для детей старше 16 лет                0.00   \n",
              "2471  «12+» - для детей старше 12 лет         10000000.00   \n",
              "2531  «16+» - для детей старше 16 лет         20000000.00   \n",
              "2614    «6+» - для детей старше 6 лет         60000000.00   \n",
              "2683      «18+» - запрещено для детей                0.00   \n",
              "2787  «16+» - для детей старше 16 лет                0.00   \n",
              "2873  «12+» - для детей старше 12 лет                0.00   \n",
              "3046  «16+» - для детей старше 16 лет         19000000.00   \n",
              "3564  «12+» - для детей старше 12 лет                0.00   \n",
              "3674    «6+» - для детей старше 6 лет         20000000.00   \n",
              "3738  «16+» - для детей старше 16 лет         25000000.00   \n",
              "5672  «16+» - для детей старше 16 лет         20000000.00   \n",
              "5805    «6+» - для детей старше 6 лет         10000000.00   \n",
              "6007    «6+» - для детей старше 6 лет         40000000.00   \n",
              "6322    «6+» - для детей старше 6 лет                0.00   \n",
              "6822    «6+» - для детей старше 6 лет         60000000.00   \n",
              "\n",
              "      nonrefundable_support       budget                  financing_source  \\\n",
              "2052            23000000.00  37363864.68  Министерство культуры, Фонд кино   \n",
              "2057            75000000.00 121838689.18                         Фонд кино   \n",
              "2471            70000000.00 129961268.46                         Фонд кино   \n",
              "2531                   0.00  32490317.12                         Фонд кино   \n",
              "2614           100000000.00 259922536.93                         Фонд кино   \n",
              "2683            59000000.00  95846435.49                         Фонд кино   \n",
              "2787            35000000.00  56858054.95                         Фонд кино   \n",
              "2873             6000000.00   9747095.13             Министерство культуры   \n",
              "3046            51000000.00 113716109.91                         Фонд кино   \n",
              "3564           250000000.00 406128963.95                         Фонд кино   \n",
              "3674            20000000.00  64980634.23                         Фонд кино   \n",
              "3738            20000000.00  73103213.51                         Фонд кино   \n",
              "5672            40000000.00  97470951.35                         Фонд кино   \n",
              "5805            60000000.00 113716109.91                         Фонд кино   \n",
              "6007            40000000.00 129961268.46                         Фонд кино   \n",
              "6322           138969465.00 225758099.36                         Фонд кино   \n",
              "6822           120000000.00 292412854.04                         Фонд кино   \n",
              "\n",
              "      ratings                          genres    box_office  state_support  \n",
              "2052     6.60                       мелодрама   10234016.10            inf  \n",
              "2057     6.60                           драма  446163511.00            inf  \n",
              "2471     7.80           боевик,драма,криминал  196572438.40            inf  \n",
              "2531     6.20                 комедия,фэнтези   67418974.80            inf  \n",
              "2614     4.60  мультфильм,приключения,фэнтези  184487551.40            inf  \n",
              "2683     6.30                   комедия,драма    1957738.51            inf  \n",
              "2787     5.10               комедия,мелодрама   72937783.20            inf  \n",
              "2873     4.30                         комедия   15362931.43            inf  \n",
              "3046     6.30               комедия,мелодрама   70299052.00            inf  \n",
              "3564     5.60                      фантастика 1038321489.00            inf  \n",
              "3674     5.20     мультфильм,фэнтези,семейный   55108014.76            inf  \n",
              "3738     4.80                         комедия   50451949.00            inf  \n",
              "5672     5.80                   триллер,драма  225196400.03            inf  \n",
              "5805     5.00              мультфильм,детский  106514301.03            inf  \n",
              "6007     5.20      мультфильм,фэнтези,детский   83366328.66            inf  \n",
              "6322      NaN                                    1334699.40            inf  \n",
              "6822     6.20  мультфильм,комедия,приключения  147606826.51            inf  "
            ]
          },
          "execution_count": 19,
          "metadata": {},
          "output_type": "execute_result"
        }
      ],
      "source": [
        "data['state_support'] = (data['refundable_support'] + data['nonrefundable_support']) / data['budget']\n",
        "state_percentage = data['state_support'].median()\n",
        "\n",
        "data.loc[analysis_budget.index, 'budget'] = (data.loc[analysis_budget.index, 'refundable_support'] + data.loc[analysis_budget.index, 'nonrefundable_support']) / state_percentage\n",
        "\n",
        "data.loc[analysis_budget.index]"
      ]
    },
    {
      "cell_type": "code",
      "execution_count": null,
      "metadata": {
        "id": "WHGJi9uxhrFG"
      },
      "outputs": [],
      "source": [
        "data = data.drop(data[data['budget'] < (data['refundable_support'] + data['nonrefundable_support'])].index)"
      ]
    },
    {
      "cell_type": "markdown",
      "metadata": {
        "id": "48A3CdF-hrFG"
      },
      "source": [
        "**Вывод:** Видно, что есть строки, где budget равен 0, refundable_support и nonrefundable_support нет, так быть не может, потому что очевидно, что эти фильмы получали господдержку. Таких строчек всего 17, так что принципиально на анализ данных они не повлияют. Произведем удаление пропусков.\n"
      ]
    },
    {
      "cell_type": "markdown",
      "metadata": {
        "id": "Eu6oWp2CgFyS"
      },
      "source": [
        "#### Шаг 2.6. Добавьте новые столбцы\n",
        "\n",
        "\n",
        "\n"
      ]
    },
    {
      "cell_type": "markdown",
      "metadata": {
        "id": "7GgW-UpAgFyS"
      },
      "source": [
        "- Создайте столбец с информацией о годе проката. Выделите год из даты премьеры фильма."
      ]
    },
    {
      "cell_type": "code",
      "execution_count": null,
      "metadata": {
        "id": "I-yd1DkWgFyT",
        "outputId": "b2b21895-1364-4343-c496-c5b6c5d7ecc5"
      },
      "outputs": [
        {
          "name": "stdout",
          "output_type": "stream",
          "text": [
            "0       2015\n",
            "1       2016\n",
            "2       2016\n",
            "3       2016\n",
            "4       2015\n",
            "        ... \n",
            "7480    2019\n",
            "7481    2019\n",
            "7482    2019\n",
            "7483    2019\n",
            "7484    2019\n",
            "Name: year, Length: 7456, dtype: int64\n"
          ]
        }
      ],
      "source": [
        "data['year'] = data['show_start_date'].dt.year # добавляем столбец о годе проката\n",
        "print(data['year'])"
      ]
    },
    {
      "cell_type": "markdown",
      "metadata": {
        "id": "nFTDLDYOgFyT"
      },
      "source": [
        "- Создайте два столбца: с именем и фамилией главного режиссёра и основным жанром фильма. В столбцы войдут первые значения из списка режиссёров и жанров соответственно.\n",
        "\n",
        "<div id=\"accordion\">\n",
        "    <div class=\"card\">\n",
        "        <div class=\"card-header\" id=\"headingThree\">\n",
        "            <button class=\"btn btn-link collapsed\" data-toggle=\"collapse\" data-target=\"#collapseHint_2\" aria-expanded=\"false\" aria-controls=\"collapseHint_2\">Подсказка</button>\n",
        "        </div>\n",
        "        <div id=\"collapseHint_2\" class=\"collapse\" aria-labelledby=\"headingThree\" data-parent=\"#accordion\">\n",
        "            <div class=\"card-body\">\n",
        "Чтобы создать такие столбцы, лучше всего использовать собственную функцию. Эту функцию можно применить к двум столбцам сразу.\n",
        "            </div>\n",
        "        </div>\n",
        "    </div>\n",
        "</div>"
      ]
    },
    {
      "cell_type": "code",
      "execution_count": null,
      "metadata": {
        "id": "LSbRZKbMgFyU"
      },
      "outputs": [],
      "source": [
        "def first_value(index):\n",
        "    index_list = index.split(',')[0]\n",
        "    return index_list\n",
        "\n",
        "data['main_director'] = data['director'].apply(first_value)\n",
        "data['main_genre'] = data['genres'].apply(first_value)"
      ]
    },
    {
      "cell_type": "markdown",
      "metadata": {
        "id": "1FsCXHwdgFyU"
      },
      "source": [
        "- Посчитайте, какую долю от общего бюджета фильма составляет государственная поддержка."
      ]
    },
    {
      "cell_type": "code",
      "execution_count": null,
      "metadata": {
        "id": "LV6qFuZLgFyV",
        "outputId": "288ee873-03c1-4a98-c8a4-07c49a290733"
      },
      "outputs": [
        {
          "name": "stdout",
          "output_type": "stream",
          "text": [
            "Чаще всего долю от общего бюджета фильма составляет государственная поддержка 61.54763149797731\n"
          ]
        }
      ],
      "source": [
        "data['state_support'] = (data['refundable_support'] + data['nonrefundable_support']) / data['budget']\n",
        "\n",
        "print('Чаще всего долю от общего бюджета фильма составляет государственная поддержка',(data['state_support'].median())*100)\n"
      ]
    },
    {
      "cell_type": "markdown",
      "metadata": {
        "id": "6t4EukPLgFyV"
      },
      "source": [
        "### Шаг 3. Проведите исследовательский анализ данных\n"
      ]
    },
    {
      "cell_type": "markdown",
      "metadata": {
        "id": "vAH8WCzugFyV"
      },
      "source": [
        "- Посмотрите, сколько фильмов выходило в прокат каждый год. Обратите внимание, что данные о прокате в кинотеатрах известны не для всех фильмов. Посчитайте, какую долю составляют фильмы с указанной информацией о прокате в кинотеатрах."
      ]
    },
    {
      "cell_type": "code",
      "execution_count": null,
      "metadata": {
        "id": "UsYJh6TyhrFH"
      },
      "outputs": [],
      "source": [
        "data['box_office'] = pd.to_numeric(data['box_office'], errors='coerce')\n"
      ]
    },
    {
      "cell_type": "code",
      "execution_count": null,
      "metadata": {
        "id": "gCz_iZvxhrFH"
      },
      "outputs": [],
      "source": [
        "data['good_box_office'] = data['box_office'] > 0"
      ]
    },
    {
      "cell_type": "code",
      "execution_count": null,
      "metadata": {
        "id": "z6r6u65_hrFH",
        "outputId": "e64d4ed9-e331-4949-b8df-787c52b24699"
      },
      "outputs": [
        {
          "name": "stdout",
          "output_type": "stream",
          "text": [
            "Доля фильмов, для которых есть информация о сборах: 0.42153969957081544\n"
          ]
        },
        {
          "data": {
            "image/png": "[encoded data removed]",
            "text/plain": [
              "<Figure size 432x288 with 1 Axes>"
            ]
          },
          "metadata": {
            "needs_background": "light"
          },
          "output_type": "display_data"
        }
      ],
      "source": [
        "films_count= data.groupby(by='year')['good_box_office'].agg('count')\n",
        "films_count.columns = ['count']\n",
        "films_count.plot(title='количество фильмов в прокате по годам', kind='bar', y='count');\n",
        "print('Доля фильмов, для которых есть информация о сборах:' ,data.box_office.notna().mean())"
      ]
    },
    {
      "cell_type": "markdown",
      "metadata": {
        "id": "tZANnWPlhrFH"
      },
      "source": [
        "**Вывод:** Полнее всего данные представлены в 2010 и 2019 годах."
      ]
    },
    {
      "cell_type": "markdown",
      "metadata": {
        "id": "17Zso87fhrFH"
      },
      "source": [
        "<div style=\"border:solid green 2px; padding: 20px\">\n",
        "\n",
        "**Вопрос:**  Я поменяла группировку данных с прокатного удостоверения на дату премьеры('show_start_date'), не понимаю почему снова неправильно"
      ]
    },
    {
      "cell_type": "code",
      "execution_count": null,
      "metadata": {
        "id": "1383GrT7hrFH",
        "outputId": "7ffa149e-86ec-4b9c-b796-15a5d4881e28"
      },
      "outputs": [
        {
          "data": {
            "text/plain": [
              "<AxesSubplot:title={'center':'количество фильмов в прокате по годам'}, xlabel='year'>"
            ]
          },
          "execution_count": 27,
          "metadata": {},
          "output_type": "execute_result"
        },
        {
          "data": {
            "image/png": "[encoded data removed]",
            "text/plain": [
              "<Figure size 432x288 with 1 Axes>"
            ]
          },
          "metadata": {
            "needs_background": "light"
          },
          "output_type": "display_data"
        }
      ],
      "source": [
        "films_count= data.groupby(by='year')['good_box_office'].agg('count')\n",
        "films_count.columns = ['count']\n",
        "films_count.plot(title='количество фильмов в прокате по годам', kind='bar', y='count')"
      ]
    },
    {
      "cell_type": "markdown",
      "metadata": {
        "id": "BEOdcIrIgFyW"
      },
      "source": [
        "- Изучите, как менялась динамика проката по годам. В каком году сумма сборов была минимальной? А максимальной?"
      ]
    },
    {
      "cell_type": "markdown",
      "metadata": {
        "id": "WCOK-6EghrFI"
      },
      "source": [
        "**Вывод:** Минимальная сумма была в 2010 году, максимальная в 2018 году"
      ]
    },
    {
      "cell_type": "code",
      "execution_count": null,
      "metadata": {
        "id": "tfEhofYvgFyX",
        "outputId": "611ea7f4-45a7-4d78-c8d7-a1330a282b4f"
      },
      "outputs": [
        {
          "name": "stdout",
          "output_type": "stream",
          "text": [
            "year\n",
            "2010       2428654.00\n",
            "2011      14102765.00\n",
            "2012       6953683.00\n",
            "2013      29799706.20\n",
            "2014    7444947564.20\n",
            "2015   38966066659.70\n",
            "2016   47862924556.91\n",
            "2017   48563669257.51\n",
            "2018   49666815912.81\n",
            "2019   48421074314.64\n",
            "Name: box_office, dtype: float64\n"
          ]
        },
        {
          "data": {
            "image/png": "[encoded data removed]",
            "text/plain": [
              "<Figure size 432x288 with 1 Axes>"
            ]
          },
          "metadata": {
            "needs_background": "light"
          },
          "output_type": "display_data"
        }
      ],
      "source": [
        "films_sum= data.groupby(by='year')['box_office'].agg('sum')\n",
        "films_sum.columns = ['sum']\n",
        "films_sum.plot(title='динамика суммы проката по годам', y='sum');\n",
        "\n",
        "print(films_sum)\n"
      ]
    },
    {
      "cell_type": "markdown",
      "metadata": {
        "id": "G-7qS-N-gFyY"
      },
      "source": [
        "- С помощью сводной таблицы посчитайте среднюю и медианную сумму сборов для каждого года."
      ]
    },
    {
      "cell_type": "code",
      "execution_count": null,
      "metadata": {
        "id": "jmp-rgg9gFyY",
        "outputId": "a9e35dac-cf47-4e01-d26a-531edb265852"
      },
      "outputs": [
        {
          "data": {
            "image/png": "[encoded data removed]",
            "text/plain": [
              "<Figure size 432x288 with 1 Axes>"
            ]
          },
          "metadata": {
            "needs_background": "light"
          },
          "output_type": "display_data"
        }
      ],
      "source": [
        "films_m= data.groupby(by = 'year')['box_office'].agg({'mean','median'})\n",
        "films_m.columns = ['mean','median']\n",
        "films_m.plot(title=' средняя и медианная сумма сборов  суммы проката по годам',y=['mean','median']);"
      ]
    },
    {
      "cell_type": "markdown",
      "metadata": {
        "id": "Dwlnt67MhrFI"
      },
      "source": [
        "**Вывод:** После 2012 года медиана и среднее значение приципиально различаются, скорее всего это связано с ростом количества производимых фильмов, что ведет к разбросом данных параметров, так как для среднего любые выбивающие или редкие значения играют роль, в отличие от медианы."
      ]
    },
    {
      "cell_type": "markdown",
      "metadata": {
        "id": "Ok89WFwJgFyZ"
      },
      "source": [
        "- Определите, влияет ли возрастное ограничение аудитории («6+», «12+», «16+», «18+» и т. д.) на сборы фильма в прокате в период с 2015 по 2019 год? Фильмы с каким возрастным ограничением собрали больше всего денег в прокате? Меняется ли картина в зависимости от года? Если да, предположите, с чем это может быть связано."
      ]
    },
    {
      "cell_type": "code",
      "execution_count": null,
      "metadata": {
        "id": "jsSbEqfjgFya",
        "outputId": "4e14db4c-6479-4499-babc-efe3f042afce"
      },
      "outputs": [
        {
          "name": "stdout",
          "output_type": "stream",
          "text": [
            "age_restriction\n",
            "«0+» - для любой зрительской аудитории     379054578.37\n",
            "«12+» - для детей старше 12 лет          14267291660.69\n",
            "«16+» - для детей старше 16 лет          18745042900.06\n",
            "«18+» - запрещено для детей              10121796303.64\n",
            "«6+» - для детей старше 6 лет            12852513658.86\n",
            "dtype: float64\n"
          ]
        },
        {
          "data": {
            "image/png": "[encoded data removed]",
            "text/plain": [
              "<Figure size 432x288 with 1 Axes>"
            ]
          },
          "metadata": {
            "needs_background": "light"
          },
          "output_type": "display_data"
        }
      ],
      "source": [
        "data_age = data.pivot_table(index='year',columns='age_restriction',values='box_office',aggfunc='sum')\n",
        "print(data_age.max())\n",
        "data_age.plot(title='сумма сборов по годам с разбивкой по возрастным категориям',kind='line', xlim=[2015, 2019]);"
      ]
    },
    {
      "cell_type": "markdown",
      "metadata": {
        "id": "-KAfJMtUhrFI"
      },
      "source": [
        "**Вывод:** Фильмы 16+ собрали больше всего денег в прокате. Картина в зависимости от года меняется, скорее всего это связано с общим увелечением количества фильмов."
      ]
    },
    {
      "cell_type": "markdown",
      "metadata": {
        "id": "l_Kg6Ku4gFya"
      },
      "source": [
        "### Шаг 4. Исследуйте фильмы, которые получили государственную поддержку\n",
        "\n",
        "На этом этапе нет конкретных инструкций и заданий — поищите интересные закономерности в данных. Посмотрите, сколько выделяют средств на поддержку кино. Проверьте, хорошо ли окупаются такие фильмы, какой у них рейтинг."
      ]
    },
    {
      "cell_type": "code",
      "execution_count": null,
      "metadata": {
        "id": "W9QKpjUdgFyb",
        "outputId": "91150c81-6450-4928-b00c-b7fa81405558"
      },
      "outputs": [
        {
          "data": {
            "image/png": "[encoded data removed]",
            "text/plain": [
              "<Figure size 432x288 with 1 Axes>"
            ]
          },
          "metadata": {
            "needs_background": "light"
          },
          "output_type": "display_data"
        }
      ],
      "source": [
        "data_rating = data.groupby(by = 'main_genre')['ratings'].agg('mean')\n",
        "data_rating.columns = ['mean']\n",
        "data_rating.sort_values(ascending=False).plot(title='средняя оценка фильмов по жанрам', kind='barh',orientation='horizontal');\n",
        "\n"
      ]
    },
    {
      "cell_type": "markdown",
      "metadata": {
        "id": "ctOIPHGDhrFI"
      },
      "source": [
        "**Вывод:** Наиболее высокая оценка у фильмов в жанре нуар, самая низкая у фильмов для взрослых."
      ]
    },
    {
      "cell_type": "code",
      "execution_count": null,
      "metadata": {
        "id": "DPMMs51shrFJ",
        "outputId": "43acbf75-167f-4786-a6b3-102a29880324"
      },
      "outputs": [
        {
          "data": {
            "image/png": "[encoded data removed]",
            "text/plain": [
              "<Figure size 432x288 with 1 Axes>"
            ]
          },
          "metadata": {
            "needs_background": "light"
          },
          "output_type": "display_data"
        }
      ],
      "source": [
        "data['main_genre'].value_counts().plot(title='количество фильмов, получивших господдержку (по жанрам)', kind='barh',orientation='horizontal');\n",
        "\n"
      ]
    },
    {
      "cell_type": "markdown",
      "metadata": {
        "id": "JLK8ANBahrFJ"
      },
      "source": [
        "**Вывод:**  Жанры фильмов, получившие больше всего господдержки, это драмы,меньше всего реальное ТВ."
      ]
    },
    {
      "cell_type": "code",
      "execution_count": null,
      "metadata": {
        "id": "hs3jjC7-hrFJ",
        "outputId": "7721b2b6-5a66-46bf-da4e-5de4e6eccc43"
      },
      "outputs": [
        {
          "data": {
            "image/png": "[encoded data removed]",
            "text/plain": [
              "<Figure size 432x288 with 1 Axes>"
            ]
          },
          "metadata": {
            "needs_background": "light"
          },
          "output_type": "display_data"
        }
      ],
      "source": [
        "data['full_support'] = data['refundable_support'] + data['nonrefundable_support']\n",
        "data_support = data.groupby(by = 'main_genre')['full_support'].agg('sum')\n",
        "data_support.columns = ['sum']\n",
        "\n",
        "data_support.sort_values(ascending=False).plot(title='обьем государственной поддержки по жанрам', kind='barh',orientation='horizontal');"
      ]
    },
    {
      "cell_type": "code",
      "execution_count": null,
      "metadata": {
        "scrolled": true,
        "id": "BT0HlAUqhrFJ",
        "outputId": "0a1c0f7b-1d51-4a8d-fbca-bcd1048f1525"
      },
      "outputs": [
        {
          "data": {
            "image/png": "[encoded data removed]",
            "text/plain": [
              "<Figure size 432x288 with 1 Axes>"
            ]
          },
          "metadata": {
            "needs_background": "light"
          },
          "output_type": "display_data"
        }
      ],
      "source": [
        "data['income'] = data['box_office'] - data['full_support']\n",
        "data_support = data.groupby(by = 'main_genre')['income'].agg('sum')\n",
        "data_support.columns = ['sum']\n",
        "\n",
        "data_support.sort_values(ascending=False).plot(title='окупаемость фильмов по жанрам', kind='barh',orientation='horizontal');"
      ]
    },
    {
      "cell_type": "markdown",
      "metadata": {
        "id": "sh9AhcJxhrFJ"
      },
      "source": [
        "**Вывод:** Наиболее окупаемым жанром фильмов оказались комедии."
      ]
    },
    {
      "cell_type": "markdown",
      "metadata": {
        "id": "YwDAhFJchrFJ"
      },
      "source": [
        "**Вывод:** Больше всего государственных бюджетных средтсв было выделено на фильмы в жанре драмы. В среднем их рейтинг выше 6 по 10-бальной шкале.\n",
        "В среднем эти фильмы окупаются, однако по окупаемости они уступают комедиям. Фильмы в жанре комедия на втором месте по количеству выделеных денежных сред средств,по рейтингу они уступают драмам,однако самые окупаемые."
      ]
    },
    {
      "cell_type": "markdown",
      "metadata": {
        "id": "V2gYwMcPgFyd"
      },
      "source": [
        "### Шаг 5. Напишите общий вывод"
      ]
    },
    {
      "cell_type": "markdown",
      "metadata": {
        "id": "AYRg3dzXgFye"
      },
      "source": [
        "Было проведено исследовение, чтобы выявить текущие тренды на рынке российского кинопроката.\n",
        "Входные данные - база,которая содержится два  датафрейм : данные о прокатных удостоверениях и данные о прокате в российских кинотеатрах.\n",
        "Была выполнена необходимая предобработка данных: 1. изменен неверный тип данных. 2. выполнена работа с пропущеными значениями. 3. выявлены неявные дубликаты. 4. устранены ошибки в категориальных и количественных значениях. 5. добавлены столбцы для дальнейшего анализа данных.\n",
        "Перед проведением исследования были поставлены несколько задач:\n",
        "1.Посчитайте, какую долю составляют фильмы с указанной информацией о прокате в кинотеатрах.\n",
        "2.Как менялась динамика проката по годам.\n",
        "3.Сравнить среднюю и медианную сумму сборов для каждого года.\n",
        "4.Определите, влияет ли возрастное ограничение аудитории («6+», «12+», «16+», «18+» и т. д.) на сборы фильма в прокате в период с 2015 по 2019 год\n",
        "\n",
        "Полнее всего данные по количеству фильмов в прокате представлены в 2016 и 2019 годах.\n",
        "Начиная с 2010 года сумма прокатов по годам постоянно росла, соответсвенно минимальная сумма была в 2010 году(2 428 654), максимальная в 2018 году(4 966 681 591).\n",
        "После 2012 года медиана и среднее значение суммы сборов приципиально различаются, скорее всего это связано с ростом количества производимых фильмов, что ведет к разбросом данных параметров, так как для среднего любые выбивающие или редкие значения играют роль, в отличие от медианы.\n",
        "Фильмы 16+ собрали больше всего денег в прокате. Картина в зависимости от года меняется, скорее всего это связано с общим увелечением количества фильмов.\n",
        "\n",
        "Больше всего государственных бюджетных средтсв было выделено на фильмы в жанре драмы. В среднем их рейтинг выше 6 по 10-бальной шкале.\n",
        "В среднем эти фильмы окупаются, однако по окупаемости они уступают комедиям. Фильмы в жанре комедия на втором месте по количеству выделеных денежных сред средств,по рейтингу они уступают драмам,однако самые окупаемые."
      ]
    }
  ],
  "metadata": {
    "ExecuteTimeLog": [
      {
        "duration": 537,
        "start_time": "2021-07-07T10:12:08.634Z"
      },
      {
        "duration": 206,
        "start_time": "2021-07-07T10:12:30.191Z"
      },
      {
        "duration": 227,
        "start_time": "2021-07-07T10:12:33.078Z"
      },
      {
        "duration": 153,
        "start_time": "2021-07-07T10:13:42.146Z"
      },
      {
        "duration": 233,
        "start_time": "2021-07-07T10:30:09.252Z"
      },
      {
        "duration": 19,
        "start_time": "2021-07-07T10:30:15.577Z"
      },
      {
        "duration": 18,
        "start_time": "2021-07-07T10:30:57.348Z"
      },
      {
        "duration": 19,
        "start_time": "2021-07-07T10:31:17.452Z"
      },
      {
        "duration": 21,
        "start_time": "2021-07-07T10:31:32.227Z"
      },
      {
        "duration": 27,
        "start_time": "2021-07-07T10:32:06.588Z"
      },
      {
        "duration": 23,
        "start_time": "2021-07-07T10:32:43.645Z"
      },
      {
        "duration": 24,
        "start_time": "2021-07-07T10:33:06.948Z"
      },
      {
        "duration": 7,
        "start_time": "2021-07-07T10:33:28.558Z"
      },
      {
        "duration": 23,
        "start_time": "2021-07-07T10:33:43.761Z"
      },
      {
        "duration": 28,
        "start_time": "2021-07-07T10:34:13.466Z"
      },
      {
        "duration": 23,
        "start_time": "2021-07-07T10:35:56.187Z"
      },
      {
        "duration": 6,
        "start_time": "2021-07-07T10:36:48.182Z"
      },
      {
        "duration": 14,
        "start_time": "2021-07-07T10:37:49.641Z"
      },
      {
        "duration": 6,
        "start_time": "2021-07-07T10:38:06.694Z"
      },
      {
        "duration": 6,
        "start_time": "2021-07-07T10:38:13.493Z"
      },
      {
        "duration": 19,
        "start_time": "2021-07-07T10:38:44.056Z"
      },
      {
        "duration": 186,
        "start_time": "2021-07-07T10:48:35.618Z"
      },
      {
        "duration": 24,
        "start_time": "2021-07-07T10:48:51.498Z"
      },
      {
        "duration": 20,
        "start_time": "2021-07-07T10:48:59.415Z"
      },
      {
        "duration": 20,
        "start_time": "2021-07-07T10:53:02.195Z"
      },
      {
        "duration": 188,
        "start_time": "2021-07-07T10:54:40.486Z"
      },
      {
        "duration": 115,
        "start_time": "2021-07-07T10:54:52.552Z"
      },
      {
        "duration": 214,
        "start_time": "2021-07-07T10:54:56.354Z"
      },
      {
        "duration": 47,
        "start_time": "2021-07-07T10:54:58.282Z"
      },
      {
        "duration": 217,
        "start_time": "2021-07-07T10:59:16.075Z"
      },
      {
        "duration": 51,
        "start_time": "2021-07-07T10:59:16.243Z"
      },
      {
        "duration": 578,
        "start_time": "2021-07-07T10:59:18.774Z"
      },
      {
        "duration": 161,
        "start_time": "2021-07-07T10:59:21.238Z"
      },
      {
        "duration": 59,
        "start_time": "2021-07-07T10:59:21.453Z"
      },
      {
        "duration": 3,
        "start_time": "2021-07-07T11:02:10.786Z"
      },
      {
        "duration": 13,
        "start_time": "2021-07-07T11:07:07.722Z"
      },
      {
        "duration": 26,
        "start_time": "2021-07-07T11:07:17.958Z"
      },
      {
        "duration": 22,
        "start_time": "2021-07-07T11:08:17.939Z"
      },
      {
        "duration": 212,
        "start_time": "2021-07-07T11:08:19.665Z"
      },
      {
        "duration": 21,
        "start_time": "2021-07-07T11:08:29.945Z"
      },
      {
        "duration": 31,
        "start_time": "2021-07-07T11:08:38.899Z"
      },
      {
        "duration": 23,
        "start_time": "2021-07-07T11:08:54.527Z"
      },
      {
        "duration": 8,
        "start_time": "2021-07-07T11:18:55.974Z"
      },
      {
        "duration": 7,
        "start_time": "2021-07-07T11:19:03.639Z"
      },
      {
        "duration": 7,
        "start_time": "2021-07-07T11:19:06.444Z"
      },
      {
        "duration": 578,
        "start_time": "2021-07-07T12:09:59.576Z"
      },
      {
        "duration": 195,
        "start_time": "2021-07-07T12:10:00.156Z"
      },
      {
        "duration": 115,
        "start_time": "2021-07-07T12:10:00.353Z"
      },
      {
        "duration": 3,
        "start_time": "2021-07-07T12:10:00.470Z"
      },
      {
        "duration": 32,
        "start_time": "2021-07-07T12:10:00.474Z"
      },
      {
        "duration": 23,
        "start_time": "2021-07-07T12:10:00.508Z"
      },
      {
        "duration": 19,
        "start_time": "2021-07-07T12:10:00.533Z"
      },
      {
        "duration": 44,
        "start_time": "2021-07-07T12:10:00.553Z"
      },
      {
        "duration": 7,
        "start_time": "2021-07-07T12:10:00.600Z"
      },
      {
        "duration": 7,
        "start_time": "2021-07-07T12:19:45.761Z"
      },
      {
        "duration": 21,
        "start_time": "2021-07-07T12:21:35.482Z"
      },
      {
        "duration": 21,
        "start_time": "2021-07-07T12:29:23.569Z"
      },
      {
        "duration": 525,
        "start_time": "2021-07-07T12:29:44.542Z"
      },
      {
        "duration": 214,
        "start_time": "2021-07-07T12:29:45.069Z"
      },
      {
        "duration": 92,
        "start_time": "2021-07-07T12:29:45.285Z"
      },
      {
        "duration": 3,
        "start_time": "2021-07-07T12:29:45.379Z"
      },
      {
        "duration": 28,
        "start_time": "2021-07-07T12:29:45.384Z"
      },
      {
        "duration": 23,
        "start_time": "2021-07-07T12:29:45.413Z"
      },
      {
        "duration": 21,
        "start_time": "2021-07-07T12:29:45.437Z"
      },
      {
        "duration": 41,
        "start_time": "2021-07-07T12:29:45.460Z"
      },
      {
        "duration": 7,
        "start_time": "2021-07-07T12:29:45.502Z"
      },
      {
        "duration": 20,
        "start_time": "2021-07-07T12:29:45.511Z"
      },
      {
        "duration": 12,
        "start_time": "2021-07-07T12:34:02.800Z"
      },
      {
        "duration": 7,
        "start_time": "2021-07-07T12:35:10.479Z"
      },
      {
        "duration": 8,
        "start_time": "2021-07-07T12:35:22.440Z"
      },
      {
        "duration": 6,
        "start_time": "2021-07-07T12:35:35.649Z"
      },
      {
        "duration": 6,
        "start_time": "2021-07-07T12:35:43.107Z"
      },
      {
        "duration": 22,
        "start_time": "2021-07-07T12:38:03.029Z"
      },
      {
        "duration": 10,
        "start_time": "2021-07-07T12:38:06.592Z"
      },
      {
        "duration": 563,
        "start_time": "2021-07-07T12:38:46.493Z"
      },
      {
        "duration": 265,
        "start_time": "2021-07-07T12:38:47.058Z"
      },
      {
        "duration": 94,
        "start_time": "2021-07-07T12:38:47.325Z"
      },
      {
        "duration": 3,
        "start_time": "2021-07-07T12:38:47.422Z"
      },
      {
        "duration": 30,
        "start_time": "2021-07-07T12:38:47.427Z"
      },
      {
        "duration": 16,
        "start_time": "2021-07-07T12:38:53.305Z"
      },
      {
        "duration": 10,
        "start_time": "2021-07-07T12:38:53.499Z"
      },
      {
        "duration": 8,
        "start_time": "2021-07-07T12:39:48.161Z"
      },
      {
        "duration": 27,
        "start_time": "2021-07-07T12:41:17.629Z"
      },
      {
        "duration": 17,
        "start_time": "2021-07-07T12:41:17.867Z"
      },
      {
        "duration": 21,
        "start_time": "2021-07-07T12:41:19.310Z"
      },
      {
        "duration": 7,
        "start_time": "2021-07-07T12:41:19.544Z"
      },
      {
        "duration": 20,
        "start_time": "2021-07-07T12:41:20.504Z"
      },
      {
        "duration": 554,
        "start_time": "2021-07-07T12:56:23.696Z"
      },
      {
        "duration": 200,
        "start_time": "2021-07-07T12:56:25.234Z"
      },
      {
        "duration": 119,
        "start_time": "2021-07-07T12:56:25.480Z"
      },
      {
        "duration": 4,
        "start_time": "2021-07-07T12:56:25.762Z"
      },
      {
        "duration": 26,
        "start_time": "2021-07-07T12:56:27.172Z"
      },
      {
        "duration": 12,
        "start_time": "2021-07-07T12:56:29.051Z"
      },
      {
        "duration": 10,
        "start_time": "2021-07-07T12:56:29.291Z"
      },
      {
        "duration": 8,
        "start_time": "2021-07-07T12:56:29.623Z"
      },
      {
        "duration": 28,
        "start_time": "2021-07-07T12:56:32.137Z"
      },
      {
        "duration": 19,
        "start_time": "2021-07-07T12:56:39.785Z"
      },
      {
        "duration": 20,
        "start_time": "2021-07-07T12:56:44.297Z"
      },
      {
        "duration": 7,
        "start_time": "2021-07-07T12:56:45.392Z"
      },
      {
        "duration": 23,
        "start_time": "2021-07-07T12:56:46.615Z"
      },
      {
        "duration": 4,
        "start_time": "2021-07-07T12:57:06.625Z"
      },
      {
        "duration": 32,
        "start_time": "2021-07-07T12:57:36.690Z"
      },
      {
        "duration": 18,
        "start_time": "2021-07-07T12:58:00.149Z"
      },
      {
        "duration": 15,
        "start_time": "2021-07-07T12:59:16.793Z"
      },
      {
        "duration": 7,
        "start_time": "2021-07-07T13:19:22.624Z"
      },
      {
        "duration": 6,
        "start_time": "2021-07-07T14:17:33.527Z"
      },
      {
        "duration": 9,
        "start_time": "2021-07-07T14:17:48.409Z"
      },
      {
        "duration": 8,
        "start_time": "2021-07-07T14:20:13.060Z"
      },
      {
        "duration": 8,
        "start_time": "2021-07-07T14:20:37.957Z"
      },
      {
        "duration": 8,
        "start_time": "2021-07-07T14:20:47.470Z"
      },
      {
        "duration": 9,
        "start_time": "2021-07-07T14:20:54.503Z"
      },
      {
        "duration": 10,
        "start_time": "2021-07-07T14:28:57.763Z"
      },
      {
        "duration": 3,
        "start_time": "2021-07-07T14:30:23.377Z"
      },
      {
        "duration": 3,
        "start_time": "2021-07-07T14:30:36.489Z"
      },
      {
        "duration": 103,
        "start_time": "2021-07-07T14:30:52.351Z"
      },
      {
        "duration": 8,
        "start_time": "2021-07-07T14:30:54.763Z"
      },
      {
        "duration": 8,
        "start_time": "2021-07-07T14:31:29.301Z"
      },
      {
        "duration": 13,
        "start_time": "2021-07-07T14:31:44.516Z"
      },
      {
        "duration": 7,
        "start_time": "2021-07-07T14:33:10.972Z"
      },
      {
        "duration": 11,
        "start_time": "2021-07-07T14:33:27.780Z"
      },
      {
        "duration": 8,
        "start_time": "2021-07-07T14:34:44.588Z"
      },
      {
        "duration": 57,
        "start_time": "2021-07-07T14:35:59.042Z"
      },
      {
        "duration": 3,
        "start_time": "2021-07-07T14:36:28.168Z"
      },
      {
        "duration": 5,
        "start_time": "2021-07-07T14:36:46.254Z"
      },
      {
        "duration": 4,
        "start_time": "2021-07-07T14:36:52.714Z"
      },
      {
        "duration": 3,
        "start_time": "2021-07-07T14:36:56.612Z"
      },
      {
        "duration": 4,
        "start_time": "2021-07-07T14:36:57.049Z"
      },
      {
        "duration": 3,
        "start_time": "2021-07-07T14:39:21.214Z"
      },
      {
        "duration": 7,
        "start_time": "2021-07-07T14:39:52.406Z"
      },
      {
        "duration": 11,
        "start_time": "2021-07-07T14:39:58.576Z"
      },
      {
        "duration": 9,
        "start_time": "2021-07-07T14:40:26.301Z"
      },
      {
        "duration": 10,
        "start_time": "2021-07-07T14:40:31.704Z"
      },
      {
        "duration": 11,
        "start_time": "2021-07-07T14:40:36.249Z"
      },
      {
        "duration": 10,
        "start_time": "2021-07-07T14:40:39.783Z"
      },
      {
        "duration": 9,
        "start_time": "2021-07-07T14:40:48.558Z"
      },
      {
        "duration": 10,
        "start_time": "2021-07-07T14:40:57.143Z"
      },
      {
        "duration": 9,
        "start_time": "2021-07-07T14:41:06.074Z"
      },
      {
        "duration": 4324,
        "start_time": "2021-07-07T14:41:22.004Z"
      },
      {
        "duration": 11,
        "start_time": "2021-07-07T14:41:33.392Z"
      },
      {
        "duration": 9,
        "start_time": "2021-07-07T14:41:39.288Z"
      },
      {
        "duration": 569,
        "start_time": "2021-07-07T14:42:14.387Z"
      },
      {
        "duration": 197,
        "start_time": "2021-07-07T14:42:14.959Z"
      },
      {
        "duration": 84,
        "start_time": "2021-07-07T14:42:16.052Z"
      },
      {
        "duration": 4,
        "start_time": "2021-07-07T14:42:16.900Z"
      },
      {
        "duration": 27,
        "start_time": "2021-07-07T14:42:19.898Z"
      },
      {
        "duration": 12,
        "start_time": "2021-07-07T14:42:21.577Z"
      },
      {
        "duration": 9,
        "start_time": "2021-07-07T14:42:21.813Z"
      },
      {
        "duration": 9,
        "start_time": "2021-07-07T14:42:22.569Z"
      },
      {
        "duration": 29,
        "start_time": "2021-07-07T14:42:25.837Z"
      },
      {
        "duration": 20,
        "start_time": "2021-07-07T14:42:27.003Z"
      },
      {
        "duration": 21,
        "start_time": "2021-07-07T14:42:28.767Z"
      },
      {
        "duration": 7,
        "start_time": "2021-07-07T14:42:29.838Z"
      },
      {
        "duration": 4,
        "start_time": "2021-07-07T14:43:25.493Z"
      },
      {
        "duration": 7,
        "start_time": "2021-07-07T14:43:26.573Z"
      },
      {
        "duration": 10,
        "start_time": "2021-07-07T14:43:31.639Z"
      },
      {
        "duration": 9,
        "start_time": "2021-07-07T14:43:32.046Z"
      },
      {
        "duration": 10,
        "start_time": "2021-07-07T14:43:33.301Z"
      },
      {
        "duration": 12,
        "start_time": "2021-07-07T14:43:33.658Z"
      },
      {
        "duration": 8,
        "start_time": "2021-07-07T14:43:34.552Z"
      },
      {
        "duration": 9,
        "start_time": "2021-07-07T14:43:35.058Z"
      },
      {
        "duration": 12,
        "start_time": "2021-07-07T14:43:35.914Z"
      },
      {
        "duration": 17,
        "start_time": "2021-07-07T14:45:34.368Z"
      },
      {
        "duration": 512,
        "start_time": "2021-07-07T14:51:58.236Z"
      },
      {
        "duration": 223,
        "start_time": "2021-07-07T14:51:58.750Z"
      },
      {
        "duration": 93,
        "start_time": "2021-07-07T14:51:58.977Z"
      },
      {
        "duration": 4,
        "start_time": "2021-07-07T14:51:59.071Z"
      },
      {
        "duration": 37,
        "start_time": "2021-07-07T14:51:59.077Z"
      },
      {
        "duration": 18,
        "start_time": "2021-07-07T14:51:59.116Z"
      },
      {
        "duration": 10,
        "start_time": "2021-07-07T14:51:59.137Z"
      },
      {
        "duration": 8,
        "start_time": "2021-07-07T14:51:59.149Z"
      },
      {
        "duration": 54,
        "start_time": "2021-07-07T14:51:59.158Z"
      },
      {
        "duration": 18,
        "start_time": "2021-07-07T14:51:59.213Z"
      },
      {
        "duration": 22,
        "start_time": "2021-07-07T14:51:59.232Z"
      },
      {
        "duration": 36,
        "start_time": "2021-07-07T14:51:59.255Z"
      },
      {
        "duration": 7,
        "start_time": "2021-07-07T14:51:59.293Z"
      },
      {
        "duration": 10,
        "start_time": "2021-07-07T14:51:59.302Z"
      },
      {
        "duration": 9,
        "start_time": "2021-07-07T14:51:59.313Z"
      },
      {
        "duration": 11,
        "start_time": "2021-07-07T14:51:59.324Z"
      },
      {
        "duration": 8,
        "start_time": "2021-07-07T14:51:59.337Z"
      },
      {
        "duration": 46,
        "start_time": "2021-07-07T14:51:59.347Z"
      },
      {
        "duration": 22,
        "start_time": "2021-07-07T14:51:59.395Z"
      },
      {
        "duration": 24,
        "start_time": "2021-07-07T14:57:32.911Z"
      },
      {
        "duration": 7,
        "start_time": "2021-07-07T14:58:22.070Z"
      },
      {
        "duration": 4,
        "start_time": "2021-07-07T14:59:11.239Z"
      },
      {
        "duration": 25,
        "start_time": "2021-07-07T15:07:22.208Z"
      },
      {
        "duration": 16,
        "start_time": "2021-07-07T15:08:25.560Z"
      },
      {
        "duration": 15,
        "start_time": "2021-07-07T15:08:40.647Z"
      },
      {
        "duration": 14,
        "start_time": "2021-07-07T15:08:46.669Z"
      },
      {
        "duration": 533,
        "start_time": "2021-07-07T15:18:07.440Z"
      },
      {
        "duration": 173,
        "start_time": "2021-07-07T15:18:07.974Z"
      },
      {
        "duration": 84,
        "start_time": "2021-07-07T15:18:08.149Z"
      },
      {
        "duration": 3,
        "start_time": "2021-07-07T15:18:08.235Z"
      },
      {
        "duration": 30,
        "start_time": "2021-07-07T15:18:08.240Z"
      },
      {
        "duration": 22,
        "start_time": "2021-07-07T15:18:08.272Z"
      },
      {
        "duration": 11,
        "start_time": "2021-07-07T15:18:08.295Z"
      },
      {
        "duration": 11,
        "start_time": "2021-07-07T15:18:08.309Z"
      },
      {
        "duration": 40,
        "start_time": "2021-07-07T15:18:08.322Z"
      },
      {
        "duration": 42,
        "start_time": "2021-07-07T15:18:08.364Z"
      },
      {
        "duration": 22,
        "start_time": "2021-07-07T15:18:08.408Z"
      },
      {
        "duration": 5,
        "start_time": "2021-07-07T15:18:08.432Z"
      },
      {
        "duration": 13,
        "start_time": "2021-07-07T15:18:08.439Z"
      },
      {
        "duration": 9,
        "start_time": "2021-07-07T15:18:08.454Z"
      },
      {
        "duration": 32,
        "start_time": "2021-07-07T15:18:08.465Z"
      },
      {
        "duration": 10,
        "start_time": "2021-07-07T15:18:08.501Z"
      },
      {
        "duration": 7,
        "start_time": "2021-07-07T15:18:08.513Z"
      },
      {
        "duration": 11,
        "start_time": "2021-07-07T15:18:08.521Z"
      },
      {
        "duration": 17,
        "start_time": "2021-07-07T15:18:08.534Z"
      },
      {
        "duration": 44,
        "start_time": "2021-07-07T15:18:08.553Z"
      },
      {
        "duration": 22,
        "start_time": "2021-07-07T15:18:08.599Z"
      },
      {
        "duration": 61,
        "start_time": "2021-07-07T15:18:08.622Z"
      },
      {
        "duration": 7,
        "start_time": "2021-07-07T15:18:39.457Z"
      },
      {
        "duration": 5,
        "start_time": "2021-07-07T16:05:17.020Z"
      },
      {
        "duration": 5,
        "start_time": "2021-07-07T16:51:28.794Z"
      },
      {
        "duration": 546,
        "start_time": "2021-07-07T16:52:26.306Z"
      },
      {
        "duration": 203,
        "start_time": "2021-07-07T16:52:27.523Z"
      },
      {
        "duration": 85,
        "start_time": "2021-07-07T16:52:27.736Z"
      },
      {
        "duration": 4,
        "start_time": "2021-07-07T16:52:27.899Z"
      },
      {
        "duration": 25,
        "start_time": "2021-07-07T16:52:28.674Z"
      },
      {
        "duration": 8,
        "start_time": "2021-07-07T16:52:32.956Z"
      },
      {
        "duration": 18,
        "start_time": "2021-07-07T16:52:35.616Z"
      },
      {
        "duration": 6,
        "start_time": "2021-07-07T16:52:36.913Z"
      },
      {
        "duration": 11,
        "start_time": "2021-07-07T16:52:40.258Z"
      },
      {
        "duration": 10,
        "start_time": "2021-07-07T16:52:46.251Z"
      },
      {
        "duration": 8,
        "start_time": "2021-07-07T16:52:47.182Z"
      },
      {
        "duration": 27,
        "start_time": "2021-07-07T16:53:20.391Z"
      },
      {
        "duration": 20,
        "start_time": "2021-07-07T16:53:22.022Z"
      },
      {
        "duration": 23,
        "start_time": "2021-07-07T16:53:23.690Z"
      },
      {
        "duration": 8,
        "start_time": "2021-07-07T16:53:24.261Z"
      },
      {
        "duration": 4,
        "start_time": "2021-07-07T16:53:38.733Z"
      },
      {
        "duration": 7,
        "start_time": "2021-07-07T16:53:40.445Z"
      },
      {
        "duration": 11,
        "start_time": "2021-07-07T16:53:41.348Z"
      },
      {
        "duration": 13,
        "start_time": "2021-07-07T16:53:45.250Z"
      },
      {
        "duration": 12,
        "start_time": "2021-07-07T16:53:45.467Z"
      },
      {
        "duration": 4,
        "start_time": "2021-07-07T16:55:32.704Z"
      },
      {
        "duration": 12,
        "start_time": "2021-07-07T16:55:49.012Z"
      },
      {
        "duration": 18,
        "start_time": "2021-07-07T16:55:49.547Z"
      },
      {
        "duration": 611,
        "start_time": "2021-07-07T16:58:35.156Z"
      },
      {
        "duration": 200,
        "start_time": "2021-07-07T16:58:35.770Z"
      },
      {
        "duration": 86,
        "start_time": "2021-07-07T16:58:35.972Z"
      },
      {
        "duration": 3,
        "start_time": "2021-07-07T16:58:36.060Z"
      },
      {
        "duration": 27,
        "start_time": "2021-07-07T16:58:36.065Z"
      },
      {
        "duration": 8,
        "start_time": "2021-07-07T16:58:36.094Z"
      },
      {
        "duration": 17,
        "start_time": "2021-07-07T16:58:36.103Z"
      },
      {
        "duration": 5,
        "start_time": "2021-07-07T16:58:36.123Z"
      },
      {
        "duration": 11,
        "start_time": "2021-07-07T16:58:36.130Z"
      },
      {
        "duration": 7,
        "start_time": "2021-07-07T16:58:36.143Z"
      },
      {
        "duration": 37,
        "start_time": "2021-07-07T16:58:36.152Z"
      },
      {
        "duration": 27,
        "start_time": "2021-07-07T16:58:36.191Z"
      },
      {
        "duration": 19,
        "start_time": "2021-07-07T16:58:36.219Z"
      },
      {
        "duration": 49,
        "start_time": "2021-07-07T16:58:36.240Z"
      },
      {
        "duration": 6,
        "start_time": "2021-07-07T16:58:36.291Z"
      },
      {
        "duration": 3,
        "start_time": "2021-07-07T16:58:36.299Z"
      },
      {
        "duration": 13,
        "start_time": "2021-07-07T16:58:36.304Z"
      },
      {
        "duration": 10,
        "start_time": "2021-07-07T16:58:36.319Z"
      },
      {
        "duration": 10,
        "start_time": "2021-07-07T16:58:36.331Z"
      },
      {
        "duration": 44,
        "start_time": "2021-07-07T16:58:36.343Z"
      },
      {
        "duration": 4,
        "start_time": "2021-07-07T16:58:36.388Z"
      },
      {
        "duration": 13,
        "start_time": "2021-07-07T16:58:36.394Z"
      },
      {
        "duration": 16,
        "start_time": "2021-07-07T16:58:36.410Z"
      },
      {
        "duration": 8,
        "start_time": "2021-07-07T17:02:31.629Z"
      },
      {
        "duration": 8,
        "start_time": "2021-07-07T17:02:34.308Z"
      },
      {
        "duration": 6,
        "start_time": "2021-07-07T17:05:13.483Z"
      },
      {
        "duration": 17,
        "start_time": "2021-07-07T17:05:20.606Z"
      },
      {
        "duration": 7,
        "start_time": "2021-07-07T17:05:34.638Z"
      },
      {
        "duration": 3,
        "start_time": "2021-07-07T17:06:31.883Z"
      },
      {
        "duration": 570,
        "start_time": "2021-07-07T17:06:37.165Z"
      },
      {
        "duration": 174,
        "start_time": "2021-07-07T17:06:37.737Z"
      },
      {
        "duration": 47,
        "start_time": "2021-07-07T17:06:37.913Z"
      },
      {
        "duration": 3,
        "start_time": "2021-07-07T17:06:37.962Z"
      },
      {
        "duration": 27,
        "start_time": "2021-07-07T17:06:37.967Z"
      },
      {
        "duration": 7,
        "start_time": "2021-07-07T17:06:37.996Z"
      },
      {
        "duration": 16,
        "start_time": "2021-07-07T17:06:38.005Z"
      },
      {
        "duration": 6,
        "start_time": "2021-07-07T17:06:38.024Z"
      },
      {
        "duration": 12,
        "start_time": "2021-07-07T17:06:38.031Z"
      },
      {
        "duration": 41,
        "start_time": "2021-07-07T17:06:38.045Z"
      },
      {
        "duration": 8,
        "start_time": "2021-07-07T17:06:38.088Z"
      },
      {
        "duration": 26,
        "start_time": "2021-07-07T17:06:38.098Z"
      },
      {
        "duration": 17,
        "start_time": "2021-07-07T17:06:38.126Z"
      },
      {
        "duration": 43,
        "start_time": "2021-07-07T17:06:38.144Z"
      },
      {
        "duration": 6,
        "start_time": "2021-07-07T17:06:38.188Z"
      },
      {
        "duration": 5,
        "start_time": "2021-07-07T17:06:38.195Z"
      },
      {
        "duration": 9,
        "start_time": "2021-07-07T17:06:38.201Z"
      },
      {
        "duration": 12,
        "start_time": "2021-07-07T17:06:38.212Z"
      },
      {
        "duration": 11,
        "start_time": "2021-07-07T17:06:38.226Z"
      },
      {
        "duration": 47,
        "start_time": "2021-07-07T17:06:38.239Z"
      },
      {
        "duration": 4,
        "start_time": "2021-07-07T17:06:38.288Z"
      },
      {
        "duration": 13,
        "start_time": "2021-07-07T17:06:38.293Z"
      },
      {
        "duration": 5,
        "start_time": "2021-07-07T17:06:38.309Z"
      },
      {
        "duration": 18,
        "start_time": "2021-07-07T17:06:38.325Z"
      },
      {
        "duration": 20,
        "start_time": "2021-07-07T17:07:02.805Z"
      },
      {
        "duration": 19,
        "start_time": "2021-07-07T17:07:08.527Z"
      },
      {
        "duration": 19,
        "start_time": "2021-07-07T17:07:12.758Z"
      },
      {
        "duration": 22,
        "start_time": "2021-07-07T17:07:17.497Z"
      },
      {
        "duration": 19,
        "start_time": "2021-07-07T17:07:19.645Z"
      },
      {
        "duration": 10,
        "start_time": "2021-07-07T17:07:34.239Z"
      },
      {
        "duration": 17,
        "start_time": "2021-07-07T17:07:54.144Z"
      },
      {
        "duration": 14,
        "start_time": "2021-07-07T17:08:14.357Z"
      },
      {
        "duration": 616,
        "start_time": "2021-07-07T17:08:45.254Z"
      },
      {
        "duration": 178,
        "start_time": "2021-07-07T17:08:45.872Z"
      },
      {
        "duration": 60,
        "start_time": "2021-07-07T17:08:46.054Z"
      },
      {
        "duration": 3,
        "start_time": "2021-07-07T17:08:46.116Z"
      },
      {
        "duration": 26,
        "start_time": "2021-07-07T17:08:46.121Z"
      },
      {
        "duration": 7,
        "start_time": "2021-07-07T17:08:46.149Z"
      },
      {
        "duration": 17,
        "start_time": "2021-07-07T17:08:46.158Z"
      },
      {
        "duration": 14,
        "start_time": "2021-07-07T17:08:46.176Z"
      },
      {
        "duration": 17,
        "start_time": "2021-07-07T17:08:46.193Z"
      },
      {
        "duration": 9,
        "start_time": "2021-07-07T17:08:46.211Z"
      },
      {
        "duration": 21,
        "start_time": "2021-07-07T17:08:46.221Z"
      },
      {
        "duration": 49,
        "start_time": "2021-07-07T17:08:46.244Z"
      },
      {
        "duration": 24,
        "start_time": "2021-07-07T17:08:46.295Z"
      },
      {
        "duration": 22,
        "start_time": "2021-07-07T17:08:46.321Z"
      },
      {
        "duration": 6,
        "start_time": "2021-07-07T17:08:46.345Z"
      },
      {
        "duration": 5,
        "start_time": "2021-07-07T17:08:46.353Z"
      },
      {
        "duration": 13,
        "start_time": "2021-07-07T17:08:46.386Z"
      },
      {
        "duration": 12,
        "start_time": "2021-07-07T17:08:46.402Z"
      },
      {
        "duration": 10,
        "start_time": "2021-07-07T17:08:46.415Z"
      },
      {
        "duration": 7,
        "start_time": "2021-07-07T17:08:46.427Z"
      },
      {
        "duration": 8,
        "start_time": "2021-07-07T17:08:46.435Z"
      },
      {
        "duration": 68,
        "start_time": "2021-07-07T17:08:46.446Z"
      },
      {
        "duration": 13,
        "start_time": "2021-07-07T17:08:46.516Z"
      },
      {
        "duration": 78,
        "start_time": "2021-07-07T17:08:46.530Z"
      },
      {
        "duration": 40,
        "start_time": "2021-07-07T17:09:08.185Z"
      },
      {
        "duration": 16,
        "start_time": "2021-07-07T17:09:19.324Z"
      },
      {
        "duration": 21,
        "start_time": "2021-07-07T17:09:23.290Z"
      },
      {
        "duration": 13,
        "start_time": "2021-07-07T17:09:54.812Z"
      },
      {
        "duration": 13,
        "start_time": "2021-07-07T17:10:02.039Z"
      },
      {
        "duration": 10,
        "start_time": "2021-07-07T17:10:29.632Z"
      },
      {
        "duration": 13,
        "start_time": "2021-07-07T17:10:52.372Z"
      },
      {
        "duration": 13,
        "start_time": "2021-07-07T17:11:17.270Z"
      },
      {
        "duration": 13,
        "start_time": "2021-07-07T17:14:59.284Z"
      },
      {
        "duration": 547,
        "start_time": "2021-07-07T17:18:52.403Z"
      },
      {
        "duration": 163,
        "start_time": "2021-07-07T17:18:52.952Z"
      },
      {
        "duration": 44,
        "start_time": "2021-07-07T17:18:53.117Z"
      },
      {
        "duration": 3,
        "start_time": "2021-07-07T17:18:53.162Z"
      },
      {
        "duration": 26,
        "start_time": "2021-07-07T17:18:53.167Z"
      },
      {
        "duration": 6,
        "start_time": "2021-07-07T17:18:53.195Z"
      },
      {
        "duration": 15,
        "start_time": "2021-07-07T17:18:53.203Z"
      },
      {
        "duration": 5,
        "start_time": "2021-07-07T17:18:53.220Z"
      },
      {
        "duration": 11,
        "start_time": "2021-07-07T17:18:53.228Z"
      },
      {
        "duration": 9,
        "start_time": "2021-07-07T17:18:53.241Z"
      },
      {
        "duration": 41,
        "start_time": "2021-07-07T17:18:53.252Z"
      },
      {
        "duration": 33,
        "start_time": "2021-07-07T17:18:53.295Z"
      },
      {
        "duration": 19,
        "start_time": "2021-07-07T17:18:53.330Z"
      },
      {
        "duration": 49,
        "start_time": "2021-07-07T17:18:53.350Z"
      },
      {
        "duration": 5,
        "start_time": "2021-07-07T17:18:53.401Z"
      },
      {
        "duration": 5,
        "start_time": "2021-07-07T17:18:53.408Z"
      },
      {
        "duration": 11,
        "start_time": "2021-07-07T17:18:53.414Z"
      },
      {
        "duration": 9,
        "start_time": "2021-07-07T17:18:53.427Z"
      },
      {
        "duration": 10,
        "start_time": "2021-07-07T17:18:53.437Z"
      },
      {
        "duration": 39,
        "start_time": "2021-07-07T17:18:53.448Z"
      },
      {
        "duration": 26,
        "start_time": "2021-07-07T17:18:55.799Z"
      },
      {
        "duration": 598,
        "start_time": "2021-07-07T17:20:17.862Z"
      },
      {
        "duration": 161,
        "start_time": "2021-07-07T17:20:18.462Z"
      },
      {
        "duration": 45,
        "start_time": "2021-07-07T17:20:18.626Z"
      },
      {
        "duration": 4,
        "start_time": "2021-07-07T17:20:18.673Z"
      },
      {
        "duration": 38,
        "start_time": "2021-07-07T17:20:26.877Z"
      },
      {
        "duration": 7,
        "start_time": "2021-07-07T17:20:37.405Z"
      },
      {
        "duration": 19,
        "start_time": "2021-07-07T17:20:51.534Z"
      },
      {
        "duration": 5,
        "start_time": "2021-07-07T17:20:57.228Z"
      },
      {
        "duration": 7,
        "start_time": "2021-07-07T17:21:08.235Z"
      },
      {
        "duration": 19,
        "start_time": "2021-07-07T17:21:42.158Z"
      },
      {
        "duration": 14,
        "start_time": "2021-07-07T17:21:50.225Z"
      },
      {
        "duration": 22,
        "start_time": "2021-07-07T17:22:54.104Z"
      },
      {
        "duration": 5,
        "start_time": "2021-07-07T17:22:56.371Z"
      },
      {
        "duration": 14,
        "start_time": "2021-07-07T17:22:58.316Z"
      },
      {
        "duration": 5,
        "start_time": "2021-07-07T17:22:58.493Z"
      },
      {
        "duration": 35,
        "start_time": "2021-07-07T17:22:59.666Z"
      },
      {
        "duration": 6,
        "start_time": "2021-07-07T17:23:02.410Z"
      },
      {
        "duration": 611,
        "start_time": "2021-07-07T17:24:59.664Z"
      },
      {
        "duration": 178,
        "start_time": "2021-07-07T17:25:01.945Z"
      },
      {
        "duration": 47,
        "start_time": "2021-07-07T17:25:02.125Z"
      },
      {
        "duration": 2,
        "start_time": "2021-07-07T17:25:07.903Z"
      },
      {
        "duration": 254,
        "start_time": "2021-07-07T17:25:08.232Z"
      },
      {
        "duration": 182,
        "start_time": "2021-07-07T17:25:08.671Z"
      },
      {
        "duration": 6,
        "start_time": "2021-07-07T17:25:13.104Z"
      },
      {
        "duration": 36,
        "start_time": "2021-07-07T17:25:13.662Z"
      },
      {
        "duration": 7,
        "start_time": "2021-07-07T17:25:14.528Z"
      },
      {
        "duration": 24,
        "start_time": "2021-07-07T17:25:27.982Z"
      },
      {
        "duration": 3,
        "start_time": "2021-07-07T17:25:48.982Z"
      },
      {
        "duration": 165,
        "start_time": "2021-07-07T17:25:48.987Z"
      },
      {
        "duration": 50,
        "start_time": "2021-07-07T17:25:49.154Z"
      },
      {
        "duration": 4,
        "start_time": "2021-07-07T17:25:49.206Z"
      },
      {
        "duration": 26,
        "start_time": "2021-07-07T17:25:49.212Z"
      },
      {
        "duration": 7,
        "start_time": "2021-07-07T17:25:49.240Z"
      },
      {
        "duration": 16,
        "start_time": "2021-07-07T17:25:49.249Z"
      },
      {
        "duration": 22,
        "start_time": "2021-07-07T17:25:49.266Z"
      },
      {
        "duration": 16,
        "start_time": "2021-07-07T17:25:49.291Z"
      },
      {
        "duration": 9,
        "start_time": "2021-07-07T17:25:49.309Z"
      },
      {
        "duration": 7,
        "start_time": "2021-07-07T17:25:49.319Z"
      },
      {
        "duration": 28,
        "start_time": "2021-07-07T17:25:49.328Z"
      },
      {
        "duration": 44,
        "start_time": "2021-07-07T17:25:49.357Z"
      },
      {
        "duration": 22,
        "start_time": "2021-07-07T17:25:49.403Z"
      },
      {
        "duration": 7,
        "start_time": "2021-07-07T17:25:49.427Z"
      },
      {
        "duration": 3,
        "start_time": "2021-07-07T17:25:49.436Z"
      },
      {
        "duration": 44,
        "start_time": "2021-07-07T17:25:49.441Z"
      },
      {
        "duration": 12,
        "start_time": "2021-07-07T17:25:49.488Z"
      },
      {
        "duration": 13,
        "start_time": "2021-07-07T17:25:49.502Z"
      },
      {
        "duration": 10,
        "start_time": "2021-07-07T17:25:49.516Z"
      },
      {
        "duration": 62,
        "start_time": "2021-07-07T17:25:49.527Z"
      },
      {
        "duration": 26,
        "start_time": "2021-07-07T17:26:51.809Z"
      },
      {
        "duration": 26,
        "start_time": "2021-07-07T17:26:55.759Z"
      },
      {
        "duration": 26,
        "start_time": "2021-07-07T17:27:04.501Z"
      },
      {
        "duration": 25,
        "start_time": "2021-07-07T17:28:24.859Z"
      },
      {
        "duration": 21,
        "start_time": "2021-07-07T17:28:55.250Z"
      },
      {
        "duration": 21,
        "start_time": "2021-07-07T17:28:58.885Z"
      },
      {
        "duration": 7,
        "start_time": "2021-07-07T17:45:40.972Z"
      },
      {
        "duration": 13,
        "start_time": "2021-07-07T17:45:42.529Z"
      },
      {
        "duration": 27,
        "start_time": "2021-07-07T17:45:51.026Z"
      },
      {
        "duration": 518,
        "start_time": "2021-07-07T17:46:15.532Z"
      },
      {
        "duration": 235,
        "start_time": "2021-07-07T17:46:16.053Z"
      },
      {
        "duration": 80,
        "start_time": "2021-07-07T17:46:16.292Z"
      },
      {
        "duration": 5,
        "start_time": "2021-07-07T17:46:16.373Z"
      },
      {
        "duration": 26,
        "start_time": "2021-07-07T17:46:16.380Z"
      },
      {
        "duration": 7,
        "start_time": "2021-07-07T17:46:16.408Z"
      },
      {
        "duration": 16,
        "start_time": "2021-07-07T17:46:16.418Z"
      },
      {
        "duration": 5,
        "start_time": "2021-07-07T17:46:16.436Z"
      },
      {
        "duration": 13,
        "start_time": "2021-07-07T17:46:16.442Z"
      },
      {
        "duration": 35,
        "start_time": "2021-07-07T17:46:16.456Z"
      },
      {
        "duration": 8,
        "start_time": "2021-07-07T17:46:16.493Z"
      },
      {
        "duration": 28,
        "start_time": "2021-07-07T17:46:16.502Z"
      },
      {
        "duration": 17,
        "start_time": "2021-07-07T17:46:16.532Z"
      },
      {
        "duration": 44,
        "start_time": "2021-07-07T17:46:16.551Z"
      },
      {
        "duration": 6,
        "start_time": "2021-07-07T17:46:16.597Z"
      },
      {
        "duration": 4,
        "start_time": "2021-07-07T17:46:16.605Z"
      },
      {
        "duration": 9,
        "start_time": "2021-07-07T17:46:16.610Z"
      },
      {
        "duration": 9,
        "start_time": "2021-07-07T17:46:16.621Z"
      },
      {
        "duration": 10,
        "start_time": "2021-07-07T17:46:16.632Z"
      },
      {
        "duration": 43,
        "start_time": "2021-07-07T17:46:16.644Z"
      },
      {
        "duration": 26,
        "start_time": "2021-07-07T17:46:16.689Z"
      },
      {
        "duration": 19,
        "start_time": "2021-07-07T17:46:16.718Z"
      },
      {
        "duration": 8,
        "start_time": "2021-07-07T17:46:16.738Z"
      },
      {
        "duration": 43,
        "start_time": "2021-07-07T17:46:16.747Z"
      },
      {
        "duration": 19,
        "start_time": "2021-07-07T17:46:16.791Z"
      },
      {
        "duration": 9,
        "start_time": "2021-07-07T17:46:16.812Z"
      },
      {
        "duration": 60,
        "start_time": "2021-07-07T17:46:16.822Z"
      },
      {
        "duration": -8,
        "start_time": "2021-07-07T17:46:16.892Z"
      },
      {
        "duration": 12,
        "start_time": "2021-07-07T17:48:47.707Z"
      },
      {
        "duration": 553,
        "start_time": "2021-07-07T18:10:09.350Z"
      },
      {
        "duration": 230,
        "start_time": "2021-07-07T18:10:09.905Z"
      },
      {
        "duration": 97,
        "start_time": "2021-07-07T18:10:10.137Z"
      },
      {
        "duration": 5,
        "start_time": "2021-07-07T18:10:10.236Z"
      },
      {
        "duration": 29,
        "start_time": "2021-07-07T18:10:10.242Z"
      },
      {
        "duration": 7,
        "start_time": "2021-07-07T18:10:10.272Z"
      },
      {
        "duration": 15,
        "start_time": "2021-07-07T18:10:10.281Z"
      },
      {
        "duration": 4,
        "start_time": "2021-07-07T18:10:10.299Z"
      },
      {
        "duration": 14,
        "start_time": "2021-07-07T18:10:10.305Z"
      },
      {
        "duration": 8,
        "start_time": "2021-07-07T18:10:10.321Z"
      },
      {
        "duration": 8,
        "start_time": "2021-07-07T18:10:10.331Z"
      },
      {
        "duration": 56,
        "start_time": "2021-07-07T18:10:10.341Z"
      },
      {
        "duration": 19,
        "start_time": "2021-07-07T18:10:10.399Z"
      },
      {
        "duration": 23,
        "start_time": "2021-07-07T18:10:10.419Z"
      },
      {
        "duration": 6,
        "start_time": "2021-07-07T18:10:10.444Z"
      },
      {
        "duration": 9,
        "start_time": "2021-07-07T18:10:10.451Z"
      },
      {
        "duration": 30,
        "start_time": "2021-07-07T18:10:10.462Z"
      },
      {
        "duration": 9,
        "start_time": "2021-07-07T18:10:10.494Z"
      },
      {
        "duration": 14,
        "start_time": "2021-07-07T18:10:10.505Z"
      },
      {
        "duration": 7,
        "start_time": "2021-07-07T18:10:10.521Z"
      },
      {
        "duration": 26,
        "start_time": "2021-07-07T18:10:10.530Z"
      },
      {
        "duration": 44,
        "start_time": "2021-07-07T18:10:10.558Z"
      },
      {
        "duration": 7,
        "start_time": "2021-07-07T18:10:10.605Z"
      },
      {
        "duration": 11,
        "start_time": "2021-07-07T18:10:10.614Z"
      },
      {
        "duration": 19,
        "start_time": "2021-07-07T18:10:10.626Z"
      },
      {
        "duration": 44,
        "start_time": "2021-07-07T18:10:10.646Z"
      },
      {
        "duration": 516,
        "start_time": "2021-07-07T18:14:00.826Z"
      },
      {
        "duration": 230,
        "start_time": "2021-07-07T18:14:01.344Z"
      },
      {
        "duration": 105,
        "start_time": "2021-07-07T18:14:01.576Z"
      },
      {
        "duration": 5,
        "start_time": "2021-07-07T18:14:01.683Z"
      },
      {
        "duration": 46,
        "start_time": "2021-07-07T18:14:01.690Z"
      },
      {
        "duration": 7,
        "start_time": "2021-07-07T18:14:01.738Z"
      },
      {
        "duration": 20,
        "start_time": "2021-07-07T18:14:01.747Z"
      },
      {
        "duration": 16,
        "start_time": "2021-07-07T18:14:01.769Z"
      },
      {
        "duration": 14,
        "start_time": "2021-07-07T18:14:01.787Z"
      },
      {
        "duration": 15,
        "start_time": "2021-07-07T18:14:01.803Z"
      },
      {
        "duration": 12,
        "start_time": "2021-07-07T18:14:01.820Z"
      },
      {
        "duration": 35,
        "start_time": "2021-07-07T18:14:01.833Z"
      },
      {
        "duration": 31,
        "start_time": "2021-07-07T18:14:01.869Z"
      },
      {
        "duration": 37,
        "start_time": "2021-07-07T18:14:01.902Z"
      },
      {
        "duration": 8,
        "start_time": "2021-07-07T18:14:01.942Z"
      },
      {
        "duration": 16,
        "start_time": "2021-07-07T18:14:01.952Z"
      },
      {
        "duration": 13,
        "start_time": "2021-07-07T18:14:01.970Z"
      },
      {
        "duration": 32,
        "start_time": "2021-07-07T18:14:01.985Z"
      },
      {
        "duration": 11,
        "start_time": "2021-07-07T18:14:02.019Z"
      },
      {
        "duration": 22,
        "start_time": "2021-07-07T18:14:02.031Z"
      },
      {
        "duration": 27,
        "start_time": "2021-07-07T18:14:02.055Z"
      },
      {
        "duration": 18,
        "start_time": "2021-07-07T18:14:02.084Z"
      },
      {
        "duration": 18,
        "start_time": "2021-07-07T18:14:02.106Z"
      },
      {
        "duration": 11,
        "start_time": "2021-07-07T18:14:02.126Z"
      },
      {
        "duration": 21,
        "start_time": "2021-07-07T18:14:02.138Z"
      },
      {
        "duration": 32,
        "start_time": "2021-07-07T18:14:02.161Z"
      },
      {
        "duration": 28,
        "start_time": "2021-07-07T18:14:44.295Z"
      },
      {
        "duration": 6,
        "start_time": "2021-07-07T18:15:05.834Z"
      },
      {
        "duration": 511,
        "start_time": "2021-07-07T18:15:41.541Z"
      },
      {
        "duration": 183,
        "start_time": "2021-07-07T18:15:42.054Z"
      },
      {
        "duration": 50,
        "start_time": "2021-07-07T18:15:42.239Z"
      },
      {
        "duration": 5,
        "start_time": "2021-07-07T18:15:42.291Z"
      },
      {
        "duration": 48,
        "start_time": "2021-07-07T18:15:42.297Z"
      },
      {
        "duration": 8,
        "start_time": "2021-07-07T18:15:42.346Z"
      },
      {
        "duration": 17,
        "start_time": "2021-07-07T18:15:42.356Z"
      },
      {
        "duration": 15,
        "start_time": "2021-07-07T18:15:42.375Z"
      },
      {
        "duration": 12,
        "start_time": "2021-07-07T18:15:42.392Z"
      },
      {
        "duration": 7,
        "start_time": "2021-07-07T18:15:42.406Z"
      },
      {
        "duration": 7,
        "start_time": "2021-07-07T18:15:42.415Z"
      },
      {
        "duration": 29,
        "start_time": "2021-07-07T18:15:42.423Z"
      },
      {
        "duration": 43,
        "start_time": "2021-07-07T18:15:42.453Z"
      },
      {
        "duration": 18,
        "start_time": "2021-07-07T18:15:42.497Z"
      },
      {
        "duration": 6,
        "start_time": "2021-07-07T18:15:42.516Z"
      },
      {
        "duration": 3,
        "start_time": "2021-07-07T18:15:42.523Z"
      },
      {
        "duration": 18,
        "start_time": "2021-07-07T18:15:42.528Z"
      },
      {
        "duration": 10,
        "start_time": "2021-07-07T18:15:42.547Z"
      },
      {
        "duration": 36,
        "start_time": "2021-07-07T18:15:42.559Z"
      },
      {
        "duration": 8,
        "start_time": "2021-07-07T18:15:42.597Z"
      },
      {
        "duration": 28,
        "start_time": "2021-07-07T18:15:42.606Z"
      },
      {
        "duration": 52,
        "start_time": "2021-07-07T18:15:42.635Z"
      },
      {
        "duration": 7,
        "start_time": "2021-07-07T18:15:42.690Z"
      },
      {
        "duration": 10,
        "start_time": "2021-07-07T18:15:42.699Z"
      },
      {
        "duration": 19,
        "start_time": "2021-07-07T18:15:42.711Z"
      },
      {
        "duration": 9,
        "start_time": "2021-07-07T18:15:42.732Z"
      },
      {
        "duration": 5,
        "start_time": "2021-07-07T18:15:42.743Z"
      },
      {
        "duration": 1450,
        "start_time": "2021-07-07T18:15:51.984Z"
      },
      {
        "duration": 161,
        "start_time": "2021-07-07T18:15:53.435Z"
      },
      {
        "duration": 124,
        "start_time": "2021-07-07T18:15:53.598Z"
      },
      {
        "duration": 5,
        "start_time": "2021-07-07T18:15:53.724Z"
      },
      {
        "duration": 34,
        "start_time": "2021-07-07T18:15:53.730Z"
      },
      {
        "duration": 7,
        "start_time": "2021-07-07T18:15:53.765Z"
      },
      {
        "duration": 15,
        "start_time": "2021-07-07T18:15:53.773Z"
      },
      {
        "duration": 5,
        "start_time": "2021-07-07T18:15:53.791Z"
      },
      {
        "duration": 19,
        "start_time": "2021-07-07T18:15:53.798Z"
      },
      {
        "duration": 9,
        "start_time": "2021-07-07T18:15:53.818Z"
      },
      {
        "duration": 19,
        "start_time": "2021-07-07T18:15:53.828Z"
      },
      {
        "duration": 27,
        "start_time": "2021-07-07T18:15:53.848Z"
      },
      {
        "duration": 16,
        "start_time": "2021-07-07T18:15:53.884Z"
      },
      {
        "duration": 29,
        "start_time": "2021-07-07T18:15:53.901Z"
      },
      {
        "duration": 5,
        "start_time": "2021-07-07T18:15:53.932Z"
      },
      {
        "duration": 15,
        "start_time": "2021-07-07T18:15:53.939Z"
      },
      {
        "duration": 13,
        "start_time": "2021-07-07T18:15:53.956Z"
      },
      {
        "duration": 20,
        "start_time": "2021-07-07T18:15:53.971Z"
      },
      {
        "duration": 14,
        "start_time": "2021-07-07T18:15:53.992Z"
      },
      {
        "duration": 9,
        "start_time": "2021-07-07T18:15:54.009Z"
      },
      {
        "duration": 28,
        "start_time": "2021-07-07T18:15:54.020Z"
      },
      {
        "duration": 50,
        "start_time": "2021-07-07T18:15:54.051Z"
      },
      {
        "duration": 8,
        "start_time": "2021-07-07T18:15:54.105Z"
      },
      {
        "duration": 11,
        "start_time": "2021-07-07T18:15:54.115Z"
      },
      {
        "duration": 20,
        "start_time": "2021-07-07T18:15:54.128Z"
      },
      {
        "duration": 13,
        "start_time": "2021-07-07T18:15:54.184Z"
      },
      {
        "duration": 7,
        "start_time": "2021-07-07T18:15:54.199Z"
      },
      {
        "duration": 7,
        "start_time": "2021-07-07T18:17:08.042Z"
      },
      {
        "duration": 8,
        "start_time": "2021-07-07T18:17:21.008Z"
      },
      {
        "duration": 7,
        "start_time": "2021-07-07T18:17:29.003Z"
      },
      {
        "duration": 8,
        "start_time": "2021-07-07T18:17:32.492Z"
      },
      {
        "duration": 9,
        "start_time": "2021-07-07T18:17:41.758Z"
      },
      {
        "duration": 255,
        "start_time": "2021-07-07T18:20:20.897Z"
      },
      {
        "duration": 173,
        "start_time": "2021-07-07T18:20:26.636Z"
      },
      {
        "duration": 7,
        "start_time": "2021-07-07T18:21:47.164Z"
      },
      {
        "duration": 254,
        "start_time": "2021-07-07T18:23:08.703Z"
      },
      {
        "duration": 21,
        "start_time": "2021-07-07T18:23:22.506Z"
      },
      {
        "duration": 315,
        "start_time": "2021-07-07T18:25:54.801Z"
      },
      {
        "duration": 34,
        "start_time": "2021-07-07T18:26:51.817Z"
      },
      {
        "duration": 327,
        "start_time": "2021-07-07T18:26:56.147Z"
      },
      {
        "duration": 342,
        "start_time": "2021-07-07T18:27:15.887Z"
      },
      {
        "duration": 302,
        "start_time": "2021-07-07T18:28:18.569Z"
      },
      {
        "duration": 226,
        "start_time": "2021-07-07T18:29:20.879Z"
      },
      {
        "duration": 207,
        "start_time": "2021-07-07T18:29:58.114Z"
      },
      {
        "duration": 140,
        "start_time": "2021-07-07T18:32:04.372Z"
      },
      {
        "duration": 158,
        "start_time": "2021-07-07T18:32:32.508Z"
      },
      {
        "duration": 145,
        "start_time": "2021-07-07T18:32:41.365Z"
      },
      {
        "duration": 132,
        "start_time": "2021-07-07T18:32:45.199Z"
      },
      {
        "duration": 11,
        "start_time": "2021-07-07T18:35:24.679Z"
      },
      {
        "duration": 268,
        "start_time": "2021-07-07T18:36:16.145Z"
      },
      {
        "duration": 227,
        "start_time": "2021-07-07T18:37:04.918Z"
      },
      {
        "duration": 3,
        "start_time": "2021-07-07T18:37:33.012Z"
      },
      {
        "duration": 671,
        "start_time": "2021-07-07T18:37:38.295Z"
      },
      {
        "duration": 54,
        "start_time": "2021-07-07T18:37:53.406Z"
      },
      {
        "duration": 631,
        "start_time": "2021-07-07T18:37:56.463Z"
      },
      {
        "duration": 19,
        "start_time": "2021-07-07T18:39:40.535Z"
      },
      {
        "duration": 20,
        "start_time": "2021-07-07T18:40:12.236Z"
      },
      {
        "duration": 633,
        "start_time": "2021-07-07T18:42:00.398Z"
      },
      {
        "duration": 218,
        "start_time": "2021-07-07T18:42:01.033Z"
      },
      {
        "duration": 49,
        "start_time": "2021-07-07T18:42:01.253Z"
      },
      {
        "duration": 5,
        "start_time": "2021-07-07T18:42:01.303Z"
      },
      {
        "duration": 27,
        "start_time": "2021-07-07T18:42:01.310Z"
      },
      {
        "duration": 8,
        "start_time": "2021-07-07T18:42:01.339Z"
      },
      {
        "duration": 20,
        "start_time": "2021-07-07T18:42:01.348Z"
      },
      {
        "duration": 6,
        "start_time": "2021-07-07T18:42:01.386Z"
      },
      {
        "duration": 16,
        "start_time": "2021-07-07T18:42:01.394Z"
      },
      {
        "duration": 9,
        "start_time": "2021-07-07T18:42:01.411Z"
      },
      {
        "duration": 11,
        "start_time": "2021-07-07T18:42:01.421Z"
      },
      {
        "duration": 31,
        "start_time": "2021-07-07T18:42:01.434Z"
      },
      {
        "duration": 18,
        "start_time": "2021-07-07T18:42:01.485Z"
      },
      {
        "duration": 23,
        "start_time": "2021-07-07T18:42:01.505Z"
      },
      {
        "duration": 6,
        "start_time": "2021-07-07T18:42:01.530Z"
      },
      {
        "duration": 10,
        "start_time": "2021-07-07T18:42:01.538Z"
      },
      {
        "duration": 13,
        "start_time": "2021-07-07T18:42:01.550Z"
      },
      {
        "duration": 24,
        "start_time": "2021-07-07T18:42:01.564Z"
      },
      {
        "duration": 20,
        "start_time": "2021-07-07T18:42:01.590Z"
      },
      {
        "duration": 8,
        "start_time": "2021-07-07T18:42:01.611Z"
      },
      {
        "duration": 31,
        "start_time": "2021-07-07T18:42:01.620Z"
      },
      {
        "duration": 39,
        "start_time": "2021-07-07T18:42:01.653Z"
      },
      {
        "duration": 8,
        "start_time": "2021-07-07T18:42:01.696Z"
      },
      {
        "duration": 13,
        "start_time": "2021-07-07T18:42:01.705Z"
      },
      {
        "duration": 20,
        "start_time": "2021-07-07T18:42:01.720Z"
      },
      {
        "duration": 12,
        "start_time": "2021-07-07T18:42:01.741Z"
      },
      {
        "duration": 35,
        "start_time": "2021-07-07T18:42:01.755Z"
      },
      {
        "duration": 14,
        "start_time": "2021-07-07T18:42:01.792Z"
      },
      {
        "duration": 188,
        "start_time": "2021-07-07T18:42:01.808Z"
      },
      {
        "duration": 19,
        "start_time": "2021-07-07T18:42:01.998Z"
      },
      {
        "duration": 175,
        "start_time": "2021-07-07T18:42:02.019Z"
      },
      {
        "duration": 134,
        "start_time": "2021-07-07T18:42:02.196Z"
      },
      {
        "duration": 10,
        "start_time": "2021-07-07T18:42:02.331Z"
      },
      {
        "duration": 19,
        "start_time": "2021-07-07T18:42:02.343Z"
      },
      {
        "duration": 628,
        "start_time": "2021-07-07T18:46:30.701Z"
      },
      {
        "duration": 183,
        "start_time": "2021-07-07T18:46:31.331Z"
      },
      {
        "duration": 48,
        "start_time": "2021-07-07T18:46:31.516Z"
      },
      {
        "duration": 5,
        "start_time": "2021-07-07T18:46:31.566Z"
      },
      {
        "duration": 28,
        "start_time": "2021-07-07T18:46:31.572Z"
      },
      {
        "duration": 8,
        "start_time": "2021-07-07T18:46:31.602Z"
      },
      {
        "duration": 19,
        "start_time": "2021-07-07T18:46:31.611Z"
      },
      {
        "duration": 6,
        "start_time": "2021-07-07T18:46:31.633Z"
      },
      {
        "duration": 17,
        "start_time": "2021-07-07T18:46:31.642Z"
      },
      {
        "duration": 10,
        "start_time": "2021-07-07T18:46:31.684Z"
      },
      {
        "duration": 9,
        "start_time": "2021-07-07T18:46:31.695Z"
      },
      {
        "duration": 28,
        "start_time": "2021-07-07T18:46:31.705Z"
      },
      {
        "duration": 18,
        "start_time": "2021-07-07T18:46:31.735Z"
      },
      {
        "duration": 48,
        "start_time": "2021-07-07T18:46:31.755Z"
      },
      {
        "duration": 6,
        "start_time": "2021-07-07T18:46:31.804Z"
      },
      {
        "duration": 4,
        "start_time": "2021-07-07T18:46:31.812Z"
      },
      {
        "duration": 9,
        "start_time": "2021-07-07T18:46:31.817Z"
      },
      {
        "duration": 10,
        "start_time": "2021-07-07T18:46:31.827Z"
      },
      {
        "duration": 12,
        "start_time": "2021-07-07T18:46:31.838Z"
      },
      {
        "duration": 39,
        "start_time": "2021-07-07T18:46:31.851Z"
      },
      {
        "duration": 24,
        "start_time": "2021-07-07T18:46:31.892Z"
      },
      {
        "duration": 15,
        "start_time": "2021-07-07T18:46:31.918Z"
      },
      {
        "duration": 7,
        "start_time": "2021-07-07T18:46:31.936Z"
      },
      {
        "duration": 8,
        "start_time": "2021-07-07T18:46:31.944Z"
      },
      {
        "duration": 19,
        "start_time": "2021-07-07T18:46:31.984Z"
      },
      {
        "duration": 10,
        "start_time": "2021-07-07T18:46:32.004Z"
      },
      {
        "duration": 5,
        "start_time": "2021-07-07T18:46:32.016Z"
      },
      {
        "duration": 9,
        "start_time": "2021-07-07T18:46:32.023Z"
      },
      {
        "duration": 199,
        "start_time": "2021-07-07T18:46:32.033Z"
      },
      {
        "duration": 19,
        "start_time": "2021-07-07T18:46:32.234Z"
      },
      {
        "duration": 159,
        "start_time": "2021-07-07T18:46:32.255Z"
      },
      {
        "duration": 134,
        "start_time": "2021-07-07T18:46:32.416Z"
      },
      {
        "duration": 10,
        "start_time": "2021-07-07T18:46:32.552Z"
      },
      {
        "duration": 34,
        "start_time": "2021-07-07T18:46:32.563Z"
      },
      {
        "duration": 1039,
        "start_time": "2021-07-08T08:41:09.419Z"
      },
      {
        "duration": 333,
        "start_time": "2021-07-08T08:41:10.459Z"
      },
      {
        "duration": 173,
        "start_time": "2021-07-08T08:41:10.794Z"
      },
      {
        "duration": 5,
        "start_time": "2021-07-08T08:41:10.968Z"
      },
      {
        "duration": 25,
        "start_time": "2021-07-08T08:41:10.975Z"
      },
      {
        "duration": 9,
        "start_time": "2021-07-08T08:41:11.002Z"
      },
      {
        "duration": 18,
        "start_time": "2021-07-08T08:41:11.013Z"
      },
      {
        "duration": 6,
        "start_time": "2021-07-08T08:41:11.033Z"
      },
      {
        "duration": 44,
        "start_time": "2021-07-08T08:41:11.042Z"
      },
      {
        "duration": 10,
        "start_time": "2021-07-08T08:41:11.088Z"
      },
      {
        "duration": 9,
        "start_time": "2021-07-08T08:41:11.100Z"
      },
      {
        "duration": 27,
        "start_time": "2021-07-08T08:41:11.111Z"
      },
      {
        "duration": 46,
        "start_time": "2021-07-08T08:41:11.140Z"
      },
      {
        "duration": 17,
        "start_time": "2021-07-08T08:41:11.187Z"
      },
      {
        "duration": 6,
        "start_time": "2021-07-08T08:41:11.206Z"
      },
      {
        "duration": 5,
        "start_time": "2021-07-08T08:41:11.213Z"
      },
      {
        "duration": 10,
        "start_time": "2021-07-08T08:41:11.219Z"
      },
      {
        "duration": 9,
        "start_time": "2021-07-08T08:41:11.230Z"
      },
      {
        "duration": 45,
        "start_time": "2021-07-08T08:41:11.241Z"
      },
      {
        "duration": 7,
        "start_time": "2021-07-08T08:41:11.287Z"
      },
      {
        "duration": 24,
        "start_time": "2021-07-08T08:41:11.296Z"
      },
      {
        "duration": 16,
        "start_time": "2021-07-08T08:41:11.322Z"
      },
      {
        "duration": 7,
        "start_time": "2021-07-08T08:41:11.341Z"
      },
      {
        "duration": 41,
        "start_time": "2021-07-08T08:41:11.349Z"
      },
      {
        "duration": 17,
        "start_time": "2021-07-08T08:41:11.391Z"
      },
      {
        "duration": 9,
        "start_time": "2021-07-08T08:41:11.410Z"
      },
      {
        "duration": 5,
        "start_time": "2021-07-08T08:41:11.421Z"
      },
      {
        "duration": 6,
        "start_time": "2021-07-08T08:41:11.428Z"
      },
      {
        "duration": 198,
        "start_time": "2021-07-08T08:41:11.435Z"
      },
      {
        "duration": 18,
        "start_time": "2021-07-08T08:41:11.635Z"
      },
      {
        "duration": 155,
        "start_time": "2021-07-08T08:41:11.655Z"
      },
      {
        "duration": 138,
        "start_time": "2021-07-08T08:41:11.811Z"
      },
      {
        "duration": 10,
        "start_time": "2021-07-08T08:41:11.950Z"
      },
      {
        "duration": 29,
        "start_time": "2021-07-08T08:41:11.961Z"
      },
      {
        "duration": 171,
        "start_time": "2021-07-08T08:47:44.522Z"
      },
      {
        "duration": 124,
        "start_time": "2021-07-08T08:47:46.872Z"
      },
      {
        "duration": 191,
        "start_time": "2021-07-08T08:47:58.148Z"
      },
      {
        "duration": 191,
        "start_time": "2021-07-08T08:48:07.412Z"
      },
      {
        "duration": 261,
        "start_time": "2021-07-08T08:48:10.385Z"
      },
      {
        "duration": 255,
        "start_time": "2021-07-08T08:48:14.494Z"
      },
      {
        "duration": 219,
        "start_time": "2021-07-08T08:48:22.752Z"
      },
      {
        "duration": 173,
        "start_time": "2021-07-08T08:49:06.395Z"
      },
      {
        "duration": 180,
        "start_time": "2021-07-08T08:49:21.011Z"
      },
      {
        "duration": 6,
        "start_time": "2021-07-08T08:50:31.697Z"
      },
      {
        "duration": 10,
        "start_time": "2021-07-08T08:50:47.394Z"
      },
      {
        "duration": 11,
        "start_time": "2021-07-08T08:53:49.332Z"
      },
      {
        "duration": 171,
        "start_time": "2021-07-08T08:54:28.408Z"
      },
      {
        "duration": 636,
        "start_time": "2021-07-08T09:02:48.385Z"
      },
      {
        "duration": 227,
        "start_time": "2021-07-08T09:02:49.023Z"
      },
      {
        "duration": 104,
        "start_time": "2021-07-08T09:02:49.252Z"
      },
      {
        "duration": 5,
        "start_time": "2021-07-08T09:02:49.358Z"
      },
      {
        "duration": 27,
        "start_time": "2021-07-08T09:02:49.365Z"
      },
      {
        "duration": 8,
        "start_time": "2021-07-08T09:02:49.394Z"
      },
      {
        "duration": 18,
        "start_time": "2021-07-08T09:02:49.404Z"
      },
      {
        "duration": 6,
        "start_time": "2021-07-08T09:02:49.424Z"
      },
      {
        "duration": 11,
        "start_time": "2021-07-08T09:02:49.433Z"
      },
      {
        "duration": 13,
        "start_time": "2021-07-08T09:02:49.485Z"
      },
      {
        "duration": 9,
        "start_time": "2021-07-08T09:02:49.500Z"
      },
      {
        "duration": 38,
        "start_time": "2021-07-08T09:02:49.511Z"
      },
      {
        "duration": 42,
        "start_time": "2021-07-08T09:02:49.551Z"
      },
      {
        "duration": 21,
        "start_time": "2021-07-08T09:02:49.594Z"
      },
      {
        "duration": 6,
        "start_time": "2021-07-08T09:02:49.616Z"
      },
      {
        "duration": 3,
        "start_time": "2021-07-08T09:02:49.623Z"
      },
      {
        "duration": 9,
        "start_time": "2021-07-08T09:02:49.628Z"
      },
      {
        "duration": 52,
        "start_time": "2021-07-08T09:02:49.638Z"
      },
      {
        "duration": 11,
        "start_time": "2021-07-08T09:02:49.692Z"
      },
      {
        "duration": 8,
        "start_time": "2021-07-08T09:02:49.704Z"
      },
      {
        "duration": 27,
        "start_time": "2021-07-08T09:02:49.713Z"
      },
      {
        "duration": 59,
        "start_time": "2021-07-08T09:02:49.741Z"
      },
      {
        "duration": 8,
        "start_time": "2021-07-08T09:02:49.803Z"
      },
      {
        "duration": 14,
        "start_time": "2021-07-08T09:02:49.813Z"
      },
      {
        "duration": 20,
        "start_time": "2021-07-08T09:02:49.829Z"
      },
      {
        "duration": 44,
        "start_time": "2021-07-08T09:02:49.851Z"
      },
      {
        "duration": 14,
        "start_time": "2021-07-08T09:02:49.896Z"
      },
      {
        "duration": 221,
        "start_time": "2021-07-08T09:02:49.912Z"
      },
      {
        "duration": 6,
        "start_time": "2021-07-08T09:02:50.134Z"
      },
      {
        "duration": 206,
        "start_time": "2021-07-08T09:02:50.142Z"
      },
      {
        "duration": 19,
        "start_time": "2021-07-08T09:02:50.350Z"
      },
      {
        "duration": 21,
        "start_time": "2021-07-08T09:02:50.370Z"
      },
      {
        "duration": 20,
        "start_time": "2021-07-08T09:02:50.393Z"
      },
      {
        "duration": 5,
        "start_time": "2021-07-08T09:02:50.414Z"
      },
      {
        "duration": 5,
        "start_time": "2021-07-08T09:03:34.173Z"
      },
      {
        "duration": 6,
        "start_time": "2021-07-08T09:04:49.062Z"
      },
      {
        "duration": 9,
        "start_time": "2021-07-08T09:04:50.118Z"
      },
      {
        "duration": 14,
        "start_time": "2021-07-08T09:04:58.512Z"
      },
      {
        "duration": 9,
        "start_time": "2021-07-08T09:05:10.988Z"
      },
      {
        "duration": 11,
        "start_time": "2021-07-08T09:05:11.743Z"
      },
      {
        "duration": 7,
        "start_time": "2021-07-08T09:05:25.677Z"
      },
      {
        "duration": 13,
        "start_time": "2021-07-08T09:05:47.189Z"
      },
      {
        "duration": 13,
        "start_time": "2021-07-08T09:05:54.755Z"
      },
      {
        "duration": 4,
        "start_time": "2021-07-08T09:06:29.189Z"
      },
      {
        "duration": 244,
        "start_time": "2021-07-08T09:06:29.195Z"
      },
      {
        "duration": 91,
        "start_time": "2021-07-08T09:06:29.441Z"
      },
      {
        "duration": 4,
        "start_time": "2021-07-08T09:06:29.534Z"
      },
      {
        "duration": 28,
        "start_time": "2021-07-08T09:06:29.540Z"
      },
      {
        "duration": 6,
        "start_time": "2021-07-08T09:06:29.570Z"
      },
      {
        "duration": 18,
        "start_time": "2021-07-08T09:06:29.578Z"
      },
      {
        "duration": 5,
        "start_time": "2021-07-08T09:06:29.597Z"
      },
      {
        "duration": 13,
        "start_time": "2021-07-08T09:06:29.605Z"
      },
      {
        "duration": 8,
        "start_time": "2021-07-08T09:06:29.620Z"
      },
      {
        "duration": 7,
        "start_time": "2021-07-08T09:06:29.630Z"
      },
      {
        "duration": 63,
        "start_time": "2021-07-08T09:06:29.639Z"
      },
      {
        "duration": 17,
        "start_time": "2021-07-08T09:06:29.704Z"
      },
      {
        "duration": 20,
        "start_time": "2021-07-08T09:06:29.723Z"
      },
      {
        "duration": 6,
        "start_time": "2021-07-08T09:06:29.745Z"
      },
      {
        "duration": 3,
        "start_time": "2021-07-08T09:06:29.752Z"
      },
      {
        "duration": 7,
        "start_time": "2021-07-08T09:06:29.785Z"
      },
      {
        "duration": 11,
        "start_time": "2021-07-08T09:06:29.794Z"
      },
      {
        "duration": 15,
        "start_time": "2021-07-08T09:06:29.807Z"
      },
      {
        "duration": 8,
        "start_time": "2021-07-08T09:06:29.823Z"
      },
      {
        "duration": 70,
        "start_time": "2021-07-08T09:06:29.832Z"
      },
      {
        "duration": 17,
        "start_time": "2021-07-08T09:06:29.903Z"
      },
      {
        "duration": 9,
        "start_time": "2021-07-08T09:06:29.921Z"
      },
      {
        "duration": 9,
        "start_time": "2021-07-08T09:06:29.932Z"
      },
      {
        "duration": 57,
        "start_time": "2021-07-08T09:06:29.942Z"
      },
      {
        "duration": 11,
        "start_time": "2021-07-08T09:06:30.001Z"
      },
      {
        "duration": 19,
        "start_time": "2021-07-08T09:06:30.016Z"
      },
      {
        "duration": 217,
        "start_time": "2021-07-08T09:06:30.037Z"
      },
      {
        "duration": 6,
        "start_time": "2021-07-08T09:06:30.255Z"
      },
      {
        "duration": 205,
        "start_time": "2021-07-08T09:06:30.263Z"
      },
      {
        "duration": 27,
        "start_time": "2021-07-08T09:06:30.470Z"
      },
      {
        "duration": 11,
        "start_time": "2021-07-08T09:06:30.500Z"
      },
      {
        "duration": 31,
        "start_time": "2021-07-08T09:06:30.513Z"
      },
      {
        "duration": 18,
        "start_time": "2021-07-08T09:06:30.546Z"
      },
      {
        "duration": 11,
        "start_time": "2021-07-08T09:06:30.566Z"
      },
      {
        "duration": 19,
        "start_time": "2021-07-08T09:06:30.579Z"
      },
      {
        "duration": 20,
        "start_time": "2021-07-08T09:06:49.466Z"
      },
      {
        "duration": 9,
        "start_time": "2021-07-08T09:06:51.994Z"
      },
      {
        "duration": 20,
        "start_time": "2021-07-08T09:06:52.273Z"
      },
      {
        "duration": 246,
        "start_time": "2021-07-08T09:10:21.272Z"
      },
      {
        "duration": 84,
        "start_time": "2021-07-08T09:10:21.436Z"
      },
      {
        "duration": 7,
        "start_time": "2021-07-08T09:10:37.608Z"
      },
      {
        "duration": 189,
        "start_time": "2021-07-08T09:10:38.573Z"
      },
      {
        "duration": 185,
        "start_time": "2021-07-08T09:10:53.181Z"
      },
      {
        "duration": 11,
        "start_time": "2021-07-08T09:10:59.549Z"
      },
      {
        "duration": 42,
        "start_time": "2021-07-08T09:10:59.709Z"
      },
      {
        "duration": 12,
        "start_time": "2021-07-08T09:11:02.857Z"
      },
      {
        "duration": 28,
        "start_time": "2021-07-08T09:11:10.062Z"
      },
      {
        "duration": 249,
        "start_time": "2021-07-08T09:11:37.388Z"
      },
      {
        "duration": 232,
        "start_time": "2021-07-08T09:11:49.485Z"
      },
      {
        "duration": 453,
        "start_time": "2021-07-08T09:12:01.546Z"
      },
      {
        "duration": 440,
        "start_time": "2021-07-08T09:12:12.347Z"
      },
      {
        "duration": 213,
        "start_time": "2021-07-08T09:13:32.196Z"
      },
      {
        "duration": 172,
        "start_time": "2021-07-08T09:14:07.400Z"
      },
      {
        "duration": 185,
        "start_time": "2021-07-08T09:14:14.905Z"
      },
      {
        "duration": 209,
        "start_time": "2021-07-08T09:14:40.109Z"
      },
      {
        "duration": 201,
        "start_time": "2021-07-08T09:14:54.506Z"
      },
      {
        "duration": 622,
        "start_time": "2021-07-08T09:18:14.497Z"
      },
      {
        "duration": 220,
        "start_time": "2021-07-08T09:18:15.121Z"
      },
      {
        "duration": 79,
        "start_time": "2021-07-08T09:18:15.343Z"
      },
      {
        "duration": 4,
        "start_time": "2021-07-08T09:18:15.425Z"
      },
      {
        "duration": 24,
        "start_time": "2021-07-08T09:18:15.431Z"
      },
      {
        "duration": 8,
        "start_time": "2021-07-08T09:18:15.457Z"
      },
      {
        "duration": 16,
        "start_time": "2021-07-08T09:18:15.466Z"
      },
      {
        "duration": 5,
        "start_time": "2021-07-08T09:18:15.484Z"
      },
      {
        "duration": 10,
        "start_time": "2021-07-08T09:18:15.493Z"
      },
      {
        "duration": 8,
        "start_time": "2021-07-08T09:18:15.504Z"
      },
      {
        "duration": 7,
        "start_time": "2021-07-08T09:18:15.513Z"
      },
      {
        "duration": 26,
        "start_time": "2021-07-08T09:18:15.522Z"
      },
      {
        "duration": 49,
        "start_time": "2021-07-08T09:18:15.550Z"
      },
      {
        "duration": 21,
        "start_time": "2021-07-08T09:18:15.601Z"
      },
      {
        "duration": 8,
        "start_time": "2021-07-08T09:18:15.624Z"
      },
      {
        "duration": 3,
        "start_time": "2021-07-08T09:18:15.634Z"
      },
      {
        "duration": 8,
        "start_time": "2021-07-08T09:18:15.639Z"
      },
      {
        "duration": 45,
        "start_time": "2021-07-08T09:18:15.649Z"
      },
      {
        "duration": 13,
        "start_time": "2021-07-08T09:18:15.696Z"
      },
      {
        "duration": 10,
        "start_time": "2021-07-08T09:18:15.711Z"
      },
      {
        "duration": 64,
        "start_time": "2021-07-08T09:18:15.722Z"
      },
      {
        "duration": 19,
        "start_time": "2021-07-08T09:18:15.788Z"
      },
      {
        "duration": 9,
        "start_time": "2021-07-08T09:18:15.809Z"
      },
      {
        "duration": 9,
        "start_time": "2021-07-08T09:18:15.820Z"
      },
      {
        "duration": 18,
        "start_time": "2021-07-08T09:18:15.831Z"
      },
      {
        "duration": 43,
        "start_time": "2021-07-08T09:18:15.851Z"
      },
      {
        "duration": 12,
        "start_time": "2021-07-08T09:18:15.897Z"
      },
      {
        "duration": 219,
        "start_time": "2021-07-08T09:18:15.911Z"
      },
      {
        "duration": 8,
        "start_time": "2021-07-08T09:18:16.132Z"
      },
      {
        "duration": 199,
        "start_time": "2021-07-08T09:18:16.141Z"
      },
      {
        "duration": 18,
        "start_time": "2021-07-08T09:18:16.341Z"
      },
      {
        "duration": 24,
        "start_time": "2021-07-08T09:18:16.361Z"
      },
      {
        "duration": 24,
        "start_time": "2021-07-08T09:18:16.387Z"
      },
      {
        "duration": 211,
        "start_time": "2021-07-08T09:18:16.413Z"
      },
      {
        "duration": 18,
        "start_time": "2021-07-08T09:18:16.626Z"
      },
      {
        "duration": 596,
        "start_time": "2021-07-08T10:06:33.623Z"
      },
      {
        "duration": 181,
        "start_time": "2021-07-08T10:06:34.221Z"
      },
      {
        "duration": 176,
        "start_time": "2021-07-08T10:06:34.635Z"
      },
      {
        "duration": 239,
        "start_time": "2021-07-08T10:06:55.572Z"
      },
      {
        "duration": 6,
        "start_time": "2021-07-08T10:06:57.687Z"
      },
      {
        "duration": 4,
        "start_time": "2021-07-08T10:07:03.956Z"
      },
      {
        "duration": 4,
        "start_time": "2021-07-08T10:07:10.376Z"
      },
      {
        "duration": 4,
        "start_time": "2021-07-08T10:17:19.889Z"
      },
      {
        "duration": 3,
        "start_time": "2021-07-08T10:19:19.407Z"
      },
      {
        "duration": 197,
        "start_time": "2021-07-08T10:19:19.412Z"
      },
      {
        "duration": 127,
        "start_time": "2021-07-08T10:19:19.611Z"
      },
      {
        "duration": 4,
        "start_time": "2021-07-08T10:19:19.740Z"
      },
      {
        "duration": 27,
        "start_time": "2021-07-08T10:19:19.746Z"
      },
      {
        "duration": 7,
        "start_time": "2021-07-08T10:19:19.775Z"
      },
      {
        "duration": 30,
        "start_time": "2021-07-08T10:19:19.784Z"
      },
      {
        "duration": 7,
        "start_time": "2021-07-08T10:19:19.817Z"
      },
      {
        "duration": 26,
        "start_time": "2021-07-08T10:19:19.826Z"
      },
      {
        "duration": 18,
        "start_time": "2021-07-08T10:19:19.854Z"
      },
      {
        "duration": 14,
        "start_time": "2021-07-08T10:19:19.874Z"
      },
      {
        "duration": 48,
        "start_time": "2021-07-08T10:19:19.890Z"
      },
      {
        "duration": 17,
        "start_time": "2021-07-08T10:19:19.940Z"
      },
      {
        "duration": 38,
        "start_time": "2021-07-08T10:19:19.959Z"
      },
      {
        "duration": 8,
        "start_time": "2021-07-08T10:19:19.999Z"
      },
      {
        "duration": 15,
        "start_time": "2021-07-08T10:19:20.009Z"
      },
      {
        "duration": 22,
        "start_time": "2021-07-08T10:19:20.026Z"
      },
      {
        "duration": 10,
        "start_time": "2021-07-08T10:19:20.050Z"
      },
      {
        "duration": 10,
        "start_time": "2021-07-08T10:19:20.062Z"
      },
      {
        "duration": 20,
        "start_time": "2021-07-08T10:19:20.073Z"
      },
      {
        "duration": 29,
        "start_time": "2021-07-08T10:19:20.095Z"
      },
      {
        "duration": 17,
        "start_time": "2021-07-08T10:19:20.126Z"
      },
      {
        "duration": 40,
        "start_time": "2021-07-08T10:19:20.146Z"
      },
      {
        "duration": 15,
        "start_time": "2021-07-08T10:19:20.189Z"
      },
      {
        "duration": 19,
        "start_time": "2021-07-08T10:19:20.206Z"
      },
      {
        "duration": 10,
        "start_time": "2021-07-08T10:19:20.226Z"
      },
      {
        "duration": 11,
        "start_time": "2021-07-08T10:19:20.238Z"
      },
      {
        "duration": 297,
        "start_time": "2021-07-08T10:19:20.250Z"
      },
      {
        "duration": 6,
        "start_time": "2021-07-08T10:19:20.549Z"
      },
      {
        "duration": 191,
        "start_time": "2021-07-08T10:19:20.557Z"
      },
      {
        "duration": 19,
        "start_time": "2021-07-08T10:19:20.750Z"
      },
      {
        "duration": 20,
        "start_time": "2021-07-08T10:19:20.771Z"
      },
      {
        "duration": 15,
        "start_time": "2021-07-08T10:19:20.793Z"
      },
      {
        "duration": 222,
        "start_time": "2021-07-08T10:19:20.809Z"
      },
      {
        "duration": 20,
        "start_time": "2021-07-08T10:19:21.033Z"
      },
      {
        "duration": 27,
        "start_time": "2021-07-08T10:45:04.055Z"
      },
      {
        "duration": 8,
        "start_time": "2021-07-08T10:45:08.478Z"
      },
      {
        "duration": 8,
        "start_time": "2021-07-08T10:45:31.982Z"
      },
      {
        "duration": 10,
        "start_time": "2021-07-08T10:46:01.221Z"
      },
      {
        "duration": 17,
        "start_time": "2021-07-08T10:46:40.011Z"
      },
      {
        "duration": 193,
        "start_time": "2021-07-08T10:48:19.471Z"
      },
      {
        "duration": 225,
        "start_time": "2021-07-08T10:49:26.480Z"
      },
      {
        "duration": 204,
        "start_time": "2021-07-08T10:49:59.992Z"
      },
      {
        "duration": 435,
        "start_time": "2021-07-08T10:50:06.779Z"
      },
      {
        "duration": 199,
        "start_time": "2021-07-08T10:50:14.891Z"
      },
      {
        "duration": 204,
        "start_time": "2021-07-08T10:50:18.501Z"
      },
      {
        "duration": 244,
        "start_time": "2021-07-08T10:50:23.359Z"
      },
      {
        "duration": 192,
        "start_time": "2021-07-08T10:50:29.135Z"
      },
      {
        "duration": 218,
        "start_time": "2021-07-08T10:50:33.092Z"
      },
      {
        "duration": 207,
        "start_time": "2021-07-08T10:52:45.381Z"
      },
      {
        "duration": 5,
        "start_time": "2021-07-08T10:53:34.641Z"
      },
      {
        "duration": 196,
        "start_time": "2021-07-08T10:53:41.478Z"
      },
      {
        "duration": 43,
        "start_time": "2021-07-08T10:53:50.335Z"
      },
      {
        "duration": 32,
        "start_time": "2021-07-08T10:53:55.294Z"
      },
      {
        "duration": 55,
        "start_time": "2021-07-08T10:54:09.675Z"
      },
      {
        "duration": 16,
        "start_time": "2021-07-08T10:54:12.260Z"
      },
      {
        "duration": 15,
        "start_time": "2021-07-08T10:54:49.150Z"
      },
      {
        "duration": 20,
        "start_time": "2021-07-08T10:56:07.596Z"
      },
      {
        "duration": 16,
        "start_time": "2021-07-08T10:58:26.276Z"
      },
      {
        "duration": 22,
        "start_time": "2021-07-08T10:59:00.486Z"
      },
      {
        "duration": 18,
        "start_time": "2021-07-08T11:02:09.653Z"
      },
      {
        "duration": 10,
        "start_time": "2021-07-08T11:03:44.331Z"
      },
      {
        "duration": 10,
        "start_time": "2021-07-08T11:03:54.055Z"
      },
      {
        "duration": 12,
        "start_time": "2021-07-08T11:04:41.967Z"
      },
      {
        "duration": 24,
        "start_time": "2021-07-08T11:07:30.732Z"
      },
      {
        "duration": 6,
        "start_time": "2021-07-08T11:07:37.364Z"
      },
      {
        "duration": 16,
        "start_time": "2021-07-08T11:08:01.819Z"
      },
      {
        "duration": 17,
        "start_time": "2021-07-08T11:09:47.488Z"
      },
      {
        "duration": 246,
        "start_time": "2021-07-08T11:10:00.830Z"
      },
      {
        "duration": 18,
        "start_time": "2021-07-08T11:13:55.195Z"
      },
      {
        "duration": 204,
        "start_time": "2021-07-08T11:14:04.951Z"
      },
      {
        "duration": 19,
        "start_time": "2021-07-08T11:15:10.613Z"
      },
      {
        "duration": 680,
        "start_time": "2021-07-08T11:16:25.793Z"
      },
      {
        "duration": 451,
        "start_time": "2021-07-08T11:16:40.313Z"
      },
      {
        "duration": 469,
        "start_time": "2021-07-08T11:17:21.286Z"
      },
      {
        "duration": 20,
        "start_time": "2021-07-08T11:19:12.554Z"
      },
      {
        "duration": 35,
        "start_time": "2021-07-08T11:20:05.484Z"
      },
      {
        "duration": 53,
        "start_time": "2021-07-08T11:21:40.050Z"
      },
      {
        "duration": 13,
        "start_time": "2021-07-08T11:22:26.059Z"
      },
      {
        "duration": 19,
        "start_time": "2021-07-08T11:22:47.419Z"
      },
      {
        "duration": 25,
        "start_time": "2021-07-08T11:23:19.958Z"
      },
      {
        "duration": 29,
        "start_time": "2021-07-08T11:23:25.415Z"
      },
      {
        "duration": 10,
        "start_time": "2021-07-08T11:24:45.138Z"
      },
      {
        "duration": 19,
        "start_time": "2021-07-08T11:24:54.498Z"
      },
      {
        "duration": 12,
        "start_time": "2021-07-08T11:25:32.225Z"
      },
      {
        "duration": 19,
        "start_time": "2021-07-08T11:25:37.092Z"
      },
      {
        "duration": 17,
        "start_time": "2021-07-08T11:25:58.116Z"
      },
      {
        "duration": 15,
        "start_time": "2021-07-08T11:26:02.258Z"
      },
      {
        "duration": 8,
        "start_time": "2021-07-08T11:26:59.682Z"
      },
      {
        "duration": 184,
        "start_time": "2021-07-08T11:27:21.894Z"
      },
      {
        "duration": 8,
        "start_time": "2021-07-08T11:27:23.824Z"
      },
      {
        "duration": 202,
        "start_time": "2021-07-08T11:27:23.962Z"
      },
      {
        "duration": 360,
        "start_time": "2021-07-08T11:28:33.215Z"
      },
      {
        "duration": 231,
        "start_time": "2021-07-08T11:32:05.542Z"
      },
      {
        "duration": 607,
        "start_time": "2021-07-08T11:36:27.854Z"
      },
      {
        "duration": 241,
        "start_time": "2021-07-08T11:36:28.463Z"
      },
      {
        "duration": 67,
        "start_time": "2021-07-08T11:36:28.709Z"
      },
      {
        "duration": 5,
        "start_time": "2021-07-08T11:36:28.778Z"
      },
      {
        "duration": 32,
        "start_time": "2021-07-08T11:36:28.784Z"
      },
      {
        "duration": 11,
        "start_time": "2021-07-08T11:36:28.819Z"
      },
      {
        "duration": 20,
        "start_time": "2021-07-08T11:36:28.834Z"
      },
      {
        "duration": 36,
        "start_time": "2021-07-08T11:36:28.857Z"
      },
      {
        "duration": 16,
        "start_time": "2021-07-08T11:36:28.895Z"
      },
      {
        "duration": 14,
        "start_time": "2021-07-08T11:36:28.913Z"
      },
      {
        "duration": 9,
        "start_time": "2021-07-08T11:36:28.930Z"
      },
      {
        "duration": 55,
        "start_time": "2021-07-08T11:36:28.941Z"
      },
      {
        "duration": 27,
        "start_time": "2021-07-08T11:36:28.999Z"
      },
      {
        "duration": 30,
        "start_time": "2021-07-08T11:36:29.028Z"
      },
      {
        "duration": 31,
        "start_time": "2021-07-08T11:36:29.060Z"
      },
      {
        "duration": 3,
        "start_time": "2021-07-08T11:36:29.093Z"
      },
      {
        "duration": 12,
        "start_time": "2021-07-08T11:36:29.099Z"
      },
      {
        "duration": 11,
        "start_time": "2021-07-08T11:36:29.112Z"
      },
      {
        "duration": 12,
        "start_time": "2021-07-08T11:36:29.125Z"
      },
      {
        "duration": 9,
        "start_time": "2021-07-08T11:36:29.139Z"
      },
      {
        "duration": 31,
        "start_time": "2021-07-08T11:36:29.191Z"
      },
      {
        "duration": 17,
        "start_time": "2021-07-08T11:36:29.226Z"
      },
      {
        "duration": 7,
        "start_time": "2021-07-08T11:36:29.245Z"
      },
      {
        "duration": 10,
        "start_time": "2021-07-08T11:36:29.254Z"
      },
      {
        "duration": 30,
        "start_time": "2021-07-08T11:36:29.292Z"
      },
      {
        "duration": 11,
        "start_time": "2021-07-08T11:36:29.324Z"
      },
      {
        "duration": 11,
        "start_time": "2021-07-08T11:36:29.337Z"
      },
      {
        "duration": 230,
        "start_time": "2021-07-08T11:36:29.349Z"
      },
      {
        "duration": 13,
        "start_time": "2021-07-08T11:36:29.588Z"
      },
      {
        "duration": 205,
        "start_time": "2021-07-08T11:36:29.603Z"
      },
      {
        "duration": 20,
        "start_time": "2021-07-08T11:36:29.810Z"
      },
      {
        "duration": 9,
        "start_time": "2021-07-08T11:36:29.832Z"
      },
      {
        "duration": 16,
        "start_time": "2021-07-08T11:36:29.843Z"
      },
      {
        "duration": 283,
        "start_time": "2021-07-08T11:36:29.861Z"
      },
      {
        "duration": 50,
        "start_time": "2021-07-08T11:36:30.146Z"
      },
      {
        "duration": 14,
        "start_time": "2021-07-08T11:36:30.198Z"
      },
      {
        "duration": 11,
        "start_time": "2021-07-08T11:36:30.214Z"
      },
      {
        "duration": 245,
        "start_time": "2021-07-08T11:36:30.227Z"
      },
      {
        "duration": 439,
        "start_time": "2021-07-08T11:36:30.474Z"
      },
      {
        "duration": 210,
        "start_time": "2021-07-08T11:36:30.915Z"
      },
      {
        "duration": 15,
        "start_time": "2021-07-08T11:36:31.127Z"
      },
      {
        "duration": 17,
        "start_time": "2021-07-08T11:38:20.451Z"
      },
      {
        "duration": 642,
        "start_time": "2021-07-08T11:46:17.881Z"
      },
      {
        "duration": 210,
        "start_time": "2021-07-08T11:46:18.525Z"
      },
      {
        "duration": 104,
        "start_time": "2021-07-08T11:46:18.741Z"
      },
      {
        "duration": 8,
        "start_time": "2021-07-08T11:46:18.847Z"
      },
      {
        "duration": 25,
        "start_time": "2021-07-08T11:46:18.857Z"
      },
      {
        "duration": 14,
        "start_time": "2021-07-08T11:46:18.884Z"
      },
      {
        "duration": 22,
        "start_time": "2021-07-08T11:46:18.900Z"
      },
      {
        "duration": 5,
        "start_time": "2021-07-08T11:46:18.924Z"
      },
      {
        "duration": 13,
        "start_time": "2021-07-08T11:46:18.931Z"
      },
      {
        "duration": 45,
        "start_time": "2021-07-08T11:46:18.946Z"
      },
      {
        "duration": 12,
        "start_time": "2021-07-08T11:46:18.993Z"
      },
      {
        "duration": 38,
        "start_time": "2021-07-08T11:46:19.006Z"
      },
      {
        "duration": 50,
        "start_time": "2021-07-08T11:46:19.046Z"
      },
      {
        "duration": 29,
        "start_time": "2021-07-08T11:46:19.099Z"
      },
      {
        "duration": 7,
        "start_time": "2021-07-08T11:46:19.130Z"
      },
      {
        "duration": 3,
        "start_time": "2021-07-08T11:46:19.139Z"
      },
      {
        "duration": 11,
        "start_time": "2021-07-08T11:46:19.144Z"
      },
      {
        "duration": 40,
        "start_time": "2021-07-08T11:46:19.157Z"
      },
      {
        "duration": 15,
        "start_time": "2021-07-08T11:46:19.199Z"
      },
      {
        "duration": 10,
        "start_time": "2021-07-08T11:46:19.217Z"
      },
      {
        "duration": 68,
        "start_time": "2021-07-08T11:46:19.230Z"
      },
      {
        "duration": 17,
        "start_time": "2021-07-08T11:46:19.301Z"
      },
      {
        "duration": 7,
        "start_time": "2021-07-08T11:46:19.321Z"
      },
      {
        "duration": 11,
        "start_time": "2021-07-08T11:46:19.330Z"
      },
      {
        "duration": 59,
        "start_time": "2021-07-08T11:46:19.343Z"
      },
      {
        "duration": 17,
        "start_time": "2021-07-08T11:46:19.405Z"
      },
      {
        "duration": 16,
        "start_time": "2021-07-08T11:46:19.424Z"
      },
      {
        "duration": 252,
        "start_time": "2021-07-08T11:46:19.443Z"
      },
      {
        "duration": 9,
        "start_time": "2021-07-08T11:46:19.697Z"
      },
      {
        "duration": 224,
        "start_time": "2021-07-08T11:46:19.708Z"
      },
      {
        "duration": 21,
        "start_time": "2021-07-08T11:46:19.934Z"
      },
      {
        "duration": 9,
        "start_time": "2021-07-08T11:46:19.956Z"
      },
      {
        "duration": 32,
        "start_time": "2021-07-08T11:46:19.967Z"
      },
      {
        "duration": 288,
        "start_time": "2021-07-08T11:46:20.004Z"
      },
      {
        "duration": 23,
        "start_time": "2021-07-08T11:46:20.300Z"
      },
      {
        "duration": 11,
        "start_time": "2021-07-08T11:46:20.325Z"
      },
      {
        "duration": 11,
        "start_time": "2021-07-08T11:46:20.339Z"
      },
      {
        "duration": 259,
        "start_time": "2021-07-08T11:46:20.352Z"
      },
      {
        "duration": 438,
        "start_time": "2021-07-08T11:46:20.613Z"
      },
      {
        "duration": 207,
        "start_time": "2021-07-08T11:46:21.054Z"
      },
      {
        "duration": 27,
        "start_time": "2021-07-08T11:46:21.262Z"
      },
      {
        "duration": 19,
        "start_time": "2021-07-08T11:46:21.291Z"
      },
      {
        "duration": 820,
        "start_time": "2021-07-08T11:49:01.655Z"
      },
      {
        "duration": 372,
        "start_time": "2021-07-08T11:49:02.478Z"
      },
      {
        "duration": 98,
        "start_time": "2021-07-08T11:49:02.853Z"
      },
      {
        "duration": 6,
        "start_time": "2021-07-08T11:49:02.953Z"
      },
      {
        "duration": 39,
        "start_time": "2021-07-08T11:49:02.960Z"
      },
      {
        "duration": 9,
        "start_time": "2021-07-08T11:49:03.003Z"
      },
      {
        "duration": 23,
        "start_time": "2021-07-08T11:49:03.014Z"
      },
      {
        "duration": 6,
        "start_time": "2021-07-08T11:49:03.041Z"
      },
      {
        "duration": 20,
        "start_time": "2021-07-08T11:49:03.049Z"
      },
      {
        "duration": 18,
        "start_time": "2021-07-08T11:49:03.084Z"
      },
      {
        "duration": 14,
        "start_time": "2021-07-08T11:49:03.104Z"
      },
      {
        "duration": 39,
        "start_time": "2021-07-08T11:49:03.119Z"
      },
      {
        "duration": 38,
        "start_time": "2021-07-08T11:49:03.160Z"
      },
      {
        "duration": 26,
        "start_time": "2021-07-08T11:49:03.200Z"
      },
      {
        "duration": 7,
        "start_time": "2021-07-08T11:49:03.227Z"
      },
      {
        "duration": 4,
        "start_time": "2021-07-08T11:49:03.236Z"
      },
      {
        "duration": 15,
        "start_time": "2021-07-08T11:49:03.243Z"
      },
      {
        "duration": 21,
        "start_time": "2021-07-08T11:49:03.285Z"
      },
      {
        "duration": 17,
        "start_time": "2021-07-08T11:49:03.309Z"
      },
      {
        "duration": 10,
        "start_time": "2021-07-08T11:49:03.328Z"
      },
      {
        "duration": 65,
        "start_time": "2021-07-08T11:49:03.340Z"
      },
      {
        "duration": 18,
        "start_time": "2021-07-08T11:49:03.407Z"
      },
      {
        "duration": 8,
        "start_time": "2021-07-08T11:49:03.428Z"
      },
      {
        "duration": 15,
        "start_time": "2021-07-08T11:49:03.438Z"
      },
      {
        "duration": 40,
        "start_time": "2021-07-08T11:49:03.455Z"
      },
      {
        "duration": 12,
        "start_time": "2021-07-08T11:49:03.497Z"
      },
      {
        "duration": 29,
        "start_time": "2021-07-08T11:49:03.511Z"
      },
      {
        "duration": 285,
        "start_time": "2021-07-08T11:49:03.542Z"
      },
      {
        "duration": 8,
        "start_time": "2021-07-08T11:49:03.829Z"
      },
      {
        "duration": 227,
        "start_time": "2021-07-08T11:49:03.838Z"
      },
      {
        "duration": 40,
        "start_time": "2021-07-08T11:49:04.066Z"
      },
      {
        "duration": 10,
        "start_time": "2021-07-08T11:49:04.108Z"
      },
      {
        "duration": 26,
        "start_time": "2021-07-08T11:49:04.121Z"
      },
      {
        "duration": 290,
        "start_time": "2021-07-08T11:49:04.149Z"
      },
      {
        "duration": 26,
        "start_time": "2021-07-08T11:49:04.441Z"
      },
      {
        "duration": 31,
        "start_time": "2021-07-08T11:49:04.470Z"
      },
      {
        "duration": 14,
        "start_time": "2021-07-08T11:49:04.503Z"
      },
      {
        "duration": 259,
        "start_time": "2021-07-08T11:49:04.521Z"
      },
      {
        "duration": 480,
        "start_time": "2021-07-08T11:49:04.782Z"
      },
      {
        "duration": 225,
        "start_time": "2021-07-08T11:49:05.264Z"
      },
      {
        "duration": 22,
        "start_time": "2021-07-08T11:49:05.491Z"
      },
      {
        "duration": 24,
        "start_time": "2021-07-08T11:49:05.515Z"
      },
      {
        "duration": 634,
        "start_time": "2021-07-08T11:52:24.960Z"
      },
      {
        "duration": 199,
        "start_time": "2021-07-08T11:52:25.599Z"
      },
      {
        "duration": 106,
        "start_time": "2021-07-08T11:52:25.803Z"
      },
      {
        "duration": 7,
        "start_time": "2021-07-08T11:52:25.911Z"
      },
      {
        "duration": 29,
        "start_time": "2021-07-08T11:52:25.920Z"
      },
      {
        "duration": 7,
        "start_time": "2021-07-08T11:52:25.951Z"
      },
      {
        "duration": 26,
        "start_time": "2021-07-08T11:52:25.961Z"
      },
      {
        "duration": 11,
        "start_time": "2021-07-08T11:52:25.990Z"
      },
      {
        "duration": 29,
        "start_time": "2021-07-08T11:52:26.005Z"
      },
      {
        "duration": 9,
        "start_time": "2021-07-08T11:52:26.036Z"
      },
      {
        "duration": 8,
        "start_time": "2021-07-08T11:52:26.047Z"
      },
      {
        "duration": 63,
        "start_time": "2021-07-08T11:52:26.057Z"
      },
      {
        "duration": 17,
        "start_time": "2021-07-08T11:52:26.122Z"
      },
      {
        "duration": 43,
        "start_time": "2021-07-08T11:52:26.142Z"
      },
      {
        "duration": 17,
        "start_time": "2021-07-08T11:52:26.187Z"
      },
      {
        "duration": 5,
        "start_time": "2021-07-08T11:52:26.206Z"
      },
      {
        "duration": 12,
        "start_time": "2021-07-08T11:52:26.212Z"
      },
      {
        "duration": 11,
        "start_time": "2021-07-08T11:52:26.226Z"
      },
      {
        "duration": 12,
        "start_time": "2021-07-08T11:52:26.238Z"
      },
      {
        "duration": 38,
        "start_time": "2021-07-08T11:52:26.252Z"
      },
      {
        "duration": 40,
        "start_time": "2021-07-08T11:52:26.292Z"
      },
      {
        "duration": 17,
        "start_time": "2021-07-08T11:52:26.336Z"
      },
      {
        "duration": 39,
        "start_time": "2021-07-08T11:52:26.355Z"
      },
      {
        "duration": 11,
        "start_time": "2021-07-08T11:52:26.395Z"
      },
      {
        "duration": 23,
        "start_time": "2021-07-08T11:52:26.408Z"
      },
      {
        "duration": 12,
        "start_time": "2021-07-08T11:52:26.432Z"
      },
      {
        "duration": 41,
        "start_time": "2021-07-08T11:52:26.446Z"
      },
      {
        "duration": 215,
        "start_time": "2021-07-08T11:52:26.493Z"
      },
      {
        "duration": 8,
        "start_time": "2021-07-08T11:52:26.710Z"
      },
      {
        "duration": 228,
        "start_time": "2021-07-08T11:52:26.720Z"
      },
      {
        "duration": 18,
        "start_time": "2021-07-08T11:52:26.950Z"
      },
      {
        "duration": 35,
        "start_time": "2021-07-08T11:52:26.969Z"
      },
      {
        "duration": 23,
        "start_time": "2021-07-08T11:52:27.006Z"
      },
      {
        "duration": 258,
        "start_time": "2021-07-08T11:52:27.030Z"
      },
      {
        "duration": 24,
        "start_time": "2021-07-08T11:52:27.290Z"
      },
      {
        "duration": 12,
        "start_time": "2021-07-08T11:52:27.316Z"
      },
      {
        "duration": 10,
        "start_time": "2021-07-08T11:52:27.329Z"
      },
      {
        "duration": 298,
        "start_time": "2021-07-08T11:52:27.341Z"
      },
      {
        "duration": 436,
        "start_time": "2021-07-08T11:52:27.641Z"
      },
      {
        "duration": 216,
        "start_time": "2021-07-08T11:52:28.079Z"
      },
      {
        "duration": 20,
        "start_time": "2021-07-08T11:52:28.297Z"
      },
      {
        "duration": 17,
        "start_time": "2021-07-08T11:52:28.319Z"
      },
      {
        "duration": 410,
        "start_time": "2022-11-22T10:59:03.277Z"
      },
      {
        "duration": 294,
        "start_time": "2022-11-22T10:59:03.709Z"
      },
      {
        "duration": 96,
        "start_time": "2022-11-22T10:59:30.274Z"
      },
      {
        "duration": 54,
        "start_time": "2022-11-22T10:59:34.118Z"
      },
      {
        "duration": 66,
        "start_time": "2022-11-22T11:09:01.963Z"
      },
      {
        "duration": 10,
        "start_time": "2022-11-22T11:12:41.605Z"
      },
      {
        "duration": 54,
        "start_time": "2022-11-22T11:13:30.941Z"
      },
      {
        "duration": 54,
        "start_time": "2022-11-22T11:13:41.610Z"
      },
      {
        "duration": 56,
        "start_time": "2022-11-22T11:13:52.448Z"
      },
      {
        "duration": 57,
        "start_time": "2022-11-22T11:14:03.591Z"
      },
      {
        "duration": 95,
        "start_time": "2022-11-22T11:14:22.011Z"
      },
      {
        "duration": 102,
        "start_time": "2022-11-22T11:14:41.813Z"
      },
      {
        "duration": 62,
        "start_time": "2022-11-22T11:14:52.295Z"
      },
      {
        "duration": 376,
        "start_time": "2022-11-22T11:15:48.488Z"
      },
      {
        "duration": 276,
        "start_time": "2022-11-22T11:16:05.561Z"
      },
      {
        "duration": 92,
        "start_time": "2022-11-22T11:16:30.498Z"
      },
      {
        "duration": 92,
        "start_time": "2022-11-22T11:19:57.404Z"
      },
      {
        "duration": 91,
        "start_time": "2022-11-22T11:20:10.356Z"
      },
      {
        "duration": 93,
        "start_time": "2022-11-22T11:20:17.691Z"
      },
      {
        "duration": 89,
        "start_time": "2022-11-22T11:20:24.481Z"
      },
      {
        "duration": 85,
        "start_time": "2022-11-22T11:20:32.986Z"
      },
      {
        "duration": 796,
        "start_time": "2022-11-22T11:21:18.822Z"
      },
      {
        "duration": 3,
        "start_time": "2022-11-22T11:21:32.271Z"
      },
      {
        "duration": 100,
        "start_time": "2022-11-22T11:21:32.888Z"
      },
      {
        "duration": 97,
        "start_time": "2022-11-22T11:21:50.021Z"
      },
      {
        "duration": 80,
        "start_time": "2022-11-22T11:22:58.437Z"
      },
      {
        "duration": 92,
        "start_time": "2022-11-22T11:23:10.077Z"
      },
      {
        "duration": 94,
        "start_time": "2022-11-22T11:23:19.380Z"
      },
      {
        "duration": 104,
        "start_time": "2022-11-22T11:23:36.224Z"
      },
      {
        "duration": 24,
        "start_time": "2022-11-22T11:23:44.889Z"
      },
      {
        "duration": 32,
        "start_time": "2022-11-22T11:24:10.507Z"
      },
      {
        "duration": 41,
        "start_time": "2022-11-22T11:33:49.592Z"
      },
      {
        "duration": 53,
        "start_time": "2022-11-22T11:34:22.923Z"
      },
      {
        "duration": 8,
        "start_time": "2022-11-22T11:34:41.445Z"
      },
      {
        "duration": 15,
        "start_time": "2022-11-22T11:36:43.331Z"
      },
      {
        "duration": 15,
        "start_time": "2022-11-22T11:37:11.080Z"
      },
      {
        "duration": 370,
        "start_time": "2022-11-22T11:38:52.807Z"
      },
      {
        "duration": 423,
        "start_time": "2022-11-22T11:40:30.212Z"
      },
      {
        "duration": 13,
        "start_time": "2022-11-22T11:40:39.781Z"
      },
      {
        "duration": 11,
        "start_time": "2022-11-22T11:41:43.998Z"
      },
      {
        "duration": 16,
        "start_time": "2022-11-22T11:41:53.274Z"
      },
      {
        "duration": 17,
        "start_time": "2022-11-22T11:42:10.028Z"
      },
      {
        "duration": 54,
        "start_time": "2022-11-22T11:42:28.049Z"
      },
      {
        "duration": 16,
        "start_time": "2022-11-22T11:42:42.882Z"
      },
      {
        "duration": 399,
        "start_time": "2022-11-22T11:43:50.891Z"
      },
      {
        "duration": 15,
        "start_time": "2022-11-22T11:44:15.742Z"
      },
      {
        "duration": 99,
        "start_time": "2022-11-22T11:45:01.857Z"
      },
      {
        "duration": 14,
        "start_time": "2022-11-22T11:45:07.182Z"
      },
      {
        "duration": 19,
        "start_time": "2022-11-22T11:45:14.783Z"
      },
      {
        "duration": 14,
        "start_time": "2022-11-22T11:45:21.575Z"
      },
      {
        "duration": 15,
        "start_time": "2022-11-22T11:45:27.641Z"
      },
      {
        "duration": 14,
        "start_time": "2022-11-22T11:45:34.183Z"
      },
      {
        "duration": 8,
        "start_time": "2022-11-22T11:46:59.542Z"
      },
      {
        "duration": 15,
        "start_time": "2022-11-22T11:47:12.433Z"
      },
      {
        "duration": 17,
        "start_time": "2022-11-22T11:48:33.916Z"
      },
      {
        "duration": 8,
        "start_time": "2022-11-22T11:50:47.875Z"
      },
      {
        "duration": 468,
        "start_time": "2022-11-22T11:50:54.957Z"
      },
      {
        "duration": 534,
        "start_time": "2022-11-22T11:51:09.668Z"
      },
      {
        "duration": 402,
        "start_time": "2022-11-22T11:51:23.875Z"
      },
      {
        "duration": 21,
        "start_time": "2022-11-22T11:51:34.000Z"
      },
      {
        "duration": 15,
        "start_time": "2022-11-22T11:51:50.233Z"
      },
      {
        "duration": 356,
        "start_time": "2022-11-22T11:52:06.725Z"
      },
      {
        "duration": 482,
        "start_time": "2022-11-22T11:52:49.377Z"
      },
      {
        "duration": 19,
        "start_time": "2022-11-22T11:53:26.795Z"
      },
      {
        "duration": 406,
        "start_time": "2022-11-22T11:53:35.166Z"
      },
      {
        "duration": 8,
        "start_time": "2022-11-22T11:54:09.167Z"
      },
      {
        "duration": 783,
        "start_time": "2022-11-22T11:54:26.455Z"
      },
      {
        "duration": 723,
        "start_time": "2022-11-22T11:54:33.581Z"
      },
      {
        "duration": 718,
        "start_time": "2022-11-22T11:54:42.513Z"
      },
      {
        "duration": 473,
        "start_time": "2022-11-22T11:54:55.367Z"
      },
      {
        "duration": 128,
        "start_time": "2022-11-22T11:54:55.842Z"
      },
      {
        "duration": 51,
        "start_time": "2022-11-22T11:54:56.035Z"
      },
      {
        "duration": 39,
        "start_time": "2022-11-22T11:54:56.311Z"
      },
      {
        "duration": 15,
        "start_time": "2022-11-22T11:54:57.461Z"
      },
      {
        "duration": 538,
        "start_time": "2022-11-22T11:55:06.366Z"
      },
      {
        "duration": 10,
        "start_time": "2022-11-22T11:55:21.110Z"
      },
      {
        "duration": 9,
        "start_time": "2022-11-22T11:55:47.709Z"
      },
      {
        "duration": 37,
        "start_time": "2022-11-22T11:56:14.398Z"
      },
      {
        "duration": 18,
        "start_time": "2022-11-22T11:56:21.615Z"
      },
      {
        "duration": 22,
        "start_time": "2022-11-22T11:56:34.084Z"
      },
      {
        "duration": 15,
        "start_time": "2022-11-22T11:56:51.727Z"
      },
      {
        "duration": 418,
        "start_time": "2022-11-22T11:56:57.584Z"
      },
      {
        "duration": 555,
        "start_time": "2022-11-22T11:57:06.168Z"
      },
      {
        "duration": 7,
        "start_time": "2022-11-22T11:57:12.512Z"
      },
      {
        "duration": 10,
        "start_time": "2022-11-22T11:57:57.291Z"
      },
      {
        "duration": 465,
        "start_time": "2022-11-22T11:58:01.382Z"
      },
      {
        "duration": 199,
        "start_time": "2022-11-22T11:58:20.791Z"
      },
      {
        "duration": 382,
        "start_time": "2022-11-22T11:58:41.643Z"
      },
      {
        "duration": 422,
        "start_time": "2022-11-22T11:59:00.517Z"
      },
      {
        "duration": 46,
        "start_time": "2022-11-22T11:59:30.200Z"
      },
      {
        "duration": 9,
        "start_time": "2022-11-22T11:59:34.583Z"
      },
      {
        "duration": 389,
        "start_time": "2022-11-22T11:59:47.430Z"
      },
      {
        "duration": 473,
        "start_time": "2022-11-22T12:00:54.127Z"
      },
      {
        "duration": 820,
        "start_time": "2022-11-22T12:01:02.269Z"
      },
      {
        "duration": 8,
        "start_time": "2022-11-22T12:01:10.752Z"
      },
      {
        "duration": 482,
        "start_time": "2022-11-22T12:01:12.515Z"
      },
      {
        "duration": 21,
        "start_time": "2022-11-22T12:03:04.545Z"
      },
      {
        "duration": 17,
        "start_time": "2022-11-22T12:03:21.290Z"
      },
      {
        "duration": 57,
        "start_time": "2022-11-22T12:03:43.571Z"
      },
      {
        "duration": 9,
        "start_time": "2022-11-22T12:03:55.576Z"
      },
      {
        "duration": 366,
        "start_time": "2022-11-22T12:03:57.628Z"
      },
      {
        "duration": 9,
        "start_time": "2022-11-22T12:04:09.384Z"
      },
      {
        "duration": 10,
        "start_time": "2022-11-22T12:04:15.001Z"
      },
      {
        "duration": 388,
        "start_time": "2022-11-22T12:04:15.484Z"
      },
      {
        "duration": 10,
        "start_time": "2022-11-22T12:04:27.900Z"
      },
      {
        "duration": 511,
        "start_time": "2022-11-22T12:04:29.878Z"
      },
      {
        "duration": 8,
        "start_time": "2022-11-22T12:04:36.496Z"
      },
      {
        "duration": 341,
        "start_time": "2022-11-22T12:04:36.983Z"
      },
      {
        "duration": 44,
        "start_time": "2022-11-22T12:05:13.802Z"
      },
      {
        "duration": 15,
        "start_time": "2022-11-22T12:05:49.303Z"
      },
      {
        "duration": 8,
        "start_time": "2022-11-22T12:05:59.770Z"
      },
      {
        "duration": 577,
        "start_time": "2022-11-22T12:06:00.434Z"
      },
      {
        "duration": 11,
        "start_time": "2022-11-22T12:06:14.202Z"
      },
      {
        "duration": 374,
        "start_time": "2022-11-22T12:06:14.585Z"
      },
      {
        "duration": 13,
        "start_time": "2022-11-22T12:06:28.649Z"
      },
      {
        "duration": 999,
        "start_time": "2022-11-22T12:06:28.966Z"
      },
      {
        "duration": 16,
        "start_time": "2022-11-22T12:06:43.761Z"
      },
      {
        "duration": 416,
        "start_time": "2022-11-22T12:06:44.296Z"
      },
      {
        "duration": 16,
        "start_time": "2022-11-22T12:06:54.234Z"
      },
      {
        "duration": 352,
        "start_time": "2022-11-22T12:06:54.644Z"
      },
      {
        "duration": 21,
        "start_time": "2022-11-22T12:07:04.719Z"
      },
      {
        "duration": 399,
        "start_time": "2022-11-22T12:07:05.019Z"
      },
      {
        "duration": 20,
        "start_time": "2022-11-22T12:07:16.383Z"
      },
      {
        "duration": 406,
        "start_time": "2022-11-22T12:07:18.036Z"
      },
      {
        "duration": 21,
        "start_time": "2022-11-22T12:07:28.753Z"
      },
      {
        "duration": 425,
        "start_time": "2022-11-22T12:07:29.025Z"
      },
      {
        "duration": 21,
        "start_time": "2022-11-22T12:07:38.629Z"
      },
      {
        "duration": 522,
        "start_time": "2022-11-22T12:07:39.585Z"
      },
      {
        "duration": 23,
        "start_time": "2022-11-22T12:07:51.783Z"
      },
      {
        "duration": 436,
        "start_time": "2022-11-22T12:07:52.944Z"
      },
      {
        "duration": 6,
        "start_time": "2022-11-22T12:08:03.627Z"
      },
      {
        "duration": 384,
        "start_time": "2022-11-22T12:08:04.249Z"
      },
      {
        "duration": 25,
        "start_time": "2022-11-22T12:08:17.994Z"
      },
      {
        "duration": 5,
        "start_time": "2022-11-22T12:08:18.344Z"
      },
      {
        "duration": 5,
        "start_time": "2022-11-22T12:08:18.854Z"
      },
      {
        "duration": 4,
        "start_time": "2022-11-22T12:08:22.542Z"
      },
      {
        "duration": 26,
        "start_time": "2022-11-22T12:08:31.579Z"
      },
      {
        "duration": 4,
        "start_time": "2022-11-22T12:09:52.412Z"
      },
      {
        "duration": 6,
        "start_time": "2022-11-22T12:09:54.711Z"
      },
      {
        "duration": 575,
        "start_time": "2022-11-22T12:10:03.509Z"
      },
      {
        "duration": 8,
        "start_time": "2022-11-22T12:10:27.611Z"
      },
      {
        "duration": 12,
        "start_time": "2022-11-22T12:10:57.633Z"
      },
      {
        "duration": 12,
        "start_time": "2022-11-22T12:11:26.852Z"
      },
      {
        "duration": 11,
        "start_time": "2022-11-22T12:12:30.614Z"
      },
      {
        "duration": 7,
        "start_time": "2022-11-22T12:13:45.329Z"
      },
      {
        "duration": 214,
        "start_time": "2022-11-22T14:11:59.338Z"
      },
      {
        "duration": 26,
        "start_time": "2022-11-22T14:12:07.724Z"
      },
      {
        "duration": 9,
        "start_time": "2022-11-22T14:14:40.817Z"
      },
      {
        "duration": 5,
        "start_time": "2022-11-22T14:15:01.789Z"
      },
      {
        "duration": 8,
        "start_time": "2022-11-22T14:27:18.082Z"
      },
      {
        "duration": 8,
        "start_time": "2022-11-22T14:27:24.281Z"
      },
      {
        "duration": 17,
        "start_time": "2022-11-22T14:27:44.620Z"
      },
      {
        "duration": 8,
        "start_time": "2022-11-22T14:30:51.948Z"
      },
      {
        "duration": 10,
        "start_time": "2022-11-22T14:31:02.465Z"
      },
      {
        "duration": 5,
        "start_time": "2022-11-22T14:31:23.279Z"
      },
      {
        "duration": 6,
        "start_time": "2022-11-22T14:37:33.423Z"
      },
      {
        "duration": 9,
        "start_time": "2022-11-22T14:40:14.251Z"
      },
      {
        "duration": 308,
        "start_time": "2022-11-22T14:40:51.334Z"
      },
      {
        "duration": 5,
        "start_time": "2022-11-22T14:42:15.324Z"
      },
      {
        "duration": 5,
        "start_time": "2022-11-22T14:42:31.701Z"
      },
      {
        "duration": 513,
        "start_time": "2022-11-22T14:43:22.869Z"
      },
      {
        "duration": 6,
        "start_time": "2022-11-22T14:43:30.738Z"
      },
      {
        "duration": 3,
        "start_time": "2022-11-22T14:44:04.586Z"
      },
      {
        "duration": 120,
        "start_time": "2022-11-22T14:44:05.597Z"
      },
      {
        "duration": 74,
        "start_time": "2022-11-22T14:44:06.644Z"
      },
      {
        "duration": 30,
        "start_time": "2022-11-22T14:44:09.288Z"
      },
      {
        "duration": 14,
        "start_time": "2022-11-22T14:44:10.570Z"
      },
      {
        "duration": 546,
        "start_time": "2022-11-22T14:44:10.935Z"
      },
      {
        "duration": 0,
        "start_time": "2022-11-22T14:44:11.482Z"
      },
      {
        "duration": 8,
        "start_time": "2022-11-22T14:44:12.107Z"
      },
      {
        "duration": 30,
        "start_time": "2022-11-22T14:44:31.885Z"
      },
      {
        "duration": 12,
        "start_time": "2022-11-22T14:44:33.301Z"
      },
      {
        "duration": 9,
        "start_time": "2022-11-22T14:44:47.932Z"
      },
      {
        "duration": 4,
        "start_time": "2022-11-22T14:44:48.219Z"
      },
      {
        "duration": 193,
        "start_time": "2022-11-22T14:44:48.621Z"
      },
      {
        "duration": 12,
        "start_time": "2022-11-22T14:44:50.031Z"
      },
      {
        "duration": 20,
        "start_time": "2022-11-22T14:44:50.269Z"
      },
      {
        "duration": 6,
        "start_time": "2022-11-22T14:44:51.285Z"
      },
      {
        "duration": 6,
        "start_time": "2022-11-22T14:45:00.122Z"
      },
      {
        "duration": 5,
        "start_time": "2022-11-22T14:53:15.687Z"
      },
      {
        "duration": 4,
        "start_time": "2022-11-22T14:53:35.375Z"
      },
      {
        "duration": 5,
        "start_time": "2022-11-22T14:53:52.805Z"
      },
      {
        "duration": 5,
        "start_time": "2022-11-22T14:53:59.703Z"
      },
      {
        "duration": 5,
        "start_time": "2022-11-22T14:54:49.430Z"
      },
      {
        "duration": 14,
        "start_time": "2022-11-22T14:58:26.705Z"
      },
      {
        "duration": 21,
        "start_time": "2022-11-22T14:59:22.787Z"
      },
      {
        "duration": 22,
        "start_time": "2022-11-22T15:02:52.552Z"
      },
      {
        "duration": 4,
        "start_time": "2022-11-22T15:05:31.165Z"
      },
      {
        "duration": 5,
        "start_time": "2022-11-22T15:05:48.991Z"
      },
      {
        "duration": 232,
        "start_time": "2022-11-22T15:15:22.257Z"
      },
      {
        "duration": 224,
        "start_time": "2022-11-22T15:15:31.755Z"
      },
      {
        "duration": 266,
        "start_time": "2022-11-22T15:15:59.571Z"
      },
      {
        "duration": 804,
        "start_time": "2022-11-22T15:20:25.009Z"
      },
      {
        "duration": 838,
        "start_time": "2022-11-22T15:20:44.889Z"
      },
      {
        "duration": 7,
        "start_time": "2022-11-22T15:22:23.356Z"
      },
      {
        "duration": 746,
        "start_time": "2022-11-22T15:22:24.104Z"
      },
      {
        "duration": 228,
        "start_time": "2022-11-22T15:23:05.706Z"
      },
      {
        "duration": 6,
        "start_time": "2022-11-22T15:23:12.733Z"
      },
      {
        "duration": 285,
        "start_time": "2022-11-22T15:23:13.385Z"
      },
      {
        "duration": 5,
        "start_time": "2022-11-22T15:25:51.912Z"
      },
      {
        "duration": 5,
        "start_time": "2022-11-22T15:27:52.713Z"
      },
      {
        "duration": 11,
        "start_time": "2022-11-22T15:29:03.758Z"
      },
      {
        "duration": 14,
        "start_time": "2022-11-22T15:29:11.799Z"
      },
      {
        "duration": 5,
        "start_time": "2022-11-22T15:30:12.167Z"
      },
      {
        "duration": 81,
        "start_time": "2022-11-22T15:31:14.841Z"
      },
      {
        "duration": 5,
        "start_time": "2022-11-22T15:31:35.841Z"
      },
      {
        "duration": 11,
        "start_time": "2022-11-22T15:37:03.357Z"
      },
      {
        "duration": 16,
        "start_time": "2022-11-22T15:37:15.157Z"
      },
      {
        "duration": 141,
        "start_time": "2022-11-22T15:38:00.021Z"
      },
      {
        "duration": 727,
        "start_time": "2022-11-22T15:38:13.071Z"
      },
      {
        "duration": 126,
        "start_time": "2022-11-22T15:38:21.140Z"
      },
      {
        "duration": 947,
        "start_time": "2022-11-22T15:38:51.407Z"
      },
      {
        "duration": 9,
        "start_time": "2022-11-22T15:42:00.404Z"
      },
      {
        "duration": 1133,
        "start_time": "2022-11-22T15:42:07.389Z"
      },
      {
        "duration": 3,
        "start_time": "2022-11-22T15:42:08.523Z"
      },
      {
        "duration": 119,
        "start_time": "2022-11-22T15:42:08.528Z"
      },
      {
        "duration": 48,
        "start_time": "2022-11-22T15:42:08.648Z"
      },
      {
        "duration": 31,
        "start_time": "2022-11-22T15:42:08.698Z"
      },
      {
        "duration": 11,
        "start_time": "2022-11-22T15:42:08.731Z"
      },
      {
        "duration": 31,
        "start_time": "2022-11-22T15:42:08.743Z"
      },
      {
        "duration": 28,
        "start_time": "2022-11-22T15:42:08.776Z"
      },
      {
        "duration": 8,
        "start_time": "2022-11-22T15:42:08.806Z"
      },
      {
        "duration": 4,
        "start_time": "2022-11-22T15:42:08.815Z"
      },
      {
        "duration": 206,
        "start_time": "2022-11-22T15:42:08.820Z"
      },
      {
        "duration": 12,
        "start_time": "2022-11-22T15:42:09.028Z"
      },
      {
        "duration": 18,
        "start_time": "2022-11-22T15:42:09.041Z"
      },
      {
        "duration": 6,
        "start_time": "2022-11-22T15:42:09.062Z"
      },
      {
        "duration": 42,
        "start_time": "2022-11-22T15:42:09.069Z"
      },
      {
        "duration": 6,
        "start_time": "2022-11-22T15:42:09.113Z"
      },
      {
        "duration": 7,
        "start_time": "2022-11-22T15:42:09.121Z"
      },
      {
        "duration": 295,
        "start_time": "2022-11-22T15:42:09.129Z"
      },
      {
        "duration": 0,
        "start_time": "2022-11-22T15:42:09.425Z"
      },
      {
        "duration": 0,
        "start_time": "2022-11-22T15:42:09.427Z"
      },
      {
        "duration": 2,
        "start_time": "2022-11-22T15:42:12.607Z"
      },
      {
        "duration": 3,
        "start_time": "2022-11-22T15:42:12.941Z"
      },
      {
        "duration": 108,
        "start_time": "2022-11-22T15:42:13.198Z"
      },
      {
        "duration": 48,
        "start_time": "2022-11-22T15:42:13.323Z"
      },
      {
        "duration": 30,
        "start_time": "2022-11-22T15:42:13.593Z"
      },
      {
        "duration": 13,
        "start_time": "2022-11-22T15:42:14.043Z"
      },
      {
        "duration": 30,
        "start_time": "2022-11-22T15:42:14.249Z"
      },
      {
        "duration": 12,
        "start_time": "2022-11-22T15:42:14.337Z"
      },
      {
        "duration": 10,
        "start_time": "2022-11-22T15:42:14.672Z"
      },
      {
        "duration": 5,
        "start_time": "2022-11-22T15:42:14.804Z"
      },
      {
        "duration": 186,
        "start_time": "2022-11-22T15:42:14.971Z"
      },
      {
        "duration": 13,
        "start_time": "2022-11-22T15:42:15.437Z"
      },
      {
        "duration": 18,
        "start_time": "2022-11-22T15:42:15.587Z"
      },
      {
        "duration": 7,
        "start_time": "2022-11-22T15:42:16.075Z"
      },
      {
        "duration": 20,
        "start_time": "2022-11-22T15:42:16.740Z"
      },
      {
        "duration": 6,
        "start_time": "2022-11-22T15:42:17.392Z"
      },
      {
        "duration": 7,
        "start_time": "2022-11-22T15:42:17.640Z"
      },
      {
        "duration": 240,
        "start_time": "2022-11-22T15:42:17.788Z"
      },
      {
        "duration": 6,
        "start_time": "2022-11-22T15:42:18.103Z"
      },
      {
        "duration": 8,
        "start_time": "2022-11-22T15:42:19.668Z"
      },
      {
        "duration": 15,
        "start_time": "2022-11-22T15:42:29.360Z"
      },
      {
        "duration": 7,
        "start_time": "2022-11-22T15:42:56.192Z"
      },
      {
        "duration": 112,
        "start_time": "2022-11-22T15:43:33.943Z"
      },
      {
        "duration": 13,
        "start_time": "2022-11-22T15:44:17.981Z"
      },
      {
        "duration": 12,
        "start_time": "2022-11-22T15:44:25.322Z"
      },
      {
        "duration": 104,
        "start_time": "2022-11-22T15:44:43.658Z"
      },
      {
        "duration": 61,
        "start_time": "2022-11-22T15:45:10.983Z"
      },
      {
        "duration": 121,
        "start_time": "2022-11-22T15:45:17.891Z"
      },
      {
        "duration": 124,
        "start_time": "2022-11-22T15:46:26.304Z"
      },
      {
        "duration": 133,
        "start_time": "2022-11-22T15:46:48.524Z"
      },
      {
        "duration": 120,
        "start_time": "2022-11-22T15:47:01.559Z"
      },
      {
        "duration": 5,
        "start_time": "2022-11-22T15:47:54.525Z"
      },
      {
        "duration": 139,
        "start_time": "2022-11-22T15:49:05.692Z"
      },
      {
        "duration": 174,
        "start_time": "2022-11-22T15:49:26.007Z"
      },
      {
        "duration": 142,
        "start_time": "2022-11-22T15:49:45.776Z"
      },
      {
        "duration": 133,
        "start_time": "2022-11-22T15:49:52.575Z"
      },
      {
        "duration": 200,
        "start_time": "2022-11-22T15:51:38.059Z"
      },
      {
        "duration": 233,
        "start_time": "2022-11-22T15:51:50.676Z"
      },
      {
        "duration": 252,
        "start_time": "2022-11-22T15:52:56.382Z"
      },
      {
        "duration": 256,
        "start_time": "2022-11-22T15:56:09.491Z"
      },
      {
        "duration": 218,
        "start_time": "2022-11-22T15:56:25.047Z"
      },
      {
        "duration": 227,
        "start_time": "2022-11-22T16:01:40.669Z"
      },
      {
        "duration": 123,
        "start_time": "2022-11-22T16:02:12.785Z"
      },
      {
        "duration": 165,
        "start_time": "2022-11-22T16:02:23.908Z"
      },
      {
        "duration": 126,
        "start_time": "2022-11-22T16:02:31.659Z"
      },
      {
        "duration": 137,
        "start_time": "2022-11-22T16:02:37.560Z"
      },
      {
        "duration": 116,
        "start_time": "2022-11-22T16:03:16.093Z"
      },
      {
        "duration": 260,
        "start_time": "2022-11-22T16:05:44.994Z"
      },
      {
        "duration": 440,
        "start_time": "2022-11-22T16:05:56.643Z"
      },
      {
        "duration": 246,
        "start_time": "2022-11-22T16:06:26.044Z"
      },
      {
        "duration": 185,
        "start_time": "2022-11-22T16:07:12.109Z"
      },
      {
        "duration": 51,
        "start_time": "2022-11-22T16:07:54.042Z"
      },
      {
        "duration": 209,
        "start_time": "2022-11-22T16:08:06.839Z"
      },
      {
        "duration": 94,
        "start_time": "2022-11-22T16:10:01.642Z"
      },
      {
        "duration": 238,
        "start_time": "2022-11-22T16:10:09.893Z"
      },
      {
        "duration": 9972,
        "start_time": "2022-11-22T16:14:40.539Z"
      },
      {
        "duration": 9895,
        "start_time": "2022-11-22T16:15:00.161Z"
      },
      {
        "duration": 10448,
        "start_time": "2022-11-22T16:15:15.428Z"
      },
      {
        "duration": 12,
        "start_time": "2022-11-22T16:16:03.415Z"
      },
      {
        "duration": 16,
        "start_time": "2022-11-22T16:16:22.535Z"
      },
      {
        "duration": 10063,
        "start_time": "2022-11-22T16:16:38.279Z"
      },
      {
        "duration": 915,
        "start_time": "2022-11-22T16:17:13.316Z"
      },
      {
        "duration": 191,
        "start_time": "2022-11-22T16:17:28.427Z"
      },
      {
        "duration": 9,
        "start_time": "2022-11-22T16:18:02.045Z"
      },
      {
        "duration": 222,
        "start_time": "2022-11-22T16:18:03.855Z"
      },
      {
        "duration": 7,
        "start_time": "2022-11-22T16:18:25.093Z"
      },
      {
        "duration": 1133,
        "start_time": "2022-11-22T16:25:46.477Z"
      },
      {
        "duration": 3,
        "start_time": "2022-11-22T16:25:47.612Z"
      },
      {
        "duration": 124,
        "start_time": "2022-11-22T16:25:47.616Z"
      },
      {
        "duration": 50,
        "start_time": "2022-11-22T16:25:47.742Z"
      },
      {
        "duration": 30,
        "start_time": "2022-11-22T16:25:47.793Z"
      },
      {
        "duration": 12,
        "start_time": "2022-11-22T16:25:47.824Z"
      },
      {
        "duration": 30,
        "start_time": "2022-11-22T16:25:47.837Z"
      },
      {
        "duration": 31,
        "start_time": "2022-11-22T16:25:47.868Z"
      },
      {
        "duration": 7,
        "start_time": "2022-11-22T16:25:47.900Z"
      },
      {
        "duration": 4,
        "start_time": "2022-11-22T16:25:47.909Z"
      },
      {
        "duration": 209,
        "start_time": "2022-11-22T16:25:47.914Z"
      },
      {
        "duration": 11,
        "start_time": "2022-11-22T16:25:48.125Z"
      },
      {
        "duration": 17,
        "start_time": "2022-11-22T16:25:48.137Z"
      },
      {
        "duration": 6,
        "start_time": "2022-11-22T16:25:48.155Z"
      },
      {
        "duration": 48,
        "start_time": "2022-11-22T16:25:48.162Z"
      },
      {
        "duration": 14,
        "start_time": "2022-11-22T16:25:48.212Z"
      },
      {
        "duration": 10,
        "start_time": "2022-11-22T16:25:48.228Z"
      },
      {
        "duration": 419,
        "start_time": "2022-11-22T16:25:48.240Z"
      },
      {
        "duration": 0,
        "start_time": "2022-11-22T16:25:48.660Z"
      },
      {
        "duration": 0,
        "start_time": "2022-11-22T16:25:48.662Z"
      },
      {
        "duration": 0,
        "start_time": "2022-11-22T16:25:48.663Z"
      },
      {
        "duration": 0,
        "start_time": "2022-11-22T16:25:48.664Z"
      },
      {
        "duration": 0,
        "start_time": "2022-11-22T16:25:48.665Z"
      },
      {
        "duration": 0,
        "start_time": "2022-11-22T16:25:48.666Z"
      },
      {
        "duration": 3,
        "start_time": "2022-11-22T16:26:02.111Z"
      },
      {
        "duration": 3,
        "start_time": "2022-11-22T16:26:03.060Z"
      },
      {
        "duration": 110,
        "start_time": "2022-11-22T16:26:03.697Z"
      },
      {
        "duration": 61,
        "start_time": "2022-11-22T16:26:06.209Z"
      },
      {
        "duration": 33,
        "start_time": "2022-11-22T16:26:06.747Z"
      },
      {
        "duration": 13,
        "start_time": "2022-11-22T16:26:09.008Z"
      },
      {
        "duration": 30,
        "start_time": "2022-11-22T16:26:09.627Z"
      },
      {
        "duration": 14,
        "start_time": "2022-11-22T16:26:10.897Z"
      },
      {
        "duration": 9,
        "start_time": "2022-11-22T16:26:12.145Z"
      },
      {
        "duration": 3,
        "start_time": "2022-11-22T16:26:13.028Z"
      },
      {
        "duration": 176,
        "start_time": "2022-11-22T16:26:13.548Z"
      },
      {
        "duration": 10,
        "start_time": "2022-11-22T16:26:18.912Z"
      },
      {
        "duration": 17,
        "start_time": "2022-11-22T16:26:19.378Z"
      },
      {
        "duration": 6,
        "start_time": "2022-11-22T16:26:21.628Z"
      },
      {
        "duration": 18,
        "start_time": "2022-11-22T16:26:22.627Z"
      },
      {
        "duration": 5,
        "start_time": "2022-11-22T16:26:24.034Z"
      },
      {
        "duration": 9,
        "start_time": "2022-11-22T16:26:24.539Z"
      },
      {
        "duration": 258,
        "start_time": "2022-11-22T16:26:25.081Z"
      },
      {
        "duration": 6,
        "start_time": "2022-11-22T16:26:25.511Z"
      },
      {
        "duration": 128,
        "start_time": "2022-11-22T16:26:26.644Z"
      },
      {
        "duration": 116,
        "start_time": "2022-11-22T16:26:27.661Z"
      },
      {
        "duration": 140,
        "start_time": "2022-11-22T16:26:28.620Z"
      },
      {
        "duration": 209,
        "start_time": "2022-11-22T16:26:29.460Z"
      },
      {
        "duration": 10502,
        "start_time": "2022-11-22T16:26:41.168Z"
      },
      {
        "duration": 11,
        "start_time": "2022-11-22T16:44:32.806Z"
      },
      {
        "duration": 124,
        "start_time": "2022-11-22T16:44:47.308Z"
      },
      {
        "duration": 128,
        "start_time": "2022-11-22T16:44:59.158Z"
      },
      {
        "duration": 12,
        "start_time": "2022-11-22T16:46:36.977Z"
      },
      {
        "duration": 12,
        "start_time": "2022-11-22T16:47:01.688Z"
      },
      {
        "duration": 11,
        "start_time": "2022-11-22T16:47:21.638Z"
      },
      {
        "duration": 11,
        "start_time": "2022-11-22T16:48:06.815Z"
      },
      {
        "duration": 128,
        "start_time": "2022-11-22T16:48:31.124Z"
      },
      {
        "duration": 124,
        "start_time": "2022-11-22T16:50:25.410Z"
      },
      {
        "duration": 124,
        "start_time": "2022-11-22T16:50:39.273Z"
      },
      {
        "duration": 114,
        "start_time": "2022-11-22T16:52:27.341Z"
      },
      {
        "duration": 228,
        "start_time": "2022-11-22T16:53:07.223Z"
      },
      {
        "duration": 224,
        "start_time": "2022-11-22T16:57:08.341Z"
      },
      {
        "duration": 210,
        "start_time": "2022-11-22T16:58:33.997Z"
      },
      {
        "duration": 214,
        "start_time": "2022-11-22T16:59:26.096Z"
      },
      {
        "duration": 222,
        "start_time": "2022-11-22T16:59:58.876Z"
      },
      {
        "duration": 8,
        "start_time": "2022-11-22T17:24:56.703Z"
      },
      {
        "duration": 3,
        "start_time": "2022-11-22T17:25:17.478Z"
      },
      {
        "duration": 3,
        "start_time": "2022-11-22T17:25:17.933Z"
      },
      {
        "duration": 112,
        "start_time": "2022-11-22T17:25:18.487Z"
      },
      {
        "duration": 49,
        "start_time": "2022-11-22T17:25:18.921Z"
      },
      {
        "duration": 31,
        "start_time": "2022-11-22T17:25:19.354Z"
      },
      {
        "duration": 13,
        "start_time": "2022-11-22T17:25:20.793Z"
      },
      {
        "duration": 29,
        "start_time": "2022-11-22T17:25:21.250Z"
      },
      {
        "duration": 12,
        "start_time": "2022-11-22T17:25:21.703Z"
      },
      {
        "duration": 10,
        "start_time": "2022-11-22T17:25:24.664Z"
      },
      {
        "duration": 1109,
        "start_time": "2022-11-22T17:25:42.073Z"
      },
      {
        "duration": 3,
        "start_time": "2022-11-22T17:25:43.936Z"
      },
      {
        "duration": 111,
        "start_time": "2022-11-22T17:25:45.212Z"
      },
      {
        "duration": 47,
        "start_time": "2022-11-22T17:25:46.029Z"
      },
      {
        "duration": 28,
        "start_time": "2022-11-22T17:25:46.539Z"
      },
      {
        "duration": 14,
        "start_time": "2022-11-22T17:25:48.399Z"
      },
      {
        "duration": 32,
        "start_time": "2022-11-22T17:25:49.029Z"
      },
      {
        "duration": 13,
        "start_time": "2022-11-22T17:25:49.423Z"
      },
      {
        "duration": 7,
        "start_time": "2022-11-22T17:25:51.401Z"
      },
      {
        "duration": 4,
        "start_time": "2022-11-22T17:25:55.429Z"
      },
      {
        "duration": 192,
        "start_time": "2022-11-22T17:25:55.753Z"
      },
      {
        "duration": 11,
        "start_time": "2022-11-22T17:25:56.457Z"
      },
      {
        "duration": 17,
        "start_time": "2022-11-22T17:25:56.669Z"
      },
      {
        "duration": 6,
        "start_time": "2022-11-22T17:25:57.352Z"
      },
      {
        "duration": 19,
        "start_time": "2022-11-22T17:25:57.771Z"
      },
      {
        "duration": 6,
        "start_time": "2022-11-22T17:25:58.544Z"
      },
      {
        "duration": 7,
        "start_time": "2022-11-22T17:25:58.987Z"
      },
      {
        "duration": 282,
        "start_time": "2022-11-22T17:25:59.197Z"
      },
      {
        "duration": 7,
        "start_time": "2022-11-22T17:25:59.583Z"
      },
      {
        "duration": 145,
        "start_time": "2022-11-22T17:26:00.337Z"
      },
      {
        "duration": 115,
        "start_time": "2022-11-22T17:26:00.919Z"
      },
      {
        "duration": 138,
        "start_time": "2022-11-22T17:26:01.484Z"
      },
      {
        "duration": 215,
        "start_time": "2022-11-22T17:26:01.999Z"
      },
      {
        "duration": 10094,
        "start_time": "2022-11-22T17:26:02.524Z"
      },
      {
        "duration": 227,
        "start_time": "2022-11-22T17:26:45.929Z"
      },
      {
        "duration": 1360,
        "start_time": "2022-11-23T08:26:54.908Z"
      },
      {
        "duration": 3,
        "start_time": "2022-11-23T08:26:56.271Z"
      },
      {
        "duration": 328,
        "start_time": "2022-11-23T08:26:56.276Z"
      },
      {
        "duration": 86,
        "start_time": "2022-11-23T08:26:56.658Z"
      },
      {
        "duration": 52,
        "start_time": "2022-11-23T08:26:57.162Z"
      },
      {
        "duration": 14,
        "start_time": "2022-11-23T08:26:58.464Z"
      },
      {
        "duration": 34,
        "start_time": "2022-11-23T08:26:58.883Z"
      },
      {
        "duration": 15,
        "start_time": "2022-11-23T08:26:59.181Z"
      },
      {
        "duration": 8,
        "start_time": "2022-11-23T08:26:59.765Z"
      },
      {
        "duration": 4,
        "start_time": "2022-11-23T08:27:00.060Z"
      },
      {
        "duration": 237,
        "start_time": "2022-11-23T08:27:00.377Z"
      },
      {
        "duration": 13,
        "start_time": "2022-11-23T08:27:01.146Z"
      },
      {
        "duration": 18,
        "start_time": "2022-11-23T08:27:01.338Z"
      },
      {
        "duration": 8,
        "start_time": "2022-11-23T08:27:02.036Z"
      },
      {
        "duration": 24,
        "start_time": "2022-11-23T08:27:02.464Z"
      },
      {
        "duration": 5,
        "start_time": "2022-11-23T08:27:03.774Z"
      },
      {
        "duration": 7,
        "start_time": "2022-11-23T08:27:04.265Z"
      },
      {
        "duration": 275,
        "start_time": "2022-11-23T08:27:04.546Z"
      },
      {
        "duration": 7,
        "start_time": "2022-11-23T08:27:05.197Z"
      },
      {
        "duration": 143,
        "start_time": "2022-11-23T08:27:06.124Z"
      },
      {
        "duration": 121,
        "start_time": "2022-11-23T08:27:07.098Z"
      },
      {
        "duration": 163,
        "start_time": "2022-11-23T08:27:07.925Z"
      },
      {
        "duration": 259,
        "start_time": "2022-11-23T08:27:08.780Z"
      },
      {
        "duration": 159,
        "start_time": "2022-11-23T08:27:09.631Z"
      },
      {
        "duration": 6,
        "start_time": "2022-11-23T08:32:58.914Z"
      },
      {
        "duration": 8,
        "start_time": "2022-11-23T08:33:00.374Z"
      },
      {
        "duration": 6,
        "start_time": "2022-11-23T08:33:19.963Z"
      },
      {
        "duration": 155,
        "start_time": "2022-11-23T08:37:10.626Z"
      },
      {
        "duration": 163,
        "start_time": "2022-11-23T08:37:24.765Z"
      },
      {
        "duration": 14,
        "start_time": "2022-11-23T08:38:23.924Z"
      },
      {
        "duration": 7,
        "start_time": "2022-11-23T08:38:41.215Z"
      },
      {
        "duration": 140,
        "start_time": "2022-11-23T08:38:49.131Z"
      },
      {
        "duration": 352,
        "start_time": "2022-11-23T08:38:57.799Z"
      },
      {
        "duration": 122,
        "start_time": "2022-11-23T08:40:03.516Z"
      },
      {
        "duration": 280,
        "start_time": "2022-11-23T08:40:08.535Z"
      },
      {
        "duration": 283,
        "start_time": "2022-11-23T08:40:20.108Z"
      },
      {
        "duration": 11,
        "start_time": "2022-11-23T08:41:37.250Z"
      },
      {
        "duration": 4,
        "start_time": "2022-11-23T08:43:09.655Z"
      },
      {
        "duration": 4,
        "start_time": "2022-11-23T08:43:09.820Z"
      },
      {
        "duration": 123,
        "start_time": "2022-11-23T08:43:09.988Z"
      },
      {
        "duration": 58,
        "start_time": "2022-11-23T08:43:10.163Z"
      },
      {
        "duration": 44,
        "start_time": "2022-11-23T08:43:10.304Z"
      },
      {
        "duration": 17,
        "start_time": "2022-11-23T08:43:10.782Z"
      },
      {
        "duration": 33,
        "start_time": "2022-11-23T08:43:10.922Z"
      },
      {
        "duration": 14,
        "start_time": "2022-11-23T08:43:11.071Z"
      },
      {
        "duration": 8,
        "start_time": "2022-11-23T08:43:11.366Z"
      },
      {
        "duration": 6,
        "start_time": "2022-11-23T08:43:11.505Z"
      },
      {
        "duration": 210,
        "start_time": "2022-11-23T08:43:11.803Z"
      },
      {
        "duration": 6,
        "start_time": "2022-11-23T08:43:12.015Z"
      },
      {
        "duration": 13,
        "start_time": "2022-11-23T08:43:12.567Z"
      },
      {
        "duration": 18,
        "start_time": "2022-11-23T08:43:12.723Z"
      },
      {
        "duration": 10,
        "start_time": "2022-11-23T08:43:13.200Z"
      },
      {
        "duration": 21,
        "start_time": "2022-11-23T08:43:13.498Z"
      },
      {
        "duration": 7,
        "start_time": "2022-11-23T08:43:14.070Z"
      },
      {
        "duration": 9,
        "start_time": "2022-11-23T08:43:14.378Z"
      },
      {
        "duration": 7,
        "start_time": "2022-11-23T08:43:14.683Z"
      },
      {
        "duration": 157,
        "start_time": "2022-11-23T08:43:15.123Z"
      },
      {
        "duration": 138,
        "start_time": "2022-11-23T08:43:15.595Z"
      },
      {
        "duration": 168,
        "start_time": "2022-11-23T08:43:16.047Z"
      },
      {
        "duration": 345,
        "start_time": "2022-11-23T08:43:16.512Z"
      },
      {
        "duration": 298,
        "start_time": "2022-11-23T08:43:16.957Z"
      },
      {
        "duration": 281,
        "start_time": "2022-11-23T08:43:17.421Z"
      },
      {
        "duration": 279,
        "start_time": "2022-11-23T08:46:32.782Z"
      },
      {
        "duration": 4,
        "start_time": "2022-11-23T08:52:50.290Z"
      },
      {
        "duration": 6,
        "start_time": "2022-11-23T08:53:16.841Z"
      },
      {
        "duration": 5716,
        "start_time": "2022-11-23T08:54:51.251Z"
      },
      {
        "duration": 49,
        "start_time": "2022-11-23T08:55:22.229Z"
      },
      {
        "duration": 288,
        "start_time": "2022-11-23T08:55:29.600Z"
      },
      {
        "duration": 291,
        "start_time": "2022-11-23T08:59:04.135Z"
      },
      {
        "duration": 373,
        "start_time": "2022-11-23T08:59:14.181Z"
      },
      {
        "duration": 344,
        "start_time": "2022-11-23T09:03:26.282Z"
      },
      {
        "duration": 285,
        "start_time": "2022-11-23T09:03:51.792Z"
      },
      {
        "duration": 278,
        "start_time": "2022-11-23T09:05:59.043Z"
      },
      {
        "duration": 1298,
        "start_time": "2022-11-23T14:03:04.528Z"
      },
      {
        "duration": 4,
        "start_time": "2022-11-23T14:03:05.829Z"
      },
      {
        "duration": 284,
        "start_time": "2022-11-23T14:03:05.835Z"
      },
      {
        "duration": 101,
        "start_time": "2022-11-23T14:03:06.472Z"
      },
      {
        "duration": 35,
        "start_time": "2022-11-23T14:03:06.970Z"
      },
      {
        "duration": 41,
        "start_time": "2022-11-23T14:03:14.199Z"
      },
      {
        "duration": 15,
        "start_time": "2022-11-23T14:03:16.219Z"
      },
      {
        "duration": 689,
        "start_time": "2022-11-23T14:03:23.000Z"
      },
      {
        "duration": 613,
        "start_time": "2022-11-23T14:03:43.655Z"
      },
      {
        "duration": 53,
        "start_time": "2022-11-23T14:04:00.418Z"
      },
      {
        "duration": 21,
        "start_time": "2022-11-23T14:04:04.221Z"
      },
      {
        "duration": 9,
        "start_time": "2022-11-23T14:04:18.038Z"
      },
      {
        "duration": 4,
        "start_time": "2022-11-23T14:04:25.630Z"
      },
      {
        "duration": 214,
        "start_time": "2022-11-23T14:04:26.419Z"
      },
      {
        "duration": 7,
        "start_time": "2022-11-23T14:04:28.596Z"
      },
      {
        "duration": 20,
        "start_time": "2022-11-23T14:06:36.080Z"
      },
      {
        "duration": 25,
        "start_time": "2022-11-23T14:06:36.554Z"
      },
      {
        "duration": 11,
        "start_time": "2022-11-23T14:09:49.413Z"
      },
      {
        "duration": 18,
        "start_time": "2022-11-23T14:10:02.365Z"
      },
      {
        "duration": 8,
        "start_time": "2022-11-23T14:13:08.081Z"
      },
      {
        "duration": 21,
        "start_time": "2022-11-23T14:13:08.967Z"
      },
      {
        "duration": 6,
        "start_time": "2022-11-23T14:13:12.156Z"
      },
      {
        "duration": 10,
        "start_time": "2022-11-23T14:13:12.953Z"
      },
      {
        "duration": 7,
        "start_time": "2022-11-23T14:13:13.630Z"
      },
      {
        "duration": 145,
        "start_time": "2022-11-23T14:13:14.764Z"
      },
      {
        "duration": 170,
        "start_time": "2022-11-23T14:13:15.896Z"
      },
      {
        "duration": 166,
        "start_time": "2022-11-23T14:13:16.698Z"
      },
      {
        "duration": 238,
        "start_time": "2022-11-23T14:13:17.478Z"
      },
      {
        "duration": 290,
        "start_time": "2022-11-23T14:13:18.233Z"
      },
      {
        "duration": 364,
        "start_time": "2022-11-23T14:13:18.525Z"
      },
      {
        "duration": 315,
        "start_time": "2022-11-23T14:13:18.891Z"
      },
      {
        "duration": 310,
        "start_time": "2022-11-23T14:13:19.208Z"
      },
      {
        "duration": 1329,
        "start_time": "2022-11-27T11:14:15.972Z"
      },
      {
        "duration": 3,
        "start_time": "2022-11-27T11:14:17.305Z"
      },
      {
        "duration": 302,
        "start_time": "2022-11-27T11:14:17.310Z"
      },
      {
        "duration": 93,
        "start_time": "2022-11-27T11:14:18.072Z"
      },
      {
        "duration": 35,
        "start_time": "2022-11-27T11:14:18.504Z"
      },
      {
        "duration": 18,
        "start_time": "2022-11-27T11:14:21.846Z"
      },
      {
        "duration": 58,
        "start_time": "2022-11-27T11:14:22.566Z"
      },
      {
        "duration": 15,
        "start_time": "2022-11-27T11:14:23.458Z"
      },
      {
        "duration": 8,
        "start_time": "2022-11-27T11:14:24.408Z"
      },
      {
        "duration": 4,
        "start_time": "2022-11-27T11:14:25.163Z"
      },
      {
        "duration": 225,
        "start_time": "2022-11-27T11:14:25.454Z"
      },
      {
        "duration": 9,
        "start_time": "2022-11-27T11:14:28.702Z"
      },
      {
        "duration": 19,
        "start_time": "2022-11-27T11:14:42.989Z"
      },
      {
        "duration": 23,
        "start_time": "2022-11-27T11:14:44.167Z"
      },
      {
        "duration": 15,
        "start_time": "2022-11-27T11:14:44.721Z"
      },
      {
        "duration": 26,
        "start_time": "2022-11-27T11:16:43.385Z"
      },
      {
        "duration": 10,
        "start_time": "2022-11-27T11:18:29.484Z"
      },
      {
        "duration": 9,
        "start_time": "2022-11-27T11:19:01.809Z"
      },
      {
        "duration": 9,
        "start_time": "2022-11-27T11:29:02.840Z"
      },
      {
        "duration": 5,
        "start_time": "2022-11-27T11:29:25.252Z"
      },
      {
        "duration": 5,
        "start_time": "2022-11-27T11:29:27.683Z"
      },
      {
        "duration": 20,
        "start_time": "2022-11-27T11:29:42.680Z"
      },
      {
        "duration": 5,
        "start_time": "2022-11-27T11:30:04.701Z"
      },
      {
        "duration": 23,
        "start_time": "2022-11-27T11:30:04.918Z"
      },
      {
        "duration": 20,
        "start_time": "2022-11-27T11:34:19.901Z"
      },
      {
        "duration": 26,
        "start_time": "2022-11-27T11:34:21.189Z"
      },
      {
        "duration": 6,
        "start_time": "2022-11-27T11:35:05.645Z"
      },
      {
        "duration": 10,
        "start_time": "2022-11-27T11:35:06.471Z"
      },
      {
        "duration": 6,
        "start_time": "2022-11-27T11:35:07.456Z"
      },
      {
        "duration": 132,
        "start_time": "2022-11-27T11:35:09.856Z"
      },
      {
        "duration": 136,
        "start_time": "2022-11-27T11:37:38.465Z"
      },
      {
        "duration": 135,
        "start_time": "2022-11-27T11:38:03.379Z"
      },
      {
        "duration": 142,
        "start_time": "2022-11-27T11:38:04.656Z"
      },
      {
        "duration": 213,
        "start_time": "2022-11-27T11:38:06.004Z"
      },
      {
        "duration": 242,
        "start_time": "2022-11-27T11:38:07.505Z"
      },
      {
        "duration": 253,
        "start_time": "2022-11-27T11:38:07.790Z"
      },
      {
        "duration": 309,
        "start_time": "2022-11-27T11:38:08.101Z"
      },
      {
        "duration": 242,
        "start_time": "2022-11-27T11:38:08.412Z"
      },
      {
        "duration": 100,
        "start_time": "2022-11-27T11:39:23.348Z"
      },
      {
        "duration": 25,
        "start_time": "2022-11-27T11:39:32.440Z"
      },
      {
        "duration": 1089,
        "start_time": "2023-02-09T15:50:39.002Z"
      },
      {
        "duration": 2,
        "start_time": "2023-02-09T15:50:40.093Z"
      },
      {
        "duration": 312,
        "start_time": "2023-02-09T15:50:40.096Z"
      },
      {
        "duration": 60,
        "start_time": "2023-02-09T15:50:40.410Z"
      },
      {
        "duration": 34,
        "start_time": "2023-02-09T15:50:40.472Z"
      },
      {
        "duration": 14,
        "start_time": "2023-02-09T15:50:40.507Z"
      },
      {
        "duration": 70,
        "start_time": "2023-02-09T15:50:40.522Z"
      },
      {
        "duration": 14,
        "start_time": "2023-02-09T15:50:40.594Z"
      },
      {
        "duration": 7,
        "start_time": "2023-02-09T15:50:40.610Z"
      },
      {
        "duration": 4,
        "start_time": "2023-02-09T15:50:40.620Z"
      },
      {
        "duration": 242,
        "start_time": "2023-02-09T15:50:40.625Z"
      },
      {
        "duration": 6,
        "start_time": "2023-02-09T15:50:40.869Z"
      },
      {
        "duration": 69,
        "start_time": "2023-02-09T15:50:40.877Z"
      },
      {
        "duration": 61,
        "start_time": "2023-02-09T15:50:40.948Z"
      },
      {
        "duration": 16,
        "start_time": "2023-02-09T15:50:41.011Z"
      },
      {
        "duration": 22,
        "start_time": "2023-02-09T15:50:41.028Z"
      },
      {
        "duration": 12,
        "start_time": "2023-02-09T15:50:41.051Z"
      },
      {
        "duration": 32,
        "start_time": "2023-02-09T15:50:41.065Z"
      },
      {
        "duration": 30,
        "start_time": "2023-02-09T15:50:41.099Z"
      },
      {
        "duration": 6,
        "start_time": "2023-02-09T15:50:41.131Z"
      },
      {
        "duration": 28,
        "start_time": "2023-02-09T15:50:41.139Z"
      },
      {
        "duration": 20,
        "start_time": "2023-02-09T15:50:41.169Z"
      },
      {
        "duration": 142,
        "start_time": "2023-02-09T15:50:41.191Z"
      },
      {
        "duration": 131,
        "start_time": "2023-02-09T15:50:41.335Z"
      },
      {
        "duration": 172,
        "start_time": "2023-02-09T15:50:41.468Z"
      },
      {
        "duration": 266,
        "start_time": "2023-02-09T15:50:41.641Z"
      },
      {
        "duration": 267,
        "start_time": "2023-02-09T15:50:41.909Z"
      },
      {
        "duration": 276,
        "start_time": "2023-02-09T15:50:42.178Z"
      },
      {
        "duration": 327,
        "start_time": "2023-02-09T15:50:42.456Z"
      },
      {
        "duration": 255,
        "start_time": "2023-02-09T15:50:42.785Z"
      },
      {
        "duration": 1144,
        "start_time": "2023-02-09T23:23:12.298Z"
      },
      {
        "duration": 3,
        "start_time": "2023-02-09T23:23:13.444Z"
      },
      {
        "duration": 133,
        "start_time": "2023-02-09T23:23:13.449Z"
      },
      {
        "duration": 45,
        "start_time": "2023-02-09T23:23:13.584Z"
      },
      {
        "duration": 34,
        "start_time": "2023-02-09T23:23:13.631Z"
      },
      {
        "duration": 14,
        "start_time": "2023-02-09T23:23:13.666Z"
      },
      {
        "duration": 47,
        "start_time": "2023-02-09T23:23:13.681Z"
      },
      {
        "duration": 13,
        "start_time": "2023-02-09T23:23:13.730Z"
      },
      {
        "duration": 22,
        "start_time": "2023-02-09T23:23:13.744Z"
      },
      {
        "duration": 19,
        "start_time": "2023-02-09T23:23:13.769Z"
      },
      {
        "duration": 224,
        "start_time": "2023-02-09T23:23:13.790Z"
      },
      {
        "duration": 6,
        "start_time": "2023-02-09T23:23:14.016Z"
      },
      {
        "duration": 27,
        "start_time": "2023-02-09T23:23:14.024Z"
      },
      {
        "duration": 38,
        "start_time": "2023-02-09T23:23:14.053Z"
      },
      {
        "duration": 16,
        "start_time": "2023-02-09T23:23:14.093Z"
      },
      {
        "duration": 21,
        "start_time": "2023-02-09T23:23:14.111Z"
      },
      {
        "duration": 11,
        "start_time": "2023-02-09T23:23:14.133Z"
      },
      {
        "duration": 46,
        "start_time": "2023-02-09T23:23:14.146Z"
      },
      {
        "duration": 23,
        "start_time": "2023-02-09T23:23:14.194Z"
      },
      {
        "duration": 5,
        "start_time": "2023-02-09T23:23:14.218Z"
      },
      {
        "duration": 13,
        "start_time": "2023-02-09T23:23:14.225Z"
      },
      {
        "duration": 13,
        "start_time": "2023-02-09T23:23:14.240Z"
      },
      {
        "duration": 152,
        "start_time": "2023-02-09T23:23:14.255Z"
      },
      {
        "duration": 137,
        "start_time": "2023-02-09T23:23:14.409Z"
      },
      {
        "duration": 158,
        "start_time": "2023-02-09T23:23:14.547Z"
      },
      {
        "duration": 236,
        "start_time": "2023-02-09T23:23:14.707Z"
      },
      {
        "duration": 288,
        "start_time": "2023-02-09T23:23:14.945Z"
      },
      {
        "duration": 282,
        "start_time": "2023-02-09T23:23:15.236Z"
      },
      {
        "duration": 324,
        "start_time": "2023-02-09T23:23:15.520Z"
      },
      {
        "duration": 251,
        "start_time": "2023-02-09T23:23:15.846Z"
      },
      {
        "duration": 1149,
        "start_time": "2023-02-10T11:03:41.594Z"
      },
      {
        "duration": 3,
        "start_time": "2023-02-10T11:03:42.745Z"
      },
      {
        "duration": 302,
        "start_time": "2023-02-10T11:03:42.749Z"
      },
      {
        "duration": 64,
        "start_time": "2023-02-10T11:03:43.053Z"
      },
      {
        "duration": 37,
        "start_time": "2023-02-10T11:03:43.118Z"
      },
      {
        "duration": 16,
        "start_time": "2023-02-10T11:03:43.157Z"
      },
      {
        "duration": 72,
        "start_time": "2023-02-10T11:03:43.174Z"
      },
      {
        "duration": 14,
        "start_time": "2023-02-10T11:03:43.248Z"
      },
      {
        "duration": 14,
        "start_time": "2023-02-10T11:03:43.264Z"
      },
      {
        "duration": 4,
        "start_time": "2023-02-10T11:03:43.281Z"
      },
      {
        "duration": 245,
        "start_time": "2023-02-10T11:03:43.287Z"
      },
      {
        "duration": 7,
        "start_time": "2023-02-10T11:03:43.534Z"
      },
      {
        "duration": 25,
        "start_time": "2023-02-10T11:03:43.544Z"
      },
      {
        "duration": 43,
        "start_time": "2023-02-10T11:03:43.571Z"
      },
      {
        "duration": 17,
        "start_time": "2023-02-10T11:03:43.617Z"
      },
      {
        "duration": 23,
        "start_time": "2023-02-10T11:03:43.636Z"
      },
      {
        "duration": 11,
        "start_time": "2023-02-10T11:03:43.661Z"
      },
      {
        "duration": 52,
        "start_time": "2023-02-10T11:03:43.674Z"
      },
      {
        "duration": 28,
        "start_time": "2023-02-10T11:03:43.728Z"
      },
      {
        "duration": 6,
        "start_time": "2023-02-10T11:03:43.757Z"
      },
      {
        "duration": 16,
        "start_time": "2023-02-10T11:03:43.764Z"
      },
      {
        "duration": 22,
        "start_time": "2023-02-10T11:03:43.782Z"
      },
      {
        "duration": 157,
        "start_time": "2023-02-10T11:03:43.806Z"
      },
      {
        "duration": 168,
        "start_time": "2023-02-10T11:03:43.965Z"
      },
      {
        "duration": 190,
        "start_time": "2023-02-10T11:03:44.136Z"
      },
      {
        "duration": 267,
        "start_time": "2023-02-10T11:03:44.327Z"
      },
      {
        "duration": 287,
        "start_time": "2023-02-10T11:03:44.596Z"
      },
      {
        "duration": 310,
        "start_time": "2023-02-10T11:03:44.886Z"
      },
      {
        "duration": 355,
        "start_time": "2023-02-10T11:03:45.197Z"
      },
      {
        "duration": 269,
        "start_time": "2023-02-10T11:03:45.554Z"
      },
      {
        "duration": 1144,
        "start_time": "2023-02-10T12:09:55.518Z"
      },
      {
        "duration": 3,
        "start_time": "2023-02-10T12:09:56.664Z"
      },
      {
        "duration": 123,
        "start_time": "2023-02-10T12:09:56.668Z"
      },
      {
        "duration": 44,
        "start_time": "2023-02-10T12:09:56.793Z"
      },
      {
        "duration": 35,
        "start_time": "2023-02-10T12:09:56.839Z"
      },
      {
        "duration": 13,
        "start_time": "2023-02-10T12:09:56.876Z"
      },
      {
        "duration": 57,
        "start_time": "2023-02-10T12:09:56.891Z"
      },
      {
        "duration": 14,
        "start_time": "2023-02-10T12:09:56.949Z"
      },
      {
        "duration": 9,
        "start_time": "2023-02-10T12:09:56.965Z"
      },
      {
        "duration": 4,
        "start_time": "2023-02-10T12:09:57.005Z"
      },
      {
        "duration": 274,
        "start_time": "2023-02-10T12:09:57.011Z"
      },
      {
        "duration": 19,
        "start_time": "2023-02-10T12:09:57.288Z"
      },
      {
        "duration": 28,
        "start_time": "2023-02-10T12:09:57.309Z"
      },
      {
        "duration": 31,
        "start_time": "2023-02-10T12:09:57.339Z"
      },
      {
        "duration": 43,
        "start_time": "2023-02-10T12:09:57.372Z"
      },
      {
        "duration": 23,
        "start_time": "2023-02-10T12:09:57.417Z"
      },
      {
        "duration": 15,
        "start_time": "2023-02-10T12:09:57.442Z"
      },
      {
        "duration": 59,
        "start_time": "2023-02-10T12:09:57.459Z"
      },
      {
        "duration": 28,
        "start_time": "2023-02-10T12:09:57.521Z"
      },
      {
        "duration": 6,
        "start_time": "2023-02-10T12:09:57.551Z"
      },
      {
        "duration": 12,
        "start_time": "2023-02-10T12:09:57.559Z"
      },
      {
        "duration": 35,
        "start_time": "2023-02-10T12:09:57.573Z"
      },
      {
        "duration": 158,
        "start_time": "2023-02-10T12:09:57.611Z"
      },
      {
        "duration": 151,
        "start_time": "2023-02-10T12:09:57.771Z"
      },
      {
        "duration": 174,
        "start_time": "2023-02-10T12:09:57.923Z"
      },
      {
        "duration": 258,
        "start_time": "2023-02-10T12:09:58.102Z"
      },
      {
        "duration": 295,
        "start_time": "2023-02-10T12:09:58.362Z"
      },
      {
        "duration": 306,
        "start_time": "2023-02-10T12:09:58.659Z"
      },
      {
        "duration": 368,
        "start_time": "2023-02-10T12:09:58.967Z"
      },
      {
        "duration": 295,
        "start_time": "2023-02-10T12:09:59.336Z"
      },
      {
        "duration": 40,
        "start_time": "2023-02-10T12:14:37.736Z"
      },
      {
        "duration": 56,
        "start_time": "2023-02-10T12:14:49.962Z"
      },
      {
        "duration": 6,
        "start_time": "2023-02-10T12:15:25.778Z"
      },
      {
        "duration": 6,
        "start_time": "2023-02-10T12:15:37.389Z"
      },
      {
        "duration": 5,
        "start_time": "2023-02-10T12:15:48.109Z"
      },
      {
        "duration": 107,
        "start_time": "2023-02-10T12:21:14.726Z"
      },
      {
        "duration": 10,
        "start_time": "2023-02-10T12:21:26.458Z"
      },
      {
        "duration": 10,
        "start_time": "2023-02-10T12:21:31.855Z"
      },
      {
        "duration": 10,
        "start_time": "2023-02-10T12:21:37.633Z"
      },
      {
        "duration": 126,
        "start_time": "2023-02-10T12:42:47.615Z"
      },
      {
        "duration": 127,
        "start_time": "2023-02-10T12:42:55.542Z"
      },
      {
        "duration": 253,
        "start_time": "2023-02-10T12:44:48.650Z"
      },
      {
        "duration": 224,
        "start_time": "2023-02-10T12:44:56.045Z"
      },
      {
        "duration": 243,
        "start_time": "2023-02-10T12:45:30.495Z"
      },
      {
        "duration": 123,
        "start_time": "2023-02-10T13:04:02.791Z"
      },
      {
        "duration": 1375,
        "start_time": "2023-02-18T12:17:28.799Z"
      },
      {
        "duration": 3,
        "start_time": "2023-02-18T12:17:30.177Z"
      },
      {
        "duration": 514,
        "start_time": "2023-02-18T12:17:30.577Z"
      },
      {
        "duration": 61,
        "start_time": "2023-02-18T12:17:31.172Z"
      },
      {
        "duration": 44,
        "start_time": "2023-02-18T12:17:31.623Z"
      },
      {
        "duration": 15,
        "start_time": "2023-02-18T12:17:33.625Z"
      },
      {
        "duration": 53,
        "start_time": "2023-02-18T12:17:34.170Z"
      },
      {
        "duration": 15,
        "start_time": "2023-02-18T12:17:38.626Z"
      },
      {
        "duration": 11,
        "start_time": "2023-02-18T12:17:40.165Z"
      },
      {
        "duration": 4,
        "start_time": "2023-02-18T12:17:40.591Z"
      },
      {
        "duration": 249,
        "start_time": "2023-02-18T12:17:41.477Z"
      },
      {
        "duration": 6,
        "start_time": "2023-02-18T12:17:41.935Z"
      },
      {
        "duration": 29,
        "start_time": "2023-02-18T12:17:54.377Z"
      },
      {
        "duration": 18,
        "start_time": "2023-02-18T12:17:54.957Z"
      },
      {
        "duration": 20,
        "start_time": "2023-02-18T12:17:55.629Z"
      },
      {
        "duration": 20,
        "start_time": "2023-02-18T12:18:00.642Z"
      },
      {
        "duration": 22,
        "start_time": "2023-02-18T12:20:45.189Z"
      },
      {
        "duration": 5,
        "start_time": "2023-02-18T12:22:11.727Z"
      },
      {
        "duration": 16,
        "start_time": "2023-02-18T12:22:14.451Z"
      },
      {
        "duration": 46,
        "start_time": "2023-02-18T12:22:51.596Z"
      },
      {
        "duration": 6,
        "start_time": "2023-02-18T12:23:01.611Z"
      },
      {
        "duration": 6,
        "start_time": "2023-02-18T12:23:07.163Z"
      },
      {
        "duration": 157,
        "start_time": "2023-02-18T12:23:10.661Z"
      },
      {
        "duration": 162,
        "start_time": "2023-02-18T12:25:34.962Z"
      },
      {
        "duration": 128,
        "start_time": "2023-02-18T12:26:02.610Z"
      },
      {
        "duration": 165,
        "start_time": "2023-02-18T12:26:06.510Z"
      },
      {
        "duration": 268,
        "start_time": "2023-02-18T12:26:09.705Z"
      },
      {
        "duration": 287,
        "start_time": "2023-02-18T12:26:13.868Z"
      },
      {
        "duration": 120,
        "start_time": "2023-02-18T12:29:32.621Z"
      },
      {
        "duration": 13,
        "start_time": "2023-02-18T12:29:42.243Z"
      },
      {
        "duration": 269,
        "start_time": "2023-02-18T12:31:12.586Z"
      },
      {
        "duration": 48,
        "start_time": "2023-02-18T12:31:30.608Z"
      },
      {
        "duration": 48,
        "start_time": "2023-02-18T12:31:41.328Z"
      },
      {
        "duration": 46,
        "start_time": "2023-02-18T12:31:48.962Z"
      },
      {
        "duration": 39,
        "start_time": "2023-02-18T12:31:56.220Z"
      },
      {
        "duration": 398,
        "start_time": "2023-02-18T12:32:15.729Z"
      },
      {
        "duration": 273,
        "start_time": "2023-02-18T12:32:32.169Z"
      },
      {
        "duration": 299,
        "start_time": "2023-02-18T12:32:55.754Z"
      },
      {
        "duration": 9,
        "start_time": "2023-02-18T12:33:13.529Z"
      },
      {
        "duration": 265,
        "start_time": "2023-02-18T12:33:19.037Z"
      },
      {
        "duration": 9,
        "start_time": "2023-02-18T12:34:06.054Z"
      },
      {
        "duration": 7,
        "start_time": "2023-02-18T12:34:12.880Z"
      },
      {
        "duration": 14,
        "start_time": "2023-02-18T12:34:31.880Z"
      },
      {
        "duration": 13,
        "start_time": "2023-02-18T12:34:43.894Z"
      },
      {
        "duration": 265,
        "start_time": "2023-02-18T12:35:09.253Z"
      },
      {
        "duration": 271,
        "start_time": "2023-02-18T12:37:05.596Z"
      },
      {
        "duration": 257,
        "start_time": "2023-02-18T12:37:34.778Z"
      },
      {
        "duration": 399,
        "start_time": "2023-02-18T12:38:27.518Z"
      },
      {
        "duration": 48,
        "start_time": "2023-02-18T12:39:14.670Z"
      },
      {
        "duration": 277,
        "start_time": "2023-02-18T12:39:22.319Z"
      },
      {
        "duration": 270,
        "start_time": "2023-02-18T12:39:30.959Z"
      },
      {
        "duration": 274,
        "start_time": "2023-02-18T12:40:06.155Z"
      },
      {
        "duration": 249,
        "start_time": "2023-02-18T12:40:22.778Z"
      },
      {
        "duration": 283,
        "start_time": "2023-02-18T12:40:35.029Z"
      },
      {
        "duration": 245,
        "start_time": "2023-02-18T12:41:31.297Z"
      },
      {
        "duration": 7,
        "start_time": "2023-02-18T12:46:07.654Z"
      },
      {
        "duration": 1290,
        "start_time": "2023-02-19T10:15:49.185Z"
      },
      {
        "duration": 3,
        "start_time": "2023-02-19T10:15:50.477Z"
      },
      {
        "duration": 251,
        "start_time": "2023-02-19T10:15:50.878Z"
      },
      {
        "duration": 437,
        "start_time": "2023-02-19T10:15:51.262Z"
      },
      {
        "duration": 33,
        "start_time": "2023-02-19T10:15:51.700Z"
      },
      {
        "duration": 17,
        "start_time": "2023-02-19T10:15:52.752Z"
      },
      {
        "duration": 49,
        "start_time": "2023-02-19T10:15:53.052Z"
      },
      {
        "duration": 14,
        "start_time": "2023-02-19T10:15:53.967Z"
      },
      {
        "duration": 9,
        "start_time": "2023-02-19T10:15:54.971Z"
      },
      {
        "duration": 4,
        "start_time": "2023-02-19T10:15:55.179Z"
      },
      {
        "duration": 234,
        "start_time": "2023-02-19T10:15:55.672Z"
      },
      {
        "duration": 7,
        "start_time": "2023-02-19T10:15:55.911Z"
      },
      {
        "duration": 22,
        "start_time": "2023-02-19T10:15:57.881Z"
      },
      {
        "duration": 24,
        "start_time": "2023-02-19T10:15:58.272Z"
      },
      {
        "duration": 16,
        "start_time": "2023-02-19T10:15:58.499Z"
      },
      {
        "duration": 21,
        "start_time": "2023-02-19T10:15:58.718Z"
      },
      {
        "duration": 22,
        "start_time": "2023-02-19T10:16:00.029Z"
      },
      {
        "duration": 20,
        "start_time": "2023-02-19T10:16:14.466Z"
      },
      {
        "duration": 23,
        "start_time": "2023-02-19T10:16:14.824Z"
      },
      {
        "duration": 8,
        "start_time": "2023-02-19T10:16:15.217Z"
      },
      {
        "duration": 7,
        "start_time": "2023-02-19T10:16:19.012Z"
      },
      {
        "duration": 11,
        "start_time": "2023-02-19T10:16:19.624Z"
      },
      {
        "duration": 6,
        "start_time": "2023-02-19T10:16:20.310Z"
      },
      {
        "duration": 139,
        "start_time": "2023-02-19T10:16:22.145Z"
      },
      {
        "duration": 1330,
        "start_time": "2023-02-19T17:09:46.518Z"
      },
      {
        "duration": 3,
        "start_time": "2023-02-19T17:09:47.851Z"
      },
      {
        "duration": 294,
        "start_time": "2023-02-19T17:09:47.856Z"
      },
      {
        "duration": 59,
        "start_time": "2023-02-19T17:09:48.154Z"
      },
      {
        "duration": 38,
        "start_time": "2023-02-19T17:09:48.214Z"
      },
      {
        "duration": 15,
        "start_time": "2023-02-19T17:09:48.254Z"
      },
      {
        "duration": 52,
        "start_time": "2023-02-19T17:09:48.270Z"
      },
      {
        "duration": 32,
        "start_time": "2023-02-19T17:09:48.324Z"
      },
      {
        "duration": 14,
        "start_time": "2023-02-19T17:09:48.358Z"
      },
      {
        "duration": 6,
        "start_time": "2023-02-19T17:09:48.376Z"
      },
      {
        "duration": 259,
        "start_time": "2023-02-19T17:09:48.384Z"
      },
      {
        "duration": 10,
        "start_time": "2023-02-19T17:09:48.645Z"
      },
      {
        "duration": 28,
        "start_time": "2023-02-19T17:09:48.657Z"
      },
      {
        "duration": 28,
        "start_time": "2023-02-19T17:09:48.686Z"
      },
      {
        "duration": 38,
        "start_time": "2023-02-19T17:09:48.716Z"
      },
      {
        "duration": 20,
        "start_time": "2023-02-19T17:09:48.756Z"
      },
      {
        "duration": 22,
        "start_time": "2023-02-19T17:09:48.778Z"
      },
      {
        "duration": 21,
        "start_time": "2023-02-19T17:09:48.802Z"
      },
      {
        "duration": 25,
        "start_time": "2023-02-19T17:09:48.853Z"
      },
      {
        "duration": 6,
        "start_time": "2023-02-19T17:09:48.880Z"
      },
      {
        "duration": 20,
        "start_time": "2023-02-19T17:09:48.888Z"
      },
      {
        "duration": 17,
        "start_time": "2023-02-19T17:09:48.910Z"
      },
      {
        "duration": 24,
        "start_time": "2023-02-19T17:09:48.929Z"
      },
      {
        "duration": 156,
        "start_time": "2023-02-19T17:09:48.955Z"
      },
      {
        "duration": 133,
        "start_time": "2023-02-19T17:09:49.113Z"
      },
      {
        "duration": 158,
        "start_time": "2023-02-19T17:09:49.255Z"
      },
      {
        "duration": 282,
        "start_time": "2023-02-19T17:09:49.415Z"
      },
      {
        "duration": 299,
        "start_time": "2023-02-19T17:09:49.702Z"
      },
      {
        "duration": 286,
        "start_time": "2023-02-19T17:09:50.003Z"
      },
      {
        "duration": 364,
        "start_time": "2023-02-19T17:09:50.291Z"
      },
      {
        "duration": 266,
        "start_time": "2023-02-19T17:09:50.657Z"
      },
      {
        "duration": 150,
        "start_time": "2023-02-19T17:12:46.694Z"
      },
      {
        "duration": 204,
        "start_time": "2023-02-19T17:13:19.455Z"
      },
      {
        "duration": 1297,
        "start_time": "2023-02-20T09:51:59.375Z"
      },
      {
        "duration": 3,
        "start_time": "2023-02-20T09:52:00.674Z"
      },
      {
        "duration": 307,
        "start_time": "2023-02-20T09:52:00.679Z"
      },
      {
        "duration": 59,
        "start_time": "2023-02-20T09:52:00.989Z"
      },
      {
        "duration": 35,
        "start_time": "2023-02-20T09:52:01.050Z"
      },
      {
        "duration": 14,
        "start_time": "2023-02-20T09:52:01.662Z"
      },
      {
        "duration": 46,
        "start_time": "2023-02-20T09:52:01.801Z"
      },
      {
        "duration": 13,
        "start_time": "2023-02-20T09:52:02.274Z"
      },
      {
        "duration": 9,
        "start_time": "2023-02-20T09:52:02.765Z"
      },
      {
        "duration": 5,
        "start_time": "2023-02-20T09:52:02.918Z"
      },
      {
        "duration": 204,
        "start_time": "2023-02-20T09:52:03.267Z"
      },
      {
        "duration": 6,
        "start_time": "2023-02-20T09:52:03.473Z"
      },
      {
        "duration": 19,
        "start_time": "2023-02-20T09:52:04.236Z"
      },
      {
        "duration": 24,
        "start_time": "2023-02-20T09:52:04.402Z"
      },
      {
        "duration": 16,
        "start_time": "2023-02-20T09:52:04.697Z"
      },
      {
        "duration": 19,
        "start_time": "2023-02-20T09:52:04.854Z"
      },
      {
        "duration": 25,
        "start_time": "2023-02-20T09:52:05.525Z"
      },
      {
        "duration": 26,
        "start_time": "2023-02-20T09:52:07.526Z"
      },
      {
        "duration": 29,
        "start_time": "2023-02-20T09:52:07.686Z"
      },
      {
        "duration": 7,
        "start_time": "2023-02-20T09:52:07.860Z"
      },
      {
        "duration": 6,
        "start_time": "2023-02-20T09:52:09.064Z"
      },
      {
        "duration": 10,
        "start_time": "2023-02-20T09:52:09.391Z"
      },
      {
        "duration": 5,
        "start_time": "2023-02-20T09:52:09.929Z"
      },
      {
        "duration": 139,
        "start_time": "2023-02-20T09:52:10.773Z"
      },
      {
        "duration": 132,
        "start_time": "2023-02-20T09:54:19.849Z"
      },
      {
        "duration": 5,
        "start_time": "2023-02-20T09:54:36.452Z"
      },
      {
        "duration": 17,
        "start_time": "2023-02-20T09:54:58.008Z"
      },
      {
        "duration": 163,
        "start_time": "2023-02-20T09:55:13.499Z"
      },
      {
        "duration": 222,
        "start_time": "2023-02-20T09:55:30.376Z"
      },
      {
        "duration": 196,
        "start_time": "2023-02-20T09:55:41.071Z"
      },
      {
        "duration": 74,
        "start_time": "2023-02-20T09:55:44.050Z"
      },
      {
        "duration": 190,
        "start_time": "2023-02-20T09:56:22.265Z"
      },
      {
        "duration": 5,
        "start_time": "2023-02-20T09:56:55.206Z"
      },
      {
        "duration": 715,
        "start_time": "2023-02-20T09:57:19.141Z"
      },
      {
        "duration": 81,
        "start_time": "2023-02-20T09:57:57.174Z"
      },
      {
        "duration": 6,
        "start_time": "2023-02-20T09:58:14.232Z"
      },
      {
        "duration": 11,
        "start_time": "2023-02-20T09:58:23.674Z"
      },
      {
        "duration": 142,
        "start_time": "2023-02-20T09:58:30.070Z"
      },
      {
        "duration": 75,
        "start_time": "2023-02-20T09:58:33.742Z"
      },
      {
        "duration": 75,
        "start_time": "2023-02-20T09:58:36.962Z"
      },
      {
        "duration": 2,
        "start_time": "2023-02-20T09:59:35.626Z"
      },
      {
        "duration": 3,
        "start_time": "2023-02-20T09:59:36.418Z"
      },
      {
        "duration": 112,
        "start_time": "2023-02-20T09:59:37.658Z"
      },
      {
        "duration": 40,
        "start_time": "2023-02-20T09:59:37.903Z"
      },
      {
        "duration": 36,
        "start_time": "2023-02-20T09:59:38.086Z"
      },
      {
        "duration": 15,
        "start_time": "2023-02-20T09:59:38.728Z"
      },
      {
        "duration": 47,
        "start_time": "2023-02-20T09:59:39.184Z"
      },
      {
        "duration": 14,
        "start_time": "2023-02-20T09:59:39.666Z"
      },
      {
        "duration": 9,
        "start_time": "2023-02-20T09:59:40.103Z"
      },
      {
        "duration": 4,
        "start_time": "2023-02-20T09:59:40.269Z"
      },
      {
        "duration": 198,
        "start_time": "2023-02-20T09:59:40.616Z"
      },
      {
        "duration": 8,
        "start_time": "2023-02-20T09:59:40.817Z"
      },
      {
        "duration": 19,
        "start_time": "2023-02-20T09:59:41.936Z"
      },
      {
        "duration": 26,
        "start_time": "2023-02-20T09:59:42.102Z"
      },
      {
        "duration": 16,
        "start_time": "2023-02-20T09:59:42.268Z"
      },
      {
        "duration": 20,
        "start_time": "2023-02-20T09:59:42.558Z"
      },
      {
        "duration": 19,
        "start_time": "2023-02-20T09:59:43.192Z"
      },
      {
        "duration": 18,
        "start_time": "2023-02-20T09:59:44.989Z"
      },
      {
        "duration": 22,
        "start_time": "2023-02-20T09:59:45.287Z"
      },
      {
        "duration": 7,
        "start_time": "2023-02-20T09:59:45.502Z"
      },
      {
        "duration": 6,
        "start_time": "2023-02-20T09:59:47.058Z"
      },
      {
        "duration": 10,
        "start_time": "2023-02-20T09:59:47.360Z"
      },
      {
        "duration": 7,
        "start_time": "2023-02-20T09:59:47.836Z"
      },
      {
        "duration": 4,
        "start_time": "2023-02-20T09:59:50.579Z"
      },
      {
        "duration": 167,
        "start_time": "2023-02-20T09:59:51.570Z"
      },
      {
        "duration": 113,
        "start_time": "2023-02-20T09:59:54.539Z"
      },
      {
        "duration": 848,
        "start_time": "2023-02-20T10:00:12.157Z"
      },
      {
        "duration": 749,
        "start_time": "2023-02-20T10:00:23.825Z"
      },
      {
        "duration": 4,
        "start_time": "2023-02-20T10:01:24.107Z"
      },
      {
        "duration": 5,
        "start_time": "2023-02-20T10:01:51.665Z"
      },
      {
        "duration": 15,
        "start_time": "2023-02-20T10:02:04.505Z"
      },
      {
        "duration": 16,
        "start_time": "2023-02-20T10:02:45.443Z"
      },
      {
        "duration": 801,
        "start_time": "2023-02-20T10:02:58.182Z"
      },
      {
        "duration": 16,
        "start_time": "2023-02-20T10:03:52.132Z"
      },
      {
        "duration": 156,
        "start_time": "2023-02-20T10:04:02.839Z"
      },
      {
        "duration": 79,
        "start_time": "2023-02-20T10:04:07.999Z"
      },
      {
        "duration": 12,
        "start_time": "2023-02-20T10:04:58.383Z"
      },
      {
        "duration": 67,
        "start_time": "2023-02-20T10:05:05.026Z"
      },
      {
        "duration": 203,
        "start_time": "2023-02-20T10:05:31.825Z"
      },
      {
        "duration": 79,
        "start_time": "2023-02-20T10:07:25.722Z"
      },
      {
        "duration": 191,
        "start_time": "2023-02-20T10:07:49.265Z"
      },
      {
        "duration": 191,
        "start_time": "2023-02-20T10:08:12.011Z"
      },
      {
        "duration": 145,
        "start_time": "2023-02-20T10:13:20.842Z"
      },
      {
        "duration": 140,
        "start_time": "2023-02-20T10:13:28.261Z"
      },
      {
        "duration": 86,
        "start_time": "2023-02-20T10:13:59.811Z"
      },
      {
        "duration": 7,
        "start_time": "2023-02-20T10:15:11.097Z"
      },
      {
        "duration": 149,
        "start_time": "2023-02-20T10:15:47.048Z"
      },
      {
        "duration": 6,
        "start_time": "2023-02-20T10:16:23.969Z"
      },
      {
        "duration": 21,
        "start_time": "2023-02-20T10:16:45.529Z"
      },
      {
        "duration": 7,
        "start_time": "2023-02-20T10:17:00.302Z"
      },
      {
        "duration": 20,
        "start_time": "2023-02-20T10:17:06.350Z"
      },
      {
        "duration": 4,
        "start_time": "2023-02-20T10:17:13.334Z"
      },
      {
        "duration": 215,
        "start_time": "2023-02-20T10:17:48.026Z"
      },
      {
        "duration": 224,
        "start_time": "2023-02-20T10:18:01.948Z"
      },
      {
        "duration": 4,
        "start_time": "2023-02-20T10:18:16.394Z"
      },
      {
        "duration": 33,
        "start_time": "2023-02-20T10:19:29.594Z"
      },
      {
        "duration": 7,
        "start_time": "2023-02-20T10:19:30.865Z"
      },
      {
        "duration": 5,
        "start_time": "2023-02-20T10:19:31.510Z"
      },
      {
        "duration": 35,
        "start_time": "2023-02-20T10:21:34.284Z"
      },
      {
        "duration": 5,
        "start_time": "2023-02-20T10:21:35.602Z"
      },
      {
        "duration": 4,
        "start_time": "2023-02-20T10:21:36.370Z"
      },
      {
        "duration": 177,
        "start_time": "2023-02-20T10:21:45.550Z"
      },
      {
        "duration": 26,
        "start_time": "2023-02-20T10:22:55.226Z"
      },
      {
        "duration": 4,
        "start_time": "2023-02-20T10:23:00.642Z"
      },
      {
        "duration": 6,
        "start_time": "2023-02-20T10:23:06.081Z"
      },
      {
        "duration": 5,
        "start_time": "2023-02-20T10:23:27.291Z"
      },
      {
        "duration": 289,
        "start_time": "2023-02-20T10:24:09.228Z"
      },
      {
        "duration": 14,
        "start_time": "2023-02-20T10:25:12.053Z"
      },
      {
        "duration": 6,
        "start_time": "2023-02-20T10:25:13.566Z"
      },
      {
        "duration": 4,
        "start_time": "2023-02-20T10:25:17.895Z"
      },
      {
        "duration": 5,
        "start_time": "2023-02-20T10:25:20.394Z"
      },
      {
        "duration": 152,
        "start_time": "2023-02-20T10:25:39.773Z"
      },
      {
        "duration": 141,
        "start_time": "2023-02-20T10:26:22.169Z"
      },
      {
        "duration": 5,
        "start_time": "2023-02-20T10:26:41.269Z"
      },
      {
        "duration": 13,
        "start_time": "2023-02-20T10:26:55.486Z"
      },
      {
        "duration": 142,
        "start_time": "2023-02-20T10:27:55.375Z"
      },
      {
        "duration": 272,
        "start_time": "2023-02-20T10:28:24.011Z"
      },
      {
        "duration": 17,
        "start_time": "2023-02-20T10:34:02.446Z"
      },
      {
        "duration": 4,
        "start_time": "2023-02-20T10:34:07.348Z"
      },
      {
        "duration": 22,
        "start_time": "2023-02-20T10:34:12.250Z"
      },
      {
        "duration": 4,
        "start_time": "2023-02-20T10:34:23.473Z"
      },
      {
        "duration": 8,
        "start_time": "2023-02-20T10:34:29.652Z"
      },
      {
        "duration": 6,
        "start_time": "2023-02-20T10:34:56.731Z"
      },
      {
        "duration": 19,
        "start_time": "2023-02-20T10:37:08.019Z"
      },
      {
        "duration": 5,
        "start_time": "2023-02-20T10:37:25.659Z"
      },
      {
        "duration": 195,
        "start_time": "2023-02-20T10:38:05.811Z"
      },
      {
        "duration": 192,
        "start_time": "2023-02-20T10:38:10.776Z"
      },
      {
        "duration": 9,
        "start_time": "2023-02-20T10:38:15.917Z"
      },
      {
        "duration": 4,
        "start_time": "2023-02-20T10:38:16.909Z"
      },
      {
        "duration": 6,
        "start_time": "2023-02-20T10:38:18.304Z"
      },
      {
        "duration": 187,
        "start_time": "2023-02-20T10:38:26.733Z"
      },
      {
        "duration": 139,
        "start_time": "2023-02-20T10:38:34.991Z"
      },
      {
        "duration": 154,
        "start_time": "2023-02-20T10:38:38.975Z"
      },
      {
        "duration": 203,
        "start_time": "2023-02-20T10:38:43.242Z"
      },
      {
        "duration": 258,
        "start_time": "2023-02-20T10:38:50.400Z"
      },
      {
        "duration": 5,
        "start_time": "2023-02-20T10:40:03.561Z"
      },
      {
        "duration": 14,
        "start_time": "2023-02-20T10:40:14.992Z"
      },
      {
        "duration": 4,
        "start_time": "2023-02-20T10:41:19.240Z"
      },
      {
        "duration": 12,
        "start_time": "2023-02-20T10:41:21.943Z"
      },
      {
        "duration": 174,
        "start_time": "2023-02-20T10:41:26.917Z"
      },
      {
        "duration": 139,
        "start_time": "2023-02-20T10:41:36.793Z"
      },
      {
        "duration": 1173,
        "start_time": "2023-02-20T10:42:14.701Z"
      },
      {
        "duration": 3,
        "start_time": "2023-02-20T10:42:15.879Z"
      },
      {
        "duration": 176,
        "start_time": "2023-02-20T10:42:16.108Z"
      },
      {
        "duration": 42,
        "start_time": "2023-02-20T10:42:17.089Z"
      },
      {
        "duration": 48,
        "start_time": "2023-02-20T10:42:17.373Z"
      },
      {
        "duration": 17,
        "start_time": "2023-02-20T10:42:18.431Z"
      },
      {
        "duration": 49,
        "start_time": "2023-02-20T10:42:18.588Z"
      },
      {
        "duration": 14,
        "start_time": "2023-02-20T10:42:19.098Z"
      },
      {
        "duration": 11,
        "start_time": "2023-02-20T10:42:19.579Z"
      },
      {
        "duration": 6,
        "start_time": "2023-02-20T10:42:19.739Z"
      },
      {
        "duration": 225,
        "start_time": "2023-02-20T10:42:20.073Z"
      },
      {
        "duration": 7,
        "start_time": "2023-02-20T10:42:20.300Z"
      },
      {
        "duration": 19,
        "start_time": "2023-02-20T10:42:21.262Z"
      },
      {
        "duration": 41,
        "start_time": "2023-02-20T10:42:21.439Z"
      },
      {
        "duration": 16,
        "start_time": "2023-02-20T10:42:21.606Z"
      },
      {
        "duration": 29,
        "start_time": "2023-02-20T10:42:21.787Z"
      },
      {
        "duration": 23,
        "start_time": "2023-02-20T10:42:22.513Z"
      },
      {
        "duration": 19,
        "start_time": "2023-02-20T10:42:24.075Z"
      },
      {
        "duration": 23,
        "start_time": "2023-02-20T10:42:24.254Z"
      },
      {
        "duration": 6,
        "start_time": "2023-02-20T10:42:24.522Z"
      },
      {
        "duration": 8,
        "start_time": "2023-02-20T10:42:26.019Z"
      },
      {
        "duration": 13,
        "start_time": "2023-02-20T10:42:26.481Z"
      },
      {
        "duration": 7,
        "start_time": "2023-02-20T10:42:27.049Z"
      },
      {
        "duration": 4,
        "start_time": "2023-02-20T10:42:32.558Z"
      },
      {
        "duration": 5,
        "start_time": "2023-02-20T10:42:33.154Z"
      },
      {
        "duration": 148,
        "start_time": "2023-02-20T10:42:33.777Z"
      },
      {
        "duration": 124,
        "start_time": "2023-02-20T10:42:38.649Z"
      },
      {
        "duration": 126,
        "start_time": "2023-02-20T10:42:41.876Z"
      },
      {
        "duration": 150,
        "start_time": "2023-02-20T10:42:42.954Z"
      },
      {
        "duration": 242,
        "start_time": "2023-02-20T10:42:44.418Z"
      },
      {
        "duration": 1111,
        "start_time": "2023-02-21T09:55:20.472Z"
      },
      {
        "duration": 3,
        "start_time": "2023-02-21T09:55:21.585Z"
      },
      {
        "duration": 296,
        "start_time": "2023-02-21T09:55:21.590Z"
      },
      {
        "duration": 63,
        "start_time": "2023-02-21T09:55:21.888Z"
      },
      {
        "duration": 33,
        "start_time": "2023-02-21T09:55:21.953Z"
      },
      {
        "duration": 13,
        "start_time": "2023-02-21T09:55:21.988Z"
      },
      {
        "duration": 65,
        "start_time": "2023-02-21T09:55:22.003Z"
      },
      {
        "duration": 12,
        "start_time": "2023-02-21T09:55:22.070Z"
      },
      {
        "duration": 10,
        "start_time": "2023-02-21T09:55:22.084Z"
      },
      {
        "duration": 9,
        "start_time": "2023-02-21T09:55:22.096Z"
      },
      {
        "duration": 238,
        "start_time": "2023-02-21T09:55:22.107Z"
      },
      {
        "duration": 7,
        "start_time": "2023-02-21T09:55:22.347Z"
      },
      {
        "duration": 22,
        "start_time": "2023-02-21T09:55:22.355Z"
      },
      {
        "duration": 24,
        "start_time": "2023-02-21T09:55:22.379Z"
      },
      {
        "duration": 38,
        "start_time": "2023-02-21T09:55:22.404Z"
      },
      {
        "duration": 19,
        "start_time": "2023-02-21T09:55:22.444Z"
      },
      {
        "duration": 20,
        "start_time": "2023-02-21T09:55:22.465Z"
      },
      {
        "duration": 49,
        "start_time": "2023-02-21T09:55:22.487Z"
      },
      {
        "duration": 32,
        "start_time": "2023-02-21T09:55:22.537Z"
      },
      {
        "duration": 8,
        "start_time": "2023-02-21T09:55:22.571Z"
      },
      {
        "duration": 10,
        "start_time": "2023-02-21T09:55:22.580Z"
      },
      {
        "duration": 35,
        "start_time": "2023-02-21T09:55:22.592Z"
      },
      {
        "duration": 13,
        "start_time": "2023-02-21T09:55:22.629Z"
      },
      {
        "duration": 9,
        "start_time": "2023-02-21T09:55:22.644Z"
      },
      {
        "duration": 9,
        "start_time": "2023-02-21T09:55:22.655Z"
      },
      {
        "duration": 167,
        "start_time": "2023-02-21T09:55:22.667Z"
      },
      {
        "duration": 133,
        "start_time": "2023-02-21T09:55:22.836Z"
      },
      {
        "duration": 167,
        "start_time": "2023-02-21T09:55:22.973Z"
      },
      {
        "duration": 246,
        "start_time": "2023-02-21T09:55:23.141Z"
      },
      {
        "duration": 277,
        "start_time": "2023-02-21T09:55:23.389Z"
      },
      {
        "duration": 273,
        "start_time": "2023-02-21T09:55:23.668Z"
      },
      {
        "duration": 358,
        "start_time": "2023-02-21T09:55:23.944Z"
      },
      {
        "duration": 268,
        "start_time": "2023-02-21T09:55:24.304Z"
      },
      {
        "duration": 147,
        "start_time": "2023-02-21T09:57:22.153Z"
      },
      {
        "duration": 10,
        "start_time": "2023-02-21T10:00:34.828Z"
      },
      {
        "duration": 6,
        "start_time": "2023-02-21T10:01:11.172Z"
      },
      {
        "duration": 1098,
        "start_time": "2023-02-21T10:03:11.984Z"
      },
      {
        "duration": 2,
        "start_time": "2023-02-21T10:03:13.085Z"
      },
      {
        "duration": 113,
        "start_time": "2023-02-21T10:03:13.089Z"
      },
      {
        "duration": 42,
        "start_time": "2023-02-21T10:03:13.204Z"
      },
      {
        "duration": 35,
        "start_time": "2023-02-21T10:03:13.247Z"
      },
      {
        "duration": 16,
        "start_time": "2023-02-21T10:03:13.283Z"
      },
      {
        "duration": 68,
        "start_time": "2023-02-21T10:03:13.300Z"
      },
      {
        "duration": 13,
        "start_time": "2023-02-21T10:03:13.370Z"
      },
      {
        "duration": 9,
        "start_time": "2023-02-21T10:03:13.384Z"
      },
      {
        "duration": 5,
        "start_time": "2023-02-21T10:03:13.395Z"
      },
      {
        "duration": 244,
        "start_time": "2023-02-21T10:03:13.401Z"
      },
      {
        "duration": 6,
        "start_time": "2023-02-21T10:03:13.647Z"
      },
      {
        "duration": 23,
        "start_time": "2023-02-21T10:03:13.655Z"
      },
      {
        "duration": 26,
        "start_time": "2023-02-21T10:03:13.680Z"
      },
      {
        "duration": 19,
        "start_time": "2023-02-21T10:03:13.726Z"
      },
      {
        "duration": 29,
        "start_time": "2023-02-21T10:03:13.746Z"
      },
      {
        "duration": 20,
        "start_time": "2023-02-21T10:03:13.776Z"
      },
      {
        "duration": 38,
        "start_time": "2023-02-21T10:03:13.798Z"
      },
      {
        "duration": 25,
        "start_time": "2023-02-21T10:03:13.838Z"
      },
      {
        "duration": 7,
        "start_time": "2023-02-21T10:03:13.864Z"
      },
      {
        "duration": 16,
        "start_time": "2023-02-21T10:03:13.873Z"
      },
      {
        "duration": 11,
        "start_time": "2023-02-21T10:03:13.890Z"
      },
      {
        "duration": 6,
        "start_time": "2023-02-21T10:03:13.927Z"
      },
      {
        "duration": 5,
        "start_time": "2023-02-21T10:03:13.935Z"
      },
      {
        "duration": 11,
        "start_time": "2023-02-21T10:03:13.941Z"
      },
      {
        "duration": 161,
        "start_time": "2023-02-21T10:03:13.954Z"
      },
      {
        "duration": 157,
        "start_time": "2023-02-21T10:03:14.117Z"
      },
      {
        "duration": 4,
        "start_time": "2023-02-21T10:03:14.277Z"
      },
      {
        "duration": 132,
        "start_time": "2023-02-21T10:03:14.283Z"
      },
      {
        "duration": 177,
        "start_time": "2023-02-21T10:03:14.417Z"
      },
      {
        "duration": 270,
        "start_time": "2023-02-21T10:03:14.595Z"
      },
      {
        "duration": 283,
        "start_time": "2023-02-21T10:03:14.867Z"
      },
      {
        "duration": 291,
        "start_time": "2023-02-21T10:03:15.152Z"
      },
      {
        "duration": 361,
        "start_time": "2023-02-21T10:03:15.445Z"
      },
      {
        "duration": 272,
        "start_time": "2023-02-21T10:03:15.808Z"
      },
      {
        "duration": 4,
        "start_time": "2023-02-21T10:03:40.434Z"
      },
      {
        "duration": 2,
        "start_time": "2023-02-21T10:03:40.943Z"
      },
      {
        "duration": 145,
        "start_time": "2023-02-21T10:03:41.382Z"
      },
      {
        "duration": 4,
        "start_time": "2023-02-21T10:03:44.587Z"
      },
      {
        "duration": 156,
        "start_time": "2023-02-21T10:03:45.005Z"
      },
      {
        "duration": 6,
        "start_time": "2023-02-21T10:04:17.023Z"
      },
      {
        "duration": 6,
        "start_time": "2023-02-21T10:04:22.488Z"
      },
      {
        "duration": 140,
        "start_time": "2023-02-21T10:05:00.944Z"
      },
      {
        "duration": 144,
        "start_time": "2023-02-21T10:05:07.182Z"
      },
      {
        "duration": 863,
        "start_time": "2023-03-15T10:51:44.120Z"
      },
      {
        "duration": 50,
        "start_time": "2023-03-15T10:51:55.774Z"
      },
      {
        "duration": 49,
        "start_time": "2023-03-15T10:52:24.559Z"
      },
      {
        "duration": 103,
        "start_time": "2023-03-15T10:52:54.372Z"
      },
      {
        "duration": 565,
        "start_time": "2023-03-15T10:54:18.875Z"
      },
      {
        "duration": 24,
        "start_time": "2023-03-15T10:54:20.306Z"
      },
      {
        "duration": 614,
        "start_time": "2023-03-15T10:56:35.439Z"
      },
      {
        "duration": 25,
        "start_time": "2023-03-15T10:56:36.927Z"
      },
      {
        "duration": 107,
        "start_time": "2023-03-15T10:57:55.168Z"
      },
      {
        "duration": 10,
        "start_time": "2023-03-15T10:58:29.778Z"
      }
    ],
    "colab": {
      "provenance": []
    },
    "kernelspec": {
      "display_name": "Python 3 (ipykernel)",
      "language": "python",
      "name": "python3"
    },
    "language_info": {
      "codemirror_mode": {
        "name": "ipython",
        "version": 3
      },
      "file_extension": ".py",
      "mimetype": "text/x-python",
      "name": "python",
      "nbconvert_exporter": "python",
      "pygments_lexer": "ipython3",
      "version": "3.9.5"
    },
    "toc": {
      "base_numbering": 1,
      "nav_menu": {},
      "number_sections": true,
      "sideBar": true,
      "skip_h1_title": true,
      "title_cell": "Table of Contents",
      "title_sidebar": "Contents",
      "toc_cell": false,
      "toc_position": {
        "height": "calc(100% - 180px)",
        "left": "10px",
        "top": "150px",
        "width": "375.391px"
      },
      "toc_section_display": true,
      "toc_window_display": true
    }
  },
  "nbformat": 4,
  "nbformat_minor": 0
}